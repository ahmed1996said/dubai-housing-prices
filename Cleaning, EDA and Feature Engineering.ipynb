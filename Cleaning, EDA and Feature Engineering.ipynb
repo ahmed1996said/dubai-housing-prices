{
 "cells": [
  {
   "cell_type": "code",
   "execution_count": 30,
   "id": "e625107a",
   "metadata": {},
   "outputs": [],
   "source": [
    "import pandas as pd\n",
    "import glob\n",
    "import seaborn as sns\n",
    "import matplotlib.pyplot as plt\n",
    "import numpy as np"
   ]
  },
  {
   "cell_type": "markdown",
   "id": "d653c020",
   "metadata": {},
   "source": [
    "### Read CSVs\n",
    "I'm combining multiple CSVs that scraped Bayut website at different times"
   ]
  },
  {
   "cell_type": "code",
   "execution_count": 31,
   "id": "1425eea9",
   "metadata": {},
   "outputs": [
    {
     "data": {
      "text/plain": [
       "['properties_dubai_furnished=all_2022-11-20 20:03:38.csv',\n",
       " 'properties_dubai_furnished=all_2022-11-19 06:15:57.csv',\n",
       " 'properties_dubai_furnished=all_2022-11-19 07:19:22.csv',\n",
       " 'properties_dubai_furnished=all_2022-11-19 02:22:30.csv',\n",
       " 'properties_dubai_furnished=all_2022-11-19 05:36:05.csv',\n",
       " 'properties_dubai_furnished=all_2022-11-19 06:17:58.csv']"
      ]
     },
     "execution_count": 31,
     "metadata": {},
     "output_type": "execute_result"
    }
   ],
   "source": [
    "csvs= glob.glob(\"*.csv\")\n",
    "csvs.remove('properties_dubai_furnished=all_simple.csv')\n",
    "csvs.remove('properties_cleaned_engineered.csv')\n",
    "csvs"
   ]
  },
  {
   "cell_type": "code",
   "execution_count": 32,
   "id": "05208a09",
   "metadata": {},
   "outputs": [
    {
     "name": "stdout",
     "output_type": "stream",
     "text": [
      "Dataframe 1 has 36576 rows.\n",
      "\n",
      "Dataframe 2 has 38215 rows.\n",
      "\n",
      "Dataframe 3 has 38359 rows.\n",
      "\n",
      "Dataframe 4 has 38325 rows.\n",
      "\n",
      "Dataframe 5 has 38335 rows.\n",
      "\n",
      "Dataframe 6 has 38335 rows.\n",
      "\n"
     ]
    }
   ],
   "source": [
    "dfs = [pd.read_csv(i) for i in csvs]\n",
    "for i,df in enumerate(dfs):\n",
    "    print(f\"Dataframe {i+1} has {len(df)} rows.\\n\")"
   ]
  },
  {
   "cell_type": "markdown",
   "id": "36ea7edc",
   "metadata": {},
   "source": [
    "#### Combine all dataframes into one, and drop any duplicates"
   ]
  },
  {
   "cell_type": "code",
   "execution_count": 33,
   "id": "c87ce573",
   "metadata": {},
   "outputs": [
    {
     "data": {
      "text/html": [
       "<div>\n",
       "<style scoped>\n",
       "    .dataframe tbody tr th:only-of-type {\n",
       "        vertical-align: middle;\n",
       "    }\n",
       "\n",
       "    .dataframe tbody tr th {\n",
       "        vertical-align: top;\n",
       "    }\n",
       "\n",
       "    .dataframe thead th {\n",
       "        text-align: right;\n",
       "    }\n",
       "</style>\n",
       "<table border=\"1\" class=\"dataframe\">\n",
       "  <thead>\n",
       "    <tr style=\"text-align: right;\">\n",
       "      <th></th>\n",
       "      <th>bedrooms</th>\n",
       "      <th>bathrooms</th>\n",
       "      <th>area</th>\n",
       "      <th>prices</th>\n",
       "      <th>locations</th>\n",
       "      <th>property_types</th>\n",
       "      <th>property_keywords</th>\n",
       "      <th>description</th>\n",
       "      <th>amenities</th>\n",
       "    </tr>\n",
       "  </thead>\n",
       "  <tbody>\n",
       "    <tr>\n",
       "      <th>0</th>\n",
       "      <td>1</td>\n",
       "      <td>2</td>\n",
       "      <td>1,295 sqft</td>\n",
       "      <td>160,000</td>\n",
       "      <td>Ashjar, Al Barari, Dubai</td>\n",
       "      <td>Apartment</td>\n",
       "      <td>Ground Floor | Available Now | 1 Bedroom</td>\n",
       "      <td>Brand new one bedroom apartment in The Neighbo...</td>\n",
       "      <td>Balcony or Terrace</td>\n",
       "    </tr>\n",
       "    <tr>\n",
       "      <th>1</th>\n",
       "      <td>1</td>\n",
       "      <td>2</td>\n",
       "      <td>883 sqft</td>\n",
       "      <td>77,990</td>\n",
       "      <td>Loreto 3B, Loreto B, Loreto, DAMAC Hills, Dubai</td>\n",
       "      <td>Apartment</td>\n",
       "      <td>Brand New Furniture Vacant | 8,000AED / Month</td>\n",
       "      <td>Brand new one bedroom apartment in The Neighbo...</td>\n",
       "      <td>Balcony or Terrace</td>\n",
       "    </tr>\n",
       "    <tr>\n",
       "      <th>2</th>\n",
       "      <td>1</td>\n",
       "      <td>2</td>\n",
       "      <td>864 sqft</td>\n",
       "      <td>72,999</td>\n",
       "      <td>Mag 218 Tower, Dubai Marina, Dubai</td>\n",
       "      <td>Apartment</td>\n",
       "      <td>BEST PRICE | UNFURNISHED | LOW FLOOR</td>\n",
       "      <td>Brand new one bedroom apartment in The Neighbo...</td>\n",
       "      <td>Balcony or Terrace</td>\n",
       "    </tr>\n",
       "    <tr>\n",
       "      <th>3</th>\n",
       "      <td>2</td>\n",
       "      <td>3</td>\n",
       "      <td>8,425 sqft</td>\n",
       "      <td>200,000</td>\n",
       "      <td>Nakheel Villas, Jumeirah Village Circle (JVC),...</td>\n",
       "      <td>Villa</td>\n",
       "      <td>2BR+ Maid Room | Upgraded Interior with Turkis...</td>\n",
       "      <td>Brand new one bedroom apartment in The Neighbo...</td>\n",
       "      <td>Balcony or Terrace</td>\n",
       "    </tr>\n",
       "    <tr>\n",
       "      <th>4</th>\n",
       "      <td>2</td>\n",
       "      <td>2</td>\n",
       "      <td>1,200 sqft</td>\n",
       "      <td>60,000</td>\n",
       "      <td>Rose 1 Building, Al Mankhool, Bur Dubai, Dubai</td>\n",
       "      <td>Apartment</td>\n",
       "      <td>Family Building Well Maintained 2BHK Apartment...</td>\n",
       "      <td>Brand new one bedroom apartment in The Neighbo...</td>\n",
       "      <td>Balcony or Terrace</td>\n",
       "    </tr>\n",
       "    <tr>\n",
       "      <th>...</th>\n",
       "      <td>...</td>\n",
       "      <td>...</td>\n",
       "      <td>...</td>\n",
       "      <td>...</td>\n",
       "      <td>...</td>\n",
       "      <td>...</td>\n",
       "      <td>...</td>\n",
       "      <td>...</td>\n",
       "      <td>...</td>\n",
       "    </tr>\n",
       "    <tr>\n",
       "      <th>38330</th>\n",
       "      <td>1</td>\n",
       "      <td>1</td>\n",
       "      <td>784 sqft</td>\n",
       "      <td>39,999</td>\n",
       "      <td>Muhaisnah 4, Muhaisnah, Dubai</td>\n",
       "      <td>Apartment</td>\n",
       "      <td>Ready To Move | Pay Monthly | 24x7 Call Centre</td>\n",
       "      <td>wasl ivoryDED# 619683</td>\n",
       "      <td>-1</td>\n",
       "    </tr>\n",
       "    <tr>\n",
       "      <th>38331</th>\n",
       "      <td>5</td>\n",
       "      <td>6</td>\n",
       "      <td>7,000 sqft</td>\n",
       "      <td>220,000</td>\n",
       "      <td>Jumeirah 3, Jumeirah, Dubai</td>\n",
       "      <td>Villa</td>\n",
       "      <td>Beautifully maintained: 5 b/r semi-independent...</td>\n",
       "      <td>wasl ivoryDED# 619683</td>\n",
       "      <td>-1</td>\n",
       "    </tr>\n",
       "    <tr>\n",
       "      <th>38332</th>\n",
       "      <td>5</td>\n",
       "      <td>6</td>\n",
       "      <td>15,000 sqft</td>\n",
       "      <td>220,000</td>\n",
       "      <td>Al Barsha 2, Al Barsha, Dubai</td>\n",
       "      <td>Villa</td>\n",
       "      <td>Private swimming pool and stunning landscaped ...</td>\n",
       "      <td>wasl ivoryDED# 619683</td>\n",
       "      <td>-1</td>\n",
       "    </tr>\n",
       "    <tr>\n",
       "      <th>38333</th>\n",
       "      <td>2</td>\n",
       "      <td>2</td>\n",
       "      <td>1,100 sqft</td>\n",
       "      <td>68,000</td>\n",
       "      <td>Sheikh Hamdan Colony, Al Karama, Dubai</td>\n",
       "      <td>Apartment</td>\n",
       "      <td>Spacious 2 BHK for family in Al Karama</td>\n",
       "      <td>wasl ivoryDED# 619683</td>\n",
       "      <td>-1</td>\n",
       "    </tr>\n",
       "    <tr>\n",
       "      <th>38334</th>\n",
       "      <td>Studio</td>\n",
       "      <td>1</td>\n",
       "      <td>250 sqft</td>\n",
       "      <td>18,000</td>\n",
       "      <td>Al Baraha, Deira, Dubai</td>\n",
       "      <td>Apartment</td>\n",
       "      <td>Quality Studio Behind Etisalat Office Baraha</td>\n",
       "      <td>wasl ivoryDED# 619683</td>\n",
       "      <td>-1</td>\n",
       "    </tr>\n",
       "  </tbody>\n",
       "</table>\n",
       "<p>228145 rows × 9 columns</p>\n",
       "</div>"
      ],
      "text/plain": [
       "      bedrooms bathrooms         area   prices  \\\n",
       "0            1         2   1,295 sqft  160,000   \n",
       "1            1         2     883 sqft   77,990   \n",
       "2            1         2     864 sqft   72,999   \n",
       "3            2         3   8,425 sqft  200,000   \n",
       "4            2         2   1,200 sqft   60,000   \n",
       "...        ...       ...          ...      ...   \n",
       "38330        1         1     784 sqft   39,999   \n",
       "38331        5         6   7,000 sqft  220,000   \n",
       "38332        5         6  15,000 sqft  220,000   \n",
       "38333        2         2   1,100 sqft   68,000   \n",
       "38334   Studio         1     250 sqft   18,000   \n",
       "\n",
       "                                               locations property_types  \\\n",
       "0                               Ashjar, Al Barari, Dubai      Apartment   \n",
       "1        Loreto 3B, Loreto B, Loreto, DAMAC Hills, Dubai      Apartment   \n",
       "2                     Mag 218 Tower, Dubai Marina, Dubai      Apartment   \n",
       "3      Nakheel Villas, Jumeirah Village Circle (JVC),...          Villa   \n",
       "4         Rose 1 Building, Al Mankhool, Bur Dubai, Dubai      Apartment   \n",
       "...                                                  ...            ...   \n",
       "38330                      Muhaisnah 4, Muhaisnah, Dubai      Apartment   \n",
       "38331                        Jumeirah 3, Jumeirah, Dubai          Villa   \n",
       "38332                      Al Barsha 2, Al Barsha, Dubai          Villa   \n",
       "38333             Sheikh Hamdan Colony, Al Karama, Dubai      Apartment   \n",
       "38334                            Al Baraha, Deira, Dubai      Apartment   \n",
       "\n",
       "                                       property_keywords  \\\n",
       "0               Ground Floor | Available Now | 1 Bedroom   \n",
       "1          Brand New Furniture Vacant | 8,000AED / Month   \n",
       "2                   BEST PRICE | UNFURNISHED | LOW FLOOR   \n",
       "3      2BR+ Maid Room | Upgraded Interior with Turkis...   \n",
       "4      Family Building Well Maintained 2BHK Apartment...   \n",
       "...                                                  ...   \n",
       "38330     Ready To Move | Pay Monthly | 24x7 Call Centre   \n",
       "38331  Beautifully maintained: 5 b/r semi-independent...   \n",
       "38332  Private swimming pool and stunning landscaped ...   \n",
       "38333             Spacious 2 BHK for family in Al Karama   \n",
       "38334       Quality Studio Behind Etisalat Office Baraha   \n",
       "\n",
       "                                             description           amenities  \n",
       "0      Brand new one bedroom apartment in The Neighbo...  Balcony or Terrace  \n",
       "1      Brand new one bedroom apartment in The Neighbo...  Balcony or Terrace  \n",
       "2      Brand new one bedroom apartment in The Neighbo...  Balcony or Terrace  \n",
       "3      Brand new one bedroom apartment in The Neighbo...  Balcony or Terrace  \n",
       "4      Brand new one bedroom apartment in The Neighbo...  Balcony or Terrace  \n",
       "...                                                  ...                 ...  \n",
       "38330                              wasl ivoryDED# 619683                  -1  \n",
       "38331                              wasl ivoryDED# 619683                  -1  \n",
       "38332                              wasl ivoryDED# 619683                  -1  \n",
       "38333                              wasl ivoryDED# 619683                  -1  \n",
       "38334                              wasl ivoryDED# 619683                  -1  \n",
       "\n",
       "[228145 rows x 9 columns]"
      ]
     },
     "execution_count": 33,
     "metadata": {},
     "output_type": "execute_result"
    }
   ],
   "source": [
    "df = pd.concat(dfs)\n",
    "df"
   ]
  },
  {
   "cell_type": "code",
   "execution_count": 34,
   "id": "a82709d3",
   "metadata": {},
   "outputs": [
    {
     "data": {
      "text/html": [
       "<div>\n",
       "<style scoped>\n",
       "    .dataframe tbody tr th:only-of-type {\n",
       "        vertical-align: middle;\n",
       "    }\n",
       "\n",
       "    .dataframe tbody tr th {\n",
       "        vertical-align: top;\n",
       "    }\n",
       "\n",
       "    .dataframe thead th {\n",
       "        text-align: right;\n",
       "    }\n",
       "</style>\n",
       "<table border=\"1\" class=\"dataframe\">\n",
       "  <thead>\n",
       "    <tr style=\"text-align: right;\">\n",
       "      <th></th>\n",
       "      <th>bedrooms</th>\n",
       "      <th>bathrooms</th>\n",
       "      <th>area</th>\n",
       "      <th>prices</th>\n",
       "      <th>locations</th>\n",
       "      <th>property_types</th>\n",
       "      <th>property_keywords</th>\n",
       "      <th>description</th>\n",
       "      <th>amenities</th>\n",
       "    </tr>\n",
       "  </thead>\n",
       "  <tbody>\n",
       "    <tr>\n",
       "      <th>0</th>\n",
       "      <td>1</td>\n",
       "      <td>2</td>\n",
       "      <td>1,295 sqft</td>\n",
       "      <td>160,000</td>\n",
       "      <td>Ashjar, Al Barari, Dubai</td>\n",
       "      <td>Apartment</td>\n",
       "      <td>Ground Floor | Available Now | 1 Bedroom</td>\n",
       "      <td>Brand new one bedroom apartment in The Neighbo...</td>\n",
       "      <td>Balcony or Terrace</td>\n",
       "    </tr>\n",
       "    <tr>\n",
       "      <th>1</th>\n",
       "      <td>1</td>\n",
       "      <td>2</td>\n",
       "      <td>883 sqft</td>\n",
       "      <td>77,990</td>\n",
       "      <td>Loreto 3B, Loreto B, Loreto, DAMAC Hills, Dubai</td>\n",
       "      <td>Apartment</td>\n",
       "      <td>Brand New Furniture Vacant | 8,000AED / Month</td>\n",
       "      <td>Brand new one bedroom apartment in The Neighbo...</td>\n",
       "      <td>Balcony or Terrace</td>\n",
       "    </tr>\n",
       "    <tr>\n",
       "      <th>2</th>\n",
       "      <td>1</td>\n",
       "      <td>2</td>\n",
       "      <td>864 sqft</td>\n",
       "      <td>72,999</td>\n",
       "      <td>Mag 218 Tower, Dubai Marina, Dubai</td>\n",
       "      <td>Apartment</td>\n",
       "      <td>BEST PRICE | UNFURNISHED | LOW FLOOR</td>\n",
       "      <td>Brand new one bedroom apartment in The Neighbo...</td>\n",
       "      <td>Balcony or Terrace</td>\n",
       "    </tr>\n",
       "    <tr>\n",
       "      <th>3</th>\n",
       "      <td>2</td>\n",
       "      <td>3</td>\n",
       "      <td>8,425 sqft</td>\n",
       "      <td>200,000</td>\n",
       "      <td>Nakheel Villas, Jumeirah Village Circle (JVC),...</td>\n",
       "      <td>Villa</td>\n",
       "      <td>2BR+ Maid Room | Upgraded Interior with Turkis...</td>\n",
       "      <td>Brand new one bedroom apartment in The Neighbo...</td>\n",
       "      <td>Balcony or Terrace</td>\n",
       "    </tr>\n",
       "    <tr>\n",
       "      <th>4</th>\n",
       "      <td>2</td>\n",
       "      <td>2</td>\n",
       "      <td>1,200 sqft</td>\n",
       "      <td>60,000</td>\n",
       "      <td>Rose 1 Building, Al Mankhool, Bur Dubai, Dubai</td>\n",
       "      <td>Apartment</td>\n",
       "      <td>Family Building Well Maintained 2BHK Apartment...</td>\n",
       "      <td>Brand new one bedroom apartment in The Neighbo...</td>\n",
       "      <td>Balcony or Terrace</td>\n",
       "    </tr>\n",
       "    <tr>\n",
       "      <th>...</th>\n",
       "      <td>...</td>\n",
       "      <td>...</td>\n",
       "      <td>...</td>\n",
       "      <td>...</td>\n",
       "      <td>...</td>\n",
       "      <td>...</td>\n",
       "      <td>...</td>\n",
       "      <td>...</td>\n",
       "      <td>...</td>\n",
       "    </tr>\n",
       "    <tr>\n",
       "      <th>38203</th>\n",
       "      <td>4</td>\n",
       "      <td>4</td>\n",
       "      <td>2,387 sqft</td>\n",
       "      <td>265,000</td>\n",
       "      <td>Maple At Dubai Hills Estate 2, Maple at Dubai ...</td>\n",
       "      <td>Villa</td>\n",
       "      <td>3M | CLOSE TO POOL | GREEN BELT | COMING UP SOON</td>\n",
       "      <td>ALSO AVAILABLE FOR SHORT TERM RENT. White and ...</td>\n",
       "      <td>-1</td>\n",
       "    </tr>\n",
       "    <tr>\n",
       "      <th>38204</th>\n",
       "      <td>1</td>\n",
       "      <td>1</td>\n",
       "      <td>800 sqft</td>\n",
       "      <td>33,000</td>\n",
       "      <td>Al Warqaa, Dubai</td>\n",
       "      <td>Apartment</td>\n",
       "      <td>SPACIOUS 1BHK ONE MONTH FREE GYM POOL PARKING ...</td>\n",
       "      <td>ALSO AVAILABLE FOR SHORT TERM RENT. White and ...</td>\n",
       "      <td>-1</td>\n",
       "    </tr>\n",
       "    <tr>\n",
       "      <th>38205</th>\n",
       "      <td>4</td>\n",
       "      <td>5</td>\n",
       "      <td>7,437 sqft</td>\n",
       "      <td>700,000</td>\n",
       "      <td>Golf Place I, Golf Place, Dubai Hills Estate, ...</td>\n",
       "      <td>Villa</td>\n",
       "      <td>Brand New 4 Bedroom Villa for Rent</td>\n",
       "      <td>ALSO AVAILABLE FOR SHORT TERM RENT. White and ...</td>\n",
       "      <td>-1</td>\n",
       "    </tr>\n",
       "    <tr>\n",
       "      <th>38206</th>\n",
       "      <td>1</td>\n",
       "      <td>1</td>\n",
       "      <td>450 sqft</td>\n",
       "      <td>28,000</td>\n",
       "      <td>Hor Al Anz, Deira, Dubai</td>\n",
       "      <td>Apartment</td>\n",
       "      <td>1BEDROOM HALL FLAT W/AC FAMILY ONLY AVAILABLE ...</td>\n",
       "      <td>ALSO AVAILABLE FOR SHORT TERM RENT. White and ...</td>\n",
       "      <td>-1</td>\n",
       "    </tr>\n",
       "    <tr>\n",
       "      <th>38207</th>\n",
       "      <td>2</td>\n",
       "      <td>2</td>\n",
       "      <td>1,422 sqft</td>\n",
       "      <td>170,000</td>\n",
       "      <td>Sadaf, Jumeirah Beach Residence (JBR), Dubai</td>\n",
       "      <td>Apartment</td>\n",
       "      <td>Fully upgraded l Fully furnished l Vacant</td>\n",
       "      <td>ALSO AVAILABLE FOR SHORT TERM RENT. White and ...</td>\n",
       "      <td>-1</td>\n",
       "    </tr>\n",
       "  </tbody>\n",
       "</table>\n",
       "<p>205931 rows × 9 columns</p>\n",
       "</div>"
      ],
      "text/plain": [
       "      bedrooms bathrooms        area   prices  \\\n",
       "0            1         2  1,295 sqft  160,000   \n",
       "1            1         2    883 sqft   77,990   \n",
       "2            1         2    864 sqft   72,999   \n",
       "3            2         3  8,425 sqft  200,000   \n",
       "4            2         2  1,200 sqft   60,000   \n",
       "...        ...       ...         ...      ...   \n",
       "38203        4         4  2,387 sqft  265,000   \n",
       "38204        1         1    800 sqft   33,000   \n",
       "38205        4         5  7,437 sqft  700,000   \n",
       "38206        1         1    450 sqft   28,000   \n",
       "38207        2         2  1,422 sqft  170,000   \n",
       "\n",
       "                                               locations property_types  \\\n",
       "0                               Ashjar, Al Barari, Dubai      Apartment   \n",
       "1        Loreto 3B, Loreto B, Loreto, DAMAC Hills, Dubai      Apartment   \n",
       "2                     Mag 218 Tower, Dubai Marina, Dubai      Apartment   \n",
       "3      Nakheel Villas, Jumeirah Village Circle (JVC),...          Villa   \n",
       "4         Rose 1 Building, Al Mankhool, Bur Dubai, Dubai      Apartment   \n",
       "...                                                  ...            ...   \n",
       "38203  Maple At Dubai Hills Estate 2, Maple at Dubai ...          Villa   \n",
       "38204                                   Al Warqaa, Dubai      Apartment   \n",
       "38205  Golf Place I, Golf Place, Dubai Hills Estate, ...          Villa   \n",
       "38206                           Hor Al Anz, Deira, Dubai      Apartment   \n",
       "38207       Sadaf, Jumeirah Beach Residence (JBR), Dubai      Apartment   \n",
       "\n",
       "                                       property_keywords  \\\n",
       "0               Ground Floor | Available Now | 1 Bedroom   \n",
       "1          Brand New Furniture Vacant | 8,000AED / Month   \n",
       "2                   BEST PRICE | UNFURNISHED | LOW FLOOR   \n",
       "3      2BR+ Maid Room | Upgraded Interior with Turkis...   \n",
       "4      Family Building Well Maintained 2BHK Apartment...   \n",
       "...                                                  ...   \n",
       "38203   3M | CLOSE TO POOL | GREEN BELT | COMING UP SOON   \n",
       "38204  SPACIOUS 1BHK ONE MONTH FREE GYM POOL PARKING ...   \n",
       "38205                 Brand New 4 Bedroom Villa for Rent   \n",
       "38206  1BEDROOM HALL FLAT W/AC FAMILY ONLY AVAILABLE ...   \n",
       "38207          Fully upgraded l Fully furnished l Vacant   \n",
       "\n",
       "                                             description           amenities  \n",
       "0      Brand new one bedroom apartment in The Neighbo...  Balcony or Terrace  \n",
       "1      Brand new one bedroom apartment in The Neighbo...  Balcony or Terrace  \n",
       "2      Brand new one bedroom apartment in The Neighbo...  Balcony or Terrace  \n",
       "3      Brand new one bedroom apartment in The Neighbo...  Balcony or Terrace  \n",
       "4      Brand new one bedroom apartment in The Neighbo...  Balcony or Terrace  \n",
       "...                                                  ...                 ...  \n",
       "38203  ALSO AVAILABLE FOR SHORT TERM RENT. White and ...                  -1  \n",
       "38204  ALSO AVAILABLE FOR SHORT TERM RENT. White and ...                  -1  \n",
       "38205  ALSO AVAILABLE FOR SHORT TERM RENT. White and ...                  -1  \n",
       "38206  ALSO AVAILABLE FOR SHORT TERM RENT. White and ...                  -1  \n",
       "38207  ALSO AVAILABLE FOR SHORT TERM RENT. White and ...                  -1  \n",
       "\n",
       "[205931 rows x 9 columns]"
      ]
     },
     "execution_count": 34,
     "metadata": {},
     "output_type": "execute_result"
    }
   ],
   "source": [
    "df = df.drop_duplicates()\n",
    "df"
   ]
  },
  {
   "cell_type": "markdown",
   "id": "d8bf526f",
   "metadata": {},
   "source": [
    "#### Let's remove the rows without area and price"
   ]
  },
  {
   "cell_type": "code",
   "execution_count": 35,
   "id": "db0d21da",
   "metadata": {},
   "outputs": [
    {
     "name": "stdout",
     "output_type": "stream",
     "text": [
      "196291\n"
     ]
    }
   ],
   "source": [
    "df = df.drop(index=df[df.area == '-1'].index)\n",
    "df = df.drop(index=df[df.prices == '-1'].index)\n",
    "print(len(df))"
   ]
  },
  {
   "cell_type": "code",
   "execution_count": 36,
   "id": "7f53f4db",
   "metadata": {},
   "outputs": [
    {
     "data": {
      "text/plain": [
       "1         59787\n",
       "2         57596\n",
       "3         28406\n",
       "Studio    23347\n",
       "4         11747\n",
       "5         10935\n",
       "6          2665\n",
       "7           890\n",
       "8           462\n",
       "10          144\n",
       "9           135\n",
       "12           71\n",
       "21           28\n",
       "11           24\n",
       "16           13\n",
       "14           11\n",
       "18            8\n",
       "13            7\n",
       "17            6\n",
       "15            5\n",
       "20            4\n",
       "Name: bedrooms, dtype: int64"
      ]
     },
     "execution_count": 36,
     "metadata": {},
     "output_type": "execute_result"
    }
   ],
   "source": [
    "df['bedrooms'].value_counts()"
   ]
  },
  {
   "cell_type": "markdown",
   "id": "1e9c321a",
   "metadata": {},
   "source": [
    "Seems like there's a few properties with >7 bedrooms, which is a bit odd.. Let's investigate"
   ]
  },
  {
   "cell_type": "code",
   "execution_count": 37,
   "id": "7f5d7a6d",
   "metadata": {},
   "outputs": [
    {
     "data": {
      "text/plain": [
       "Apartment               156709\n",
       "Villa                    30906\n",
       "Townhouse                 6116\n",
       "Hotel Apartment           1694\n",
       "Penthouse                  752\n",
       "Residential Floor           46\n",
       "Villa Compound              44\n",
       "Residential Building        24\n",
       "Name: property_types, dtype: int64"
      ]
     },
     "execution_count": 37,
     "metadata": {},
     "output_type": "execute_result"
    }
   ],
   "source": [
    "df['property_types'].value_counts()"
   ]
  },
  {
   "cell_type": "markdown",
   "id": "5aaf3e8e",
   "metadata": {},
   "source": [
    "Ok there it is, some listings are actual entire buildings (and residential floors?) ! I'm not interested in those, so let's remove them.."
   ]
  },
  {
   "cell_type": "code",
   "execution_count": 38,
   "id": "5374ac1e",
   "metadata": {},
   "outputs": [
    {
     "data": {
      "text/plain": [
       "195900"
      ]
     },
     "execution_count": 38,
     "metadata": {},
     "output_type": "execute_result"
    }
   ],
   "source": [
    "df = df.drop(index=df[df.property_types == 'Residential Building'].index)\n",
    "df = df.drop(index=df[df.property_types == 'Residential Floor'].index)\n",
    "\n",
    "len(df)"
   ]
  },
  {
   "cell_type": "markdown",
   "id": "ac8aa572",
   "metadata": {},
   "source": [
    "Let's now see if the # bedrooms look plausible:"
   ]
  },
  {
   "cell_type": "code",
   "execution_count": 53,
   "id": "635c538e",
   "metadata": {},
   "outputs": [
    {
     "data": {
      "text/plain": [
       "1     59674\n",
       "2     57468\n",
       "3     28353\n",
       "0     23309\n",
       "4     11726\n",
       "5     10926\n",
       "6      2664\n",
       "7       887\n",
       "8       462\n",
       "10      144\n",
       "9       135\n",
       "12       67\n",
       "11       24\n",
       "16       13\n",
       "21       13\n",
       "14       11\n",
       "18        8\n",
       "13        7\n",
       "15        5\n",
       "20        4\n",
       "Name: bedrooms, dtype: int64"
      ]
     },
     "execution_count": 53,
     "metadata": {},
     "output_type": "execute_result"
    }
   ],
   "source": [
    "df.bedrooms.value_counts()"
   ]
  },
  {
   "cell_type": "markdown",
   "id": "2df71fcd",
   "metadata": {},
   "source": [
    "Hmmm I'm still a bit suspicious about those properties with so many bedrooms (>7).. They seem to only constitute 893 properties which is a small fraction. I'm gonna go ahead and remove these, as they are potential outliers.."
   ]
  },
  {
   "cell_type": "code",
   "execution_count": 61,
   "id": "321056b0",
   "metadata": {},
   "outputs": [
    {
     "data": {
      "text/plain": [
       "191055"
      ]
     },
     "execution_count": 61,
     "metadata": {},
     "output_type": "execute_result"
    }
   ],
   "source": [
    "df = df.drop(index=df[df.bedrooms > 7].index)\n",
    "len(df)"
   ]
  },
  {
   "cell_type": "markdown",
   "id": "21289643",
   "metadata": {},
   "source": [
    "Also, let's just assign property types with values \"Villa Compounds\" to simply \"Villa\""
   ]
  },
  {
   "cell_type": "code",
   "execution_count": 44,
   "id": "cede7c25",
   "metadata": {},
   "outputs": [
    {
     "data": {
      "text/plain": [
       "195900"
      ]
     },
     "execution_count": 44,
     "metadata": {},
     "output_type": "execute_result"
    }
   ],
   "source": [
    "df.loc[df.property_types == 'Villa Compound', 'property_types'] = 'Villa'\n",
    "len(df)"
   ]
  },
  {
   "cell_type": "markdown",
   "id": "2fd82e1d",
   "metadata": {},
   "source": [
    "Let's clean up the columns, for locations, we are only interested in the neighborhood. Let's assign 0 for studios to keep it numerical, and remove the commas in pricing and area (again to keep it numerical)."
   ]
  },
  {
   "cell_type": "code",
   "execution_count": 68,
   "id": "b4e81200",
   "metadata": {},
   "outputs": [
    {
     "ename": "IndexError",
     "evalue": "list index out of range",
     "output_type": "error",
     "traceback": [
      "\u001b[0;31m---------------------------------------------------------------------------\u001b[0m",
      "\u001b[0;31mIndexError\u001b[0m                                Traceback (most recent call last)",
      "Input \u001b[0;32mIn [68]\u001b[0m, in \u001b[0;36m<cell line: 1>\u001b[0;34m()\u001b[0m\n\u001b[0;32m----> 1\u001b[0m df\u001b[38;5;241m.\u001b[39mlocations \u001b[38;5;241m=\u001b[39m \u001b[43mdf\u001b[49m\u001b[38;5;241;43m.\u001b[39;49m\u001b[43mlocations\u001b[49m\u001b[38;5;241;43m.\u001b[39;49m\u001b[43mapply\u001b[49m\u001b[43m(\u001b[49m\u001b[38;5;28;43;01mlambda\u001b[39;49;00m\u001b[43m \u001b[49m\u001b[43mx\u001b[49m\u001b[43m:\u001b[49m\u001b[43m \u001b[49m\u001b[43mx\u001b[49m\u001b[38;5;241;43m.\u001b[39;49m\u001b[43msplit\u001b[49m\u001b[43m(\u001b[49m\u001b[38;5;124;43m'\u001b[39;49m\u001b[38;5;124;43m,\u001b[39;49m\u001b[38;5;124;43m'\u001b[39;49m\u001b[43m)\u001b[49m\u001b[43m[\u001b[49m\u001b[38;5;241;43m-\u001b[39;49m\u001b[38;5;241;43m2\u001b[39;49m\u001b[43m]\u001b[49m\u001b[38;5;241;43m.\u001b[39;49m\u001b[43mstrip\u001b[49m\u001b[43m(\u001b[49m\u001b[43m)\u001b[49m\u001b[43m)\u001b[49m\n\u001b[1;32m      2\u001b[0m df\u001b[38;5;241m.\u001b[39mbedrooms \u001b[38;5;241m=\u001b[39m df\u001b[38;5;241m.\u001b[39mbedrooms\u001b[38;5;241m.\u001b[39mapply(\u001b[38;5;28;01mlambda\u001b[39;00m x: \u001b[38;5;124m'\u001b[39m\u001b[38;5;124m0\u001b[39m\u001b[38;5;124m'\u001b[39m \u001b[38;5;28;01mif\u001b[39;00m x\u001b[38;5;241m==\u001b[39m\u001b[38;5;124m'\u001b[39m\u001b[38;5;124mStudio\u001b[39m\u001b[38;5;124m'\u001b[39m \u001b[38;5;28;01melse\u001b[39;00m x)\n\u001b[1;32m      3\u001b[0m df\u001b[38;5;241m.\u001b[39mprices \u001b[38;5;241m=\u001b[39m df\u001b[38;5;241m.\u001b[39mprices\u001b[38;5;241m.\u001b[39mapply(\u001b[38;5;28;01mlambda\u001b[39;00m x: x\u001b[38;5;241m.\u001b[39mreplace(\u001b[38;5;124m'\u001b[39m\u001b[38;5;124m,\u001b[39m\u001b[38;5;124m'\u001b[39m,\u001b[38;5;124m'\u001b[39m\u001b[38;5;124m'\u001b[39m))\n",
      "File \u001b[0;32m~/miniconda3/envs/ds/lib/python3.10/site-packages/pandas/core/series.py:4771\u001b[0m, in \u001b[0;36mSeries.apply\u001b[0;34m(self, func, convert_dtype, args, **kwargs)\u001b[0m\n\u001b[1;32m   4661\u001b[0m \u001b[38;5;28;01mdef\u001b[39;00m \u001b[38;5;21mapply\u001b[39m(\n\u001b[1;32m   4662\u001b[0m     \u001b[38;5;28mself\u001b[39m,\n\u001b[1;32m   4663\u001b[0m     func: AggFuncType,\n\u001b[0;32m   (...)\u001b[0m\n\u001b[1;32m   4666\u001b[0m     \u001b[38;5;241m*\u001b[39m\u001b[38;5;241m*\u001b[39mkwargs,\n\u001b[1;32m   4667\u001b[0m ) \u001b[38;5;241m-\u001b[39m\u001b[38;5;241m>\u001b[39m DataFrame \u001b[38;5;241m|\u001b[39m Series:\n\u001b[1;32m   4668\u001b[0m     \u001b[38;5;124;03m\"\"\"\u001b[39;00m\n\u001b[1;32m   4669\u001b[0m \u001b[38;5;124;03m    Invoke function on values of Series.\u001b[39;00m\n\u001b[1;32m   4670\u001b[0m \n\u001b[0;32m   (...)\u001b[0m\n\u001b[1;32m   4769\u001b[0m \u001b[38;5;124;03m    dtype: float64\u001b[39;00m\n\u001b[1;32m   4770\u001b[0m \u001b[38;5;124;03m    \"\"\"\u001b[39;00m\n\u001b[0;32m-> 4771\u001b[0m     \u001b[38;5;28;01mreturn\u001b[39;00m \u001b[43mSeriesApply\u001b[49m\u001b[43m(\u001b[49m\u001b[38;5;28;43mself\u001b[39;49m\u001b[43m,\u001b[49m\u001b[43m \u001b[49m\u001b[43mfunc\u001b[49m\u001b[43m,\u001b[49m\u001b[43m \u001b[49m\u001b[43mconvert_dtype\u001b[49m\u001b[43m,\u001b[49m\u001b[43m \u001b[49m\u001b[43margs\u001b[49m\u001b[43m,\u001b[49m\u001b[43m \u001b[49m\u001b[43mkwargs\u001b[49m\u001b[43m)\u001b[49m\u001b[38;5;241;43m.\u001b[39;49m\u001b[43mapply\u001b[49m\u001b[43m(\u001b[49m\u001b[43m)\u001b[49m\n",
      "File \u001b[0;32m~/miniconda3/envs/ds/lib/python3.10/site-packages/pandas/core/apply.py:1105\u001b[0m, in \u001b[0;36mSeriesApply.apply\u001b[0;34m(self)\u001b[0m\n\u001b[1;32m   1102\u001b[0m     \u001b[38;5;28;01mreturn\u001b[39;00m \u001b[38;5;28mself\u001b[39m\u001b[38;5;241m.\u001b[39mapply_str()\n\u001b[1;32m   1104\u001b[0m \u001b[38;5;66;03m# self.f is Callable\u001b[39;00m\n\u001b[0;32m-> 1105\u001b[0m \u001b[38;5;28;01mreturn\u001b[39;00m \u001b[38;5;28;43mself\u001b[39;49m\u001b[38;5;241;43m.\u001b[39;49m\u001b[43mapply_standard\u001b[49m\u001b[43m(\u001b[49m\u001b[43m)\u001b[49m\n",
      "File \u001b[0;32m~/miniconda3/envs/ds/lib/python3.10/site-packages/pandas/core/apply.py:1156\u001b[0m, in \u001b[0;36mSeriesApply.apply_standard\u001b[0;34m(self)\u001b[0m\n\u001b[1;32m   1154\u001b[0m     \u001b[38;5;28;01melse\u001b[39;00m:\n\u001b[1;32m   1155\u001b[0m         values \u001b[38;5;241m=\u001b[39m obj\u001b[38;5;241m.\u001b[39mastype(\u001b[38;5;28mobject\u001b[39m)\u001b[38;5;241m.\u001b[39m_values\n\u001b[0;32m-> 1156\u001b[0m         mapped \u001b[38;5;241m=\u001b[39m \u001b[43mlib\u001b[49m\u001b[38;5;241;43m.\u001b[39;49m\u001b[43mmap_infer\u001b[49m\u001b[43m(\u001b[49m\n\u001b[1;32m   1157\u001b[0m \u001b[43m            \u001b[49m\u001b[43mvalues\u001b[49m\u001b[43m,\u001b[49m\n\u001b[1;32m   1158\u001b[0m \u001b[43m            \u001b[49m\u001b[43mf\u001b[49m\u001b[43m,\u001b[49m\n\u001b[1;32m   1159\u001b[0m \u001b[43m            \u001b[49m\u001b[43mconvert\u001b[49m\u001b[38;5;241;43m=\u001b[39;49m\u001b[38;5;28;43mself\u001b[39;49m\u001b[38;5;241;43m.\u001b[39;49m\u001b[43mconvert_dtype\u001b[49m\u001b[43m,\u001b[49m\n\u001b[1;32m   1160\u001b[0m \u001b[43m        \u001b[49m\u001b[43m)\u001b[49m\n\u001b[1;32m   1162\u001b[0m \u001b[38;5;28;01mif\u001b[39;00m \u001b[38;5;28mlen\u001b[39m(mapped) \u001b[38;5;129;01mand\u001b[39;00m \u001b[38;5;28misinstance\u001b[39m(mapped[\u001b[38;5;241m0\u001b[39m], ABCSeries):\n\u001b[1;32m   1163\u001b[0m     \u001b[38;5;66;03m# GH#43986 Need to do list(mapped) in order to get treated as nested\u001b[39;00m\n\u001b[1;32m   1164\u001b[0m     \u001b[38;5;66;03m#  See also GH#25959 regarding EA support\u001b[39;00m\n\u001b[1;32m   1165\u001b[0m     \u001b[38;5;28;01mreturn\u001b[39;00m obj\u001b[38;5;241m.\u001b[39m_constructor_expanddim(\u001b[38;5;28mlist\u001b[39m(mapped), index\u001b[38;5;241m=\u001b[39mobj\u001b[38;5;241m.\u001b[39mindex)\n",
      "File \u001b[0;32m~/miniconda3/envs/ds/lib/python3.10/site-packages/pandas/_libs/lib.pyx:2918\u001b[0m, in \u001b[0;36mpandas._libs.lib.map_infer\u001b[0;34m()\u001b[0m\n",
      "Input \u001b[0;32mIn [68]\u001b[0m, in \u001b[0;36m<lambda>\u001b[0;34m(x)\u001b[0m\n\u001b[0;32m----> 1\u001b[0m df\u001b[38;5;241m.\u001b[39mlocations \u001b[38;5;241m=\u001b[39m df\u001b[38;5;241m.\u001b[39mlocations\u001b[38;5;241m.\u001b[39mapply(\u001b[38;5;28;01mlambda\u001b[39;00m x: \u001b[43mx\u001b[49m\u001b[38;5;241;43m.\u001b[39;49m\u001b[43msplit\u001b[49m\u001b[43m(\u001b[49m\u001b[38;5;124;43m'\u001b[39;49m\u001b[38;5;124;43m,\u001b[39;49m\u001b[38;5;124;43m'\u001b[39;49m\u001b[43m)\u001b[49m\u001b[43m[\u001b[49m\u001b[38;5;241;43m-\u001b[39;49m\u001b[38;5;241;43m2\u001b[39;49m\u001b[43m]\u001b[49m\u001b[38;5;241m.\u001b[39mstrip())\n\u001b[1;32m      2\u001b[0m df\u001b[38;5;241m.\u001b[39mbedrooms \u001b[38;5;241m=\u001b[39m df\u001b[38;5;241m.\u001b[39mbedrooms\u001b[38;5;241m.\u001b[39mapply(\u001b[38;5;28;01mlambda\u001b[39;00m x: \u001b[38;5;124m'\u001b[39m\u001b[38;5;124m0\u001b[39m\u001b[38;5;124m'\u001b[39m \u001b[38;5;28;01mif\u001b[39;00m x\u001b[38;5;241m==\u001b[39m\u001b[38;5;124m'\u001b[39m\u001b[38;5;124mStudio\u001b[39m\u001b[38;5;124m'\u001b[39m \u001b[38;5;28;01melse\u001b[39;00m x)\n\u001b[1;32m      3\u001b[0m df\u001b[38;5;241m.\u001b[39mprices \u001b[38;5;241m=\u001b[39m df\u001b[38;5;241m.\u001b[39mprices\u001b[38;5;241m.\u001b[39mapply(\u001b[38;5;28;01mlambda\u001b[39;00m x: x\u001b[38;5;241m.\u001b[39mreplace(\u001b[38;5;124m'\u001b[39m\u001b[38;5;124m,\u001b[39m\u001b[38;5;124m'\u001b[39m,\u001b[38;5;124m'\u001b[39m\u001b[38;5;124m'\u001b[39m))\n",
      "\u001b[0;31mIndexError\u001b[0m: list index out of range"
     ]
    }
   ],
   "source": [
    "df.locations = df.locations.apply(lambda x: x.split(',')[-2].strip())\n",
    "df.bedrooms = df.bedrooms.apply(lambda x: '0' if x=='Studio' else x)\n",
    "df.prices = df.prices.apply(lambda x: x.replace(',',''))\n",
    "df.area = df.area.apply(lambda x: x.replace('sqft','').replace(',',''))"
   ]
  },
  {
   "cell_type": "code",
   "execution_count": null,
   "id": "43e92558",
   "metadata": {},
   "outputs": [],
   "source": [
    "df.bedrooms = df.bedrooms.astype(int)\n",
    "df.bathrooms = df.bathrooms.astype(int)\n",
    "df.prices = df.prices.astype(float)\n",
    "df.area = df.area.astype(float)"
   ]
  },
  {
   "cell_type": "code",
   "execution_count": 69,
   "id": "dda9b190",
   "metadata": {},
   "outputs": [
    {
     "data": {
      "text/html": [
       "<div>\n",
       "<style scoped>\n",
       "    .dataframe tbody tr th:only-of-type {\n",
       "        vertical-align: middle;\n",
       "    }\n",
       "\n",
       "    .dataframe tbody tr th {\n",
       "        vertical-align: top;\n",
       "    }\n",
       "\n",
       "    .dataframe thead th {\n",
       "        text-align: right;\n",
       "    }\n",
       "</style>\n",
       "<table border=\"1\" class=\"dataframe\">\n",
       "  <thead>\n",
       "    <tr style=\"text-align: right;\">\n",
       "      <th></th>\n",
       "      <th>bedrooms</th>\n",
       "      <th>bathrooms</th>\n",
       "      <th>area</th>\n",
       "      <th>prices</th>\n",
       "      <th>locations</th>\n",
       "      <th>property_types</th>\n",
       "      <th>property_keywords</th>\n",
       "      <th>description</th>\n",
       "      <th>amenities</th>\n",
       "    </tr>\n",
       "  </thead>\n",
       "  <tbody>\n",
       "    <tr>\n",
       "      <th>0</th>\n",
       "      <td>1</td>\n",
       "      <td>2</td>\n",
       "      <td>1295.0</td>\n",
       "      <td>160000.0</td>\n",
       "      <td>Al Barari</td>\n",
       "      <td>Apartment</td>\n",
       "      <td>Ground Floor | Available Now | 1 Bedroom</td>\n",
       "      <td>Brand new one bedroom apartment in The Neighbo...</td>\n",
       "      <td>Balcony or Terrace</td>\n",
       "    </tr>\n",
       "    <tr>\n",
       "      <th>1</th>\n",
       "      <td>1</td>\n",
       "      <td>2</td>\n",
       "      <td>883.0</td>\n",
       "      <td>77990.0</td>\n",
       "      <td>DAMAC Hills</td>\n",
       "      <td>Apartment</td>\n",
       "      <td>Brand New Furniture Vacant | 8,000AED / Month</td>\n",
       "      <td>Brand new one bedroom apartment in The Neighbo...</td>\n",
       "      <td>Balcony or Terrace</td>\n",
       "    </tr>\n",
       "    <tr>\n",
       "      <th>2</th>\n",
       "      <td>1</td>\n",
       "      <td>2</td>\n",
       "      <td>864.0</td>\n",
       "      <td>72999.0</td>\n",
       "      <td>Dubai Marina</td>\n",
       "      <td>Apartment</td>\n",
       "      <td>BEST PRICE | UNFURNISHED | LOW FLOOR</td>\n",
       "      <td>Brand new one bedroom apartment in The Neighbo...</td>\n",
       "      <td>Balcony or Terrace</td>\n",
       "    </tr>\n",
       "    <tr>\n",
       "      <th>3</th>\n",
       "      <td>2</td>\n",
       "      <td>3</td>\n",
       "      <td>8425.0</td>\n",
       "      <td>200000.0</td>\n",
       "      <td>Jumeirah Village Circle (JVC)</td>\n",
       "      <td>Villa</td>\n",
       "      <td>2BR+ Maid Room | Upgraded Interior with Turkis...</td>\n",
       "      <td>Brand new one bedroom apartment in The Neighbo...</td>\n",
       "      <td>Balcony or Terrace</td>\n",
       "    </tr>\n",
       "    <tr>\n",
       "      <th>4</th>\n",
       "      <td>2</td>\n",
       "      <td>2</td>\n",
       "      <td>1200.0</td>\n",
       "      <td>60000.0</td>\n",
       "      <td>Bur Dubai</td>\n",
       "      <td>Apartment</td>\n",
       "      <td>Family Building Well Maintained 2BHK Apartment...</td>\n",
       "      <td>Brand new one bedroom apartment in The Neighbo...</td>\n",
       "      <td>Balcony or Terrace</td>\n",
       "    </tr>\n",
       "    <tr>\n",
       "      <th>...</th>\n",
       "      <td>...</td>\n",
       "      <td>...</td>\n",
       "      <td>...</td>\n",
       "      <td>...</td>\n",
       "      <td>...</td>\n",
       "      <td>...</td>\n",
       "      <td>...</td>\n",
       "      <td>...</td>\n",
       "      <td>...</td>\n",
       "    </tr>\n",
       "    <tr>\n",
       "      <th>38202</th>\n",
       "      <td>3</td>\n",
       "      <td>3</td>\n",
       "      <td>3200.0</td>\n",
       "      <td>100000.0</td>\n",
       "      <td>Mirdif</td>\n",
       "      <td>Villa</td>\n",
       "      <td>3 bedroom hall compound villa   in mirdif rent...</td>\n",
       "      <td>ALSO AVAILABLE FOR SHORT TERM RENT. White and ...</td>\n",
       "      <td>-1</td>\n",
       "    </tr>\n",
       "    <tr>\n",
       "      <th>38203</th>\n",
       "      <td>4</td>\n",
       "      <td>4</td>\n",
       "      <td>2387.0</td>\n",
       "      <td>265000.0</td>\n",
       "      <td>Dubai Hills Estate</td>\n",
       "      <td>Villa</td>\n",
       "      <td>3M | CLOSE TO POOL | GREEN BELT | COMING UP SOON</td>\n",
       "      <td>ALSO AVAILABLE FOR SHORT TERM RENT. White and ...</td>\n",
       "      <td>-1</td>\n",
       "    </tr>\n",
       "    <tr>\n",
       "      <th>38205</th>\n",
       "      <td>4</td>\n",
       "      <td>5</td>\n",
       "      <td>7437.0</td>\n",
       "      <td>700000.0</td>\n",
       "      <td>Dubai Hills Estate</td>\n",
       "      <td>Villa</td>\n",
       "      <td>Brand New 4 Bedroom Villa for Rent</td>\n",
       "      <td>ALSO AVAILABLE FOR SHORT TERM RENT. White and ...</td>\n",
       "      <td>-1</td>\n",
       "    </tr>\n",
       "    <tr>\n",
       "      <th>38206</th>\n",
       "      <td>1</td>\n",
       "      <td>1</td>\n",
       "      <td>450.0</td>\n",
       "      <td>28000.0</td>\n",
       "      <td>Deira</td>\n",
       "      <td>Apartment</td>\n",
       "      <td>1BEDROOM HALL FLAT W/AC FAMILY ONLY AVAILABLE ...</td>\n",
       "      <td>ALSO AVAILABLE FOR SHORT TERM RENT. White and ...</td>\n",
       "      <td>-1</td>\n",
       "    </tr>\n",
       "    <tr>\n",
       "      <th>38207</th>\n",
       "      <td>2</td>\n",
       "      <td>2</td>\n",
       "      <td>1422.0</td>\n",
       "      <td>170000.0</td>\n",
       "      <td>Jumeirah Beach Residence (JBR)</td>\n",
       "      <td>Apartment</td>\n",
       "      <td>Fully upgraded l Fully furnished l Vacant</td>\n",
       "      <td>ALSO AVAILABLE FOR SHORT TERM RENT. White and ...</td>\n",
       "      <td>-1</td>\n",
       "    </tr>\n",
       "  </tbody>\n",
       "</table>\n",
       "<p>191055 rows × 9 columns</p>\n",
       "</div>"
      ],
      "text/plain": [
       "       bedrooms  bathrooms    area    prices                       locations  \\\n",
       "0             1          2  1295.0  160000.0                       Al Barari   \n",
       "1             1          2   883.0   77990.0                     DAMAC Hills   \n",
       "2             1          2   864.0   72999.0                    Dubai Marina   \n",
       "3             2          3  8425.0  200000.0   Jumeirah Village Circle (JVC)   \n",
       "4             2          2  1200.0   60000.0                       Bur Dubai   \n",
       "...         ...        ...     ...       ...                             ...   \n",
       "38202         3          3  3200.0  100000.0                          Mirdif   \n",
       "38203         4          4  2387.0  265000.0              Dubai Hills Estate   \n",
       "38205         4          5  7437.0  700000.0              Dubai Hills Estate   \n",
       "38206         1          1   450.0   28000.0                           Deira   \n",
       "38207         2          2  1422.0  170000.0  Jumeirah Beach Residence (JBR)   \n",
       "\n",
       "      property_types                                  property_keywords  \\\n",
       "0          Apartment           Ground Floor | Available Now | 1 Bedroom   \n",
       "1          Apartment      Brand New Furniture Vacant | 8,000AED / Month   \n",
       "2          Apartment               BEST PRICE | UNFURNISHED | LOW FLOOR   \n",
       "3              Villa  2BR+ Maid Room | Upgraded Interior with Turkis...   \n",
       "4          Apartment  Family Building Well Maintained 2BHK Apartment...   \n",
       "...              ...                                                ...   \n",
       "38202          Villa  3 bedroom hall compound villa   in mirdif rent...   \n",
       "38203          Villa   3M | CLOSE TO POOL | GREEN BELT | COMING UP SOON   \n",
       "38205          Villa                 Brand New 4 Bedroom Villa for Rent   \n",
       "38206      Apartment  1BEDROOM HALL FLAT W/AC FAMILY ONLY AVAILABLE ...   \n",
       "38207      Apartment          Fully upgraded l Fully furnished l Vacant   \n",
       "\n",
       "                                             description           amenities  \n",
       "0      Brand new one bedroom apartment in The Neighbo...  Balcony or Terrace  \n",
       "1      Brand new one bedroom apartment in The Neighbo...  Balcony or Terrace  \n",
       "2      Brand new one bedroom apartment in The Neighbo...  Balcony or Terrace  \n",
       "3      Brand new one bedroom apartment in The Neighbo...  Balcony or Terrace  \n",
       "4      Brand new one bedroom apartment in The Neighbo...  Balcony or Terrace  \n",
       "...                                                  ...                 ...  \n",
       "38202  ALSO AVAILABLE FOR SHORT TERM RENT. White and ...                  -1  \n",
       "38203  ALSO AVAILABLE FOR SHORT TERM RENT. White and ...                  -1  \n",
       "38205  ALSO AVAILABLE FOR SHORT TERM RENT. White and ...                  -1  \n",
       "38206  ALSO AVAILABLE FOR SHORT TERM RENT. White and ...                  -1  \n",
       "38207  ALSO AVAILABLE FOR SHORT TERM RENT. White and ...                  -1  \n",
       "\n",
       "[191055 rows x 9 columns]"
      ]
     },
     "execution_count": 69,
     "metadata": {},
     "output_type": "execute_result"
    }
   ],
   "source": [
    "df"
   ]
  },
  {
   "cell_type": "markdown",
   "id": "5afb5045",
   "metadata": {},
   "source": [
    "Cool! Let's checkout the locations:"
   ]
  },
  {
   "cell_type": "code",
   "execution_count": 50,
   "id": "6f795fd6",
   "metadata": {
    "scrolled": true
   },
   "outputs": [
    {
     "data": {
      "text/plain": [
       "['Academic City',\n",
       " 'Al Awir',\n",
       " 'Al Badaa',\n",
       " 'Al Barari',\n",
       " 'Al Barsha',\n",
       " 'Al Furjan',\n",
       " 'Al Garhoud',\n",
       " 'Al Hudaiba',\n",
       " 'Al Jaddaf',\n",
       " 'Al Jafiliya',\n",
       " 'Al Karama',\n",
       " 'Al Khawaneej',\n",
       " 'Al Lisaili',\n",
       " 'Al Mamzar',\n",
       " 'Al Manara',\n",
       " 'Al Mina',\n",
       " 'Al Mizhar',\n",
       " 'Al Nahda (Dubai)',\n",
       " 'Al Quoz',\n",
       " 'Al Qusais',\n",
       " 'Al Rashidiya',\n",
       " 'Al Safa',\n",
       " 'Al Satwa',\n",
       " 'Al Sufouh',\n",
       " 'Al Twar',\n",
       " 'Al Warqaa',\n",
       " 'Al Warsan',\n",
       " 'Al Wasl',\n",
       " 'Arabian Ranches',\n",
       " 'Arabian Ranches 2',\n",
       " 'Arabian Ranches 3',\n",
       " 'Arjan',\n",
       " 'Barsha Heights (Tecom)',\n",
       " 'Bluewaters Island',\n",
       " 'Bukadra',\n",
       " 'Bur Dubai',\n",
       " 'Business Bay',\n",
       " 'City of Arabia',\n",
       " 'Culture Village',\n",
       " 'DAMAC Hills',\n",
       " 'DAMAC Hills 2 (Akoya by DAMAC)',\n",
       " 'DIFC',\n",
       " 'Damac Lagoons',\n",
       " 'Deira',\n",
       " 'Deira Island',\n",
       " 'Discovery Gardens',\n",
       " 'Downtown Dubai',\n",
       " 'Downtown Jebel Ali',\n",
       " 'Dubai Festival City',\n",
       " 'Dubai Harbour',\n",
       " 'Dubai Hills Estate',\n",
       " 'Dubai Industrial Park',\n",
       " 'Dubai Internet City',\n",
       " 'Dubai Investment Park (DIP)',\n",
       " 'Dubai Marina',\n",
       " 'Dubai Maritime City',\n",
       " 'Dubai Media City',\n",
       " 'Dubai Production City (IMPZ)',\n",
       " 'Dubai Residence Complex',\n",
       " 'Dubai Science Park',\n",
       " 'Dubai Silicon Oasis',\n",
       " 'Dubai South',\n",
       " 'Dubai Sports City',\n",
       " 'Dubai Studio City',\n",
       " 'Dubai Waterfront',\n",
       " 'Dubai World Central',\n",
       " 'Dubailand',\n",
       " 'Emirates Hills',\n",
       " 'Green Community',\n",
       " 'International City',\n",
       " 'Jebel Ali',\n",
       " 'Jumeirah',\n",
       " 'Jumeirah Beach Residence (JBR)',\n",
       " 'Jumeirah Golf Estates',\n",
       " 'Jumeirah Heights',\n",
       " 'Jumeirah Islands',\n",
       " 'Jumeirah Lake Towers (JLT)',\n",
       " 'Jumeirah Park',\n",
       " 'Jumeirah Village Circle (JVC)',\n",
       " 'Jumeirah Village Triangle (JVT)',\n",
       " 'Liwan',\n",
       " 'Liwan 2',\n",
       " 'Meydan City',\n",
       " 'Mirdif',\n",
       " 'Mohammed Bin Rashid City',\n",
       " 'Motor City',\n",
       " 'Mudon',\n",
       " 'Muhaisnah',\n",
       " 'Nad Al Hamar',\n",
       " 'Nad Al Sheba',\n",
       " 'Nad Shamma',\n",
       " 'Oud Al Muteena',\n",
       " 'Palm Jebel Ali',\n",
       " 'Palm Jumeirah',\n",
       " 'Pearl Jumeirah',\n",
       " 'Ras Al Khor',\n",
       " 'Reem',\n",
       " 'Remraam',\n",
       " 'Serena',\n",
       " 'Sheikh Zayed Road',\n",
       " 'The Gardens',\n",
       " 'The Greens',\n",
       " 'The Hills',\n",
       " 'The Lagoons',\n",
       " 'The Lakes',\n",
       " 'The Meadows',\n",
       " 'The Springs',\n",
       " 'The Sustainable City',\n",
       " 'The Views',\n",
       " 'The Villa',\n",
       " 'The World Islands',\n",
       " 'Town Square',\n",
       " 'Umm Al Sheif',\n",
       " 'Umm Ramool',\n",
       " 'Umm Suqeim',\n",
       " 'Wadi Al Safa 2',\n",
       " 'Wadi Al Shabak',\n",
       " 'Wasl Gate',\n",
       " 'World Trade Centre']"
      ]
     },
     "execution_count": 50,
     "metadata": {},
     "output_type": "execute_result"
    }
   ],
   "source": [
    "sorted(list(df.locations.value_counts().keys()))"
   ]
  },
  {
   "cell_type": "code",
   "execution_count": 70,
   "id": "04d0d908",
   "metadata": {},
   "outputs": [
    {
     "data": {
      "text/plain": [
       "<AxesSubplot: >"
      ]
     },
     "execution_count": 70,
     "metadata": {},
     "output_type": "execute_result"
    },
    {
     "data": {
      "image/png": "[encoded data removed]",
      "text/plain": [
       "<Figure size 432x288 with 1 Axes>"
      ]
     },
     "metadata": {
      "needs_background": "light"
     },
     "output_type": "display_data"
    }
   ],
   "source": [
    "df.bathrooms.hist()"
   ]
  },
  {
   "cell_type": "code",
   "execution_count": 71,
   "id": "6517e7a0",
   "metadata": {},
   "outputs": [
    {
     "data": {
      "text/plain": [
       "<AxesSubplot: >"
      ]
     },
     "execution_count": 71,
     "metadata": {},
     "output_type": "execute_result"
    },
    {
     "data": {
      "image/png": "[encoded data removed]",
      "text/plain": [
       "<Figure size 432x288 with 1 Axes>"
      ]
     },
     "metadata": {
      "needs_background": "light"
     },
     "output_type": "display_data"
    }
   ],
   "source": [
    "df.bedrooms.hist()"
   ]
  },
  {
   "cell_type": "code",
   "execution_count": 72,
   "id": "a163b4e0",
   "metadata": {},
   "outputs": [
    {
     "data": {
      "text/plain": [
       "Jumeirah Village Circle (JVC)    16652\n",
       "Downtown Dubai                   10889\n",
       "Bur Dubai                        10653\n",
       "Dubai Marina                      9964\n",
       "Business Bay                      8525\n",
       "                                 ...  \n",
       "Damac Lagoons                        5\n",
       "Nad Shamma                           4\n",
       "Deira Island                         3\n",
       "The World Islands                    3\n",
       "Palm Jebel Ali                       2\n",
       "Name: locations, Length: 119, dtype: int64"
      ]
     },
     "execution_count": 72,
     "metadata": {},
     "output_type": "execute_result"
    }
   ],
   "source": [
    "df.locations.value_counts()"
   ]
  },
  {
   "cell_type": "code",
   "execution_count": 73,
   "id": "cee2378d",
   "metadata": {},
   "outputs": [
    {
     "data": {
      "text/plain": [
       "Apartment          153273\n",
       "Villa               29421\n",
       "Townhouse            5965\n",
       "Hotel Apartment      1657\n",
       "Penthouse             739\n",
       "Name: property_types, dtype: int64"
      ]
     },
     "execution_count": 73,
     "metadata": {},
     "output_type": "execute_result"
    }
   ],
   "source": [
    "df.property_types.value_counts()"
   ]
  },
  {
   "cell_type": "code",
   "execution_count": 74,
   "id": "d1f012f1",
   "metadata": {},
   "outputs": [
    {
     "data": {
      "text/plain": [
       "Index(['bedrooms', 'bathrooms', 'area', 'prices', 'locations',\n",
       "       'property_types', 'property_keywords', 'description', 'amenities'],\n",
       "      dtype='object')"
      ]
     },
     "execution_count": 74,
     "metadata": {},
     "output_type": "execute_result"
    }
   ],
   "source": [
    "df.columns"
   ]
  },
  {
   "cell_type": "code",
   "execution_count": 75,
   "id": "af9ace32",
   "metadata": {},
   "outputs": [
    {
     "data": {
      "text/html": [
       "<div>\n",
       "<style scoped>\n",
       "    .dataframe tbody tr th:only-of-type {\n",
       "        vertical-align: middle;\n",
       "    }\n",
       "\n",
       "    .dataframe tbody tr th {\n",
       "        vertical-align: top;\n",
       "    }\n",
       "\n",
       "    .dataframe thead th {\n",
       "        text-align: right;\n",
       "    }\n",
       "</style>\n",
       "<table border=\"1\" class=\"dataframe\">\n",
       "  <thead>\n",
       "    <tr style=\"text-align: right;\">\n",
       "      <th></th>\n",
       "      <th>bedrooms</th>\n",
       "      <th>bathrooms</th>\n",
       "      <th>area</th>\n",
       "      <th>prices</th>\n",
       "    </tr>\n",
       "  </thead>\n",
       "  <tbody>\n",
       "    <tr>\n",
       "      <th>bedrooms</th>\n",
       "      <td>1.000000</td>\n",
       "      <td>0.920329</td>\n",
       "      <td>0.614776</td>\n",
       "      <td>0.247076</td>\n",
       "    </tr>\n",
       "    <tr>\n",
       "      <th>bathrooms</th>\n",
       "      <td>0.920329</td>\n",
       "      <td>1.000000</td>\n",
       "      <td>0.623067</td>\n",
       "      <td>0.252485</td>\n",
       "    </tr>\n",
       "    <tr>\n",
       "      <th>area</th>\n",
       "      <td>0.614776</td>\n",
       "      <td>0.623067</td>\n",
       "      <td>1.000000</td>\n",
       "      <td>0.215893</td>\n",
       "    </tr>\n",
       "    <tr>\n",
       "      <th>prices</th>\n",
       "      <td>0.247076</td>\n",
       "      <td>0.252485</td>\n",
       "      <td>0.215893</td>\n",
       "      <td>1.000000</td>\n",
       "    </tr>\n",
       "  </tbody>\n",
       "</table>\n",
       "</div>"
      ],
      "text/plain": [
       "           bedrooms  bathrooms      area    prices\n",
       "bedrooms   1.000000   0.920329  0.614776  0.247076\n",
       "bathrooms  0.920329   1.000000  0.623067  0.252485\n",
       "area       0.614776   0.623067  1.000000  0.215893\n",
       "prices     0.247076   0.252485  0.215893  1.000000"
      ]
     },
     "execution_count": 75,
     "metadata": {},
     "output_type": "execute_result"
    }
   ],
   "source": [
    "corr_matrix = df[['bedrooms','bathrooms','area','prices']].corr()\n",
    "corr_matrix"
   ]
  },
  {
   "cell_type": "code",
   "execution_count": 76,
   "id": "8b0c9c25",
   "metadata": {},
   "outputs": [
    {
     "data": {
      "text/plain": [
       "<AxesSubplot: >"
      ]
     },
     "execution_count": 76,
     "metadata": {},
     "output_type": "execute_result"
    },
    {
     "data": {
      "image/png": "[encoded data removed]",
      "text/plain": [
       "<Figure size 432x288 with 2 Axes>"
      ]
     },
     "metadata": {
      "needs_background": "light"
     },
     "output_type": "display_data"
    }
   ],
   "source": [
    "sns.heatmap(corr_matrix,vmin=-1, vmax=1, annot=True,cmap='BrBG')"
   ]
  },
  {
   "cell_type": "code",
   "execution_count": 77,
   "id": "2fb24cfd",
   "metadata": {},
   "outputs": [
    {
     "data": {
      "image/png": "[encoded data removed]",
      "text/plain": [
       "<Figure size 1080x576 with 1 Axes>"
      ]
     },
     "metadata": {},
     "output_type": "display_data"
    },
    {
     "data": {
      "image/png": "[encoded data removed]",
      "text/plain": [
       "<Figure size 1080x576 with 1 Axes>"
      ]
     },
     "metadata": {},
     "output_type": "display_data"
    }
   ],
   "source": [
    "sns.set(rc = {'figure.figsize':(15,8)})\n",
    "df_cat = df[['locations','property_types']]\n",
    "for i in df_cat.columns:\n",
    "    cat_num = df_cat[i].value_counts()\n",
    "    chart = sns.barplot(x=cat_num.index,y=cat_num)\n",
    "    chart.set_xticklabels(chart.get_xticklabels(),rotation=90)\n",
    "    chart.set_yscale('log')\n",
    "    chart.set(title=f\"{i}, total= {len(cat_num)}\")\n",
    "    plt.show()"
   ]
  },
  {
   "cell_type": "markdown",
   "id": "d627c41d",
   "metadata": {},
   "source": [
    "# Feature Engineering"
   ]
  },
  {
   "cell_type": "markdown",
   "id": "e91810ae",
   "metadata": {},
   "source": [
    "### Pool"
   ]
  },
  {
   "cell_type": "code",
   "execution_count": 78,
   "id": "aed3882f",
   "metadata": {},
   "outputs": [],
   "source": [
    "df['pool'] = df.apply(lambda x: 1 if 'pool' in x.description.lower() or 'pool' in x.amenities.lower() or 'pool' in x.property_keywords.lower() else 0  ,axis=1)"
   ]
  },
  {
   "cell_type": "code",
   "execution_count": 79,
   "id": "c88f3eb1",
   "metadata": {},
   "outputs": [
    {
     "data": {
      "text/plain": [
       "1    146263\n",
       "0     44792\n",
       "Name: pool, dtype: int64"
      ]
     },
     "execution_count": 79,
     "metadata": {},
     "output_type": "execute_result"
    }
   ],
   "source": [
    "df.pool.value_counts()"
   ]
  },
  {
   "cell_type": "markdown",
   "id": "9c6279c3",
   "metadata": {},
   "source": [
    "### Balcony"
   ]
  },
  {
   "cell_type": "code",
   "execution_count": 80,
   "id": "8d2679ca",
   "metadata": {},
   "outputs": [
    {
     "data": {
      "text/plain": [
       "1    146835\n",
       "0     44220\n",
       "Name: balcony, dtype: int64"
      ]
     },
     "execution_count": 80,
     "metadata": {},
     "output_type": "execute_result"
    }
   ],
   "source": [
    "df['balcony'] = df.apply(lambda x: 1 \n",
    "                         if 'balcony' in x.description.lower() or 'terrace' in x.description.lower()\n",
    "                         or 'balcony' in x.amenities.lower()  or 'terrace' in x.amenities.lower()\n",
    "                         or 'balcony' in x.property_keywords.lower() or 'terrace' in x.property_keywords.lower() \n",
    "                         else 0  ,axis=1)\n",
    "df.balcony.value_counts()\n"
   ]
  },
  {
   "cell_type": "markdown",
   "id": "f4db3b2d",
   "metadata": {},
   "source": [
    "### Furnished"
   ]
  },
  {
   "cell_type": "code",
   "execution_count": 81,
   "id": "53fc7648",
   "metadata": {},
   "outputs": [
    {
     "data": {
      "text/plain": [
       "0    105954\n",
       "1     85101\n",
       "Name: furnished, dtype: int64"
      ]
     },
     "execution_count": 81,
     "metadata": {},
     "output_type": "execute_result"
    }
   ],
   "source": [
    "df['furnished'] = df.apply(lambda x: 1 \n",
    "                         if 'furnished' in x.description.lower() \n",
    "                         or 'furnished' in x.amenities.lower() \n",
    "                         or 'furnished' in x.property_keywords.lower() \n",
    "                         else 0  ,axis=1)\n",
    "df.furnished.value_counts()\n"
   ]
  },
  {
   "cell_type": "markdown",
   "id": "05571292",
   "metadata": {},
   "source": [
    "### Maid's room"
   ]
  },
  {
   "cell_type": "code",
   "execution_count": 82,
   "id": "6003d04a",
   "metadata": {},
   "outputs": [
    {
     "data": {
      "text/plain": [
       "0    105954\n",
       "1     85101\n",
       "Name: furnished, dtype: int64"
      ]
     },
     "execution_count": 82,
     "metadata": {},
     "output_type": "execute_result"
    }
   ],
   "source": [
    "df['maid'] = df.apply(lambda x: 1 \n",
    "                         if 'maid' in x.description.lower() \n",
    "                         or 'maid' in x.amenities.lower() \n",
    "                         or 'maid' in x.property_keywords.lower() \n",
    "                         else 0  ,axis=1)\n",
    "df.furnished.value_counts()\n"
   ]
  },
  {
   "cell_type": "markdown",
   "id": "b385adc3",
   "metadata": {},
   "source": [
    "### Gym"
   ]
  },
  {
   "cell_type": "code",
   "execution_count": 83,
   "id": "2253ee0f",
   "metadata": {},
   "outputs": [
    {
     "data": {
      "text/plain": [
       "1    143668\n",
       "0     47387\n",
       "Name: gym, dtype: int64"
      ]
     },
     "execution_count": 83,
     "metadata": {},
     "output_type": "execute_result"
    }
   ],
   "source": [
    "df['gym'] = df.apply(lambda x: 1 \n",
    "                         if 'gym' in x.description.lower() or 'fitness' in x.description.lower() or 'gymnasium' in x.description.lower() \n",
    "                         or 'gym' in x.amenities.lower() or 'fitness' in x.amenities.lower() or 'gymnasium' in x.amenities.lower() \n",
    "                         or 'gym' in x.property_keywords.lower() or 'fitness' in x.property_keywords.lower() or 'gymnasium' in x.property_keywords.lower() \n",
    "                         else 0  ,axis=1)\n",
    "df.gym.value_counts()"
   ]
  },
  {
   "cell_type": "markdown",
   "id": "1c159a59",
   "metadata": {},
   "source": [
    "### Brand New"
   ]
  },
  {
   "cell_type": "code",
   "execution_count": 84,
   "id": "19d27ed2",
   "metadata": {},
   "outputs": [
    {
     "data": {
      "text/plain": [
       "0    142436\n",
       "1     48619\n",
       "Name: brand_new, dtype: int64"
      ]
     },
     "execution_count": 84,
     "metadata": {},
     "output_type": "execute_result"
    }
   ],
   "source": [
    "df['brand_new'] = df.apply(lambda x: 1 \n",
    "                         if 'brand new' in x.description.lower()\n",
    "                         or 'brand new' in x.amenities.lower() \n",
    "                         or 'brand new' in x.property_keywords.lower()\n",
    "                         else 0  ,axis=1)\n",
    "df.brand_new.value_counts()"
   ]
  },
  {
   "cell_type": "markdown",
   "id": "06849e9c",
   "metadata": {},
   "source": [
    "### Burj Khalifa View"
   ]
  },
  {
   "cell_type": "code",
   "execution_count": 85,
   "id": "64310ae6",
   "metadata": {},
   "outputs": [
    {
     "data": {
      "text/plain": [
       "0    173854\n",
       "1     17201\n",
       "Name: burj_view, dtype: int64"
      ]
     },
     "execution_count": 85,
     "metadata": {},
     "output_type": "execute_result"
    }
   ],
   "source": [
    "df['burj_view'] = df.apply(lambda x: 1 \n",
    "                         if ('burj khalifa' in x.description.lower() and 'view' in x.description.lower())\n",
    "                         or ('burj khalifa' in x.amenities.lower()  and 'view' in x.amenities.lower())\n",
    "                         or ('burj khalifa' in x.property_keywords.lower() and 'view' in x.property_keywords.lower())\n",
    "                         else 0  ,axis=1)\n",
    "df.burj_view.value_counts()"
   ]
  },
  {
   "cell_type": "markdown",
   "id": "1df1603e",
   "metadata": {},
   "source": [
    "### Sea View"
   ]
  },
  {
   "cell_type": "code",
   "execution_count": 86,
   "id": "afaa70bd",
   "metadata": {},
   "outputs": [
    {
     "data": {
      "text/plain": [
       "0    178305\n",
       "1     12750\n",
       "Name: sea_view, dtype: int64"
      ]
     },
     "execution_count": 86,
     "metadata": {},
     "output_type": "execute_result"
    }
   ],
   "source": [
    "df['sea_view'] = df.apply(lambda x: 1 \n",
    "                         if 'sea view' in x.description.lower() \n",
    "                         or 'sea view' in x.amenities.lower()\n",
    "                         or 'sea view' in x.property_keywords.lower()\n",
    "                         else 0  ,axis=1)\n",
    "df.sea_view.value_counts()"
   ]
  },
  {
   "cell_type": "markdown",
   "id": "3e18d1af",
   "metadata": {},
   "source": [
    "### At beach or proximity to beach"
   ]
  },
  {
   "cell_type": "code",
   "execution_count": 87,
   "id": "9e291563",
   "metadata": {},
   "outputs": [
    {
     "data": {
      "text/plain": [
       "0    172412\n",
       "1     18643\n",
       "Name: beach, dtype: int64"
      ]
     },
     "execution_count": 87,
     "metadata": {},
     "output_type": "execute_result"
    }
   ],
   "source": [
    "df['beach'] = df.apply(lambda x: 1 \n",
    "                         if 'beach'in x.description.lower()\n",
    "                         or 'beach'  in x.amenities.lower() \n",
    "                         or 'beach'  in x.property_keywords.lower()\n",
    "                         else 0  ,axis=1)\n",
    "df.beach.value_counts()"
   ]
  },
  {
   "cell_type": "markdown",
   "id": "81bafa46",
   "metadata": {},
   "source": [
    "### Removing some outliers"
   ]
  },
  {
   "cell_type": "code",
   "execution_count": 88,
   "id": "2c776a84",
   "metadata": {},
   "outputs": [
    {
     "name": "stdout",
     "output_type": "stream",
     "text": [
      "So far, we have 191055 observations.\n"
     ]
    }
   ],
   "source": [
    "print(f\"So far, we have {len(df)} observations.\")"
   ]
  },
  {
   "cell_type": "code",
   "execution_count": 89,
   "id": "e98a6e30",
   "metadata": {},
   "outputs": [],
   "source": [
    "df['price_per_sqft'] = df['prices']/df['area']"
   ]
  },
  {
   "cell_type": "code",
   "execution_count": 90,
   "id": "ff7741fe",
   "metadata": {
    "scrolled": false
   },
   "outputs": [
    {
     "data": {
      "text/plain": [
       "count    191055.000000\n",
       "mean         87.838157\n",
       "std         414.332890\n",
       "min           0.999987\n",
       "25%          48.000000\n",
       "50%          65.376569\n",
       "75%         100.799680\n",
       "max       59426.229508\n",
       "Name: price_per_sqft, dtype: float64"
      ]
     },
     "execution_count": 90,
     "metadata": {},
     "output_type": "execute_result"
    }
   ],
   "source": [
    "df.price_per_sqft.describe()"
   ]
  },
  {
   "cell_type": "code",
   "execution_count": 91,
   "id": "29d77d4f",
   "metadata": {},
   "outputs": [
    {
     "data": {
      "image/png": "[encoded data removed]",
      "text/plain": [
       "<Figure size 1080x576 with 1 Axes>"
      ]
     },
     "metadata": {},
     "output_type": "display_data"
    }
   ],
   "source": [
    "fig, ax = plt.subplots()\n",
    "sns.histplot(df.price_per_sqft)\n",
    "ax.set_xlim(0,500)\n",
    "plt.show()"
   ]
  },
  {
   "cell_type": "code",
   "execution_count": 92,
   "id": "04bf0b78",
   "metadata": {},
   "outputs": [],
   "source": [
    "# Source: https://www.youtube.com/watch?v=cbqZa_1vzcg&list=PLeo1K3hjS3uu7clOTtwsp94PcHbzqpAdg&index=4&ab_channel=codebasics\n",
    "def remove_price_persqft_outliers(df):\n",
    "    df_out = pd.DataFrame()\n",
    "    for key, subdf in df.groupby('locations'):\n",
    "        m = np.mean(subdf.price_per_sqft)\n",
    "        st = np.std(subdf.price_per_sqft)\n",
    "        reduced_df = subdf[(subdf.price_per_sqft>(m-st)) & (subdf.price_per_sqft<=(m+st))]\n",
    "        df_out = pd.concat([df_out,reduced_df],ignore_index=True)\n",
    "    return df_out\n",
    "        "
   ]
  },
  {
   "cell_type": "code",
   "execution_count": 93,
   "id": "55e9fc74",
   "metadata": {
    "scrolled": true
   },
   "outputs": [
    {
     "name": "stdout",
     "output_type": "stream",
     "text": [
      "Now we have 157380 observations.\n"
     ]
    }
   ],
   "source": [
    "df = remove_price_persqft_outliers(df)\n",
    "print(f\"Now we have {len(df)} observations.\")"
   ]
  },
  {
   "cell_type": "code",
   "execution_count": 94,
   "id": "9664cf50",
   "metadata": {},
   "outputs": [
    {
     "data": {
      "text/html": [
       "<div>\n",
       "<style scoped>\n",
       "    .dataframe tbody tr th:only-of-type {\n",
       "        vertical-align: middle;\n",
       "    }\n",
       "\n",
       "    .dataframe tbody tr th {\n",
       "        vertical-align: top;\n",
       "    }\n",
       "\n",
       "    .dataframe thead th {\n",
       "        text-align: right;\n",
       "    }\n",
       "</style>\n",
       "<table border=\"1\" class=\"dataframe\">\n",
       "  <thead>\n",
       "    <tr style=\"text-align: right;\">\n",
       "      <th></th>\n",
       "      <th>bedrooms</th>\n",
       "      <th>bathrooms</th>\n",
       "      <th>area</th>\n",
       "      <th>prices</th>\n",
       "      <th>locations</th>\n",
       "      <th>property_types</th>\n",
       "      <th>pool</th>\n",
       "      <th>balcony</th>\n",
       "      <th>furnished</th>\n",
       "      <th>maid</th>\n",
       "      <th>gym</th>\n",
       "      <th>brand_new</th>\n",
       "      <th>burj_view</th>\n",
       "      <th>sea_view</th>\n",
       "      <th>beach</th>\n",
       "    </tr>\n",
       "  </thead>\n",
       "  <tbody>\n",
       "    <tr>\n",
       "      <th>0</th>\n",
       "      <td>0</td>\n",
       "      <td>1</td>\n",
       "      <td>352.0</td>\n",
       "      <td>21500.0</td>\n",
       "      <td>Academic City</td>\n",
       "      <td>Apartment</td>\n",
       "      <td>1</td>\n",
       "      <td>0</td>\n",
       "      <td>0</td>\n",
       "      <td>0</td>\n",
       "      <td>1</td>\n",
       "      <td>0</td>\n",
       "      <td>0</td>\n",
       "      <td>0</td>\n",
       "      <td>0</td>\n",
       "    </tr>\n",
       "    <tr>\n",
       "      <th>1</th>\n",
       "      <td>0</td>\n",
       "      <td>1</td>\n",
       "      <td>400.0</td>\n",
       "      <td>21500.0</td>\n",
       "      <td>Academic City</td>\n",
       "      <td>Apartment</td>\n",
       "      <td>1</td>\n",
       "      <td>1</td>\n",
       "      <td>1</td>\n",
       "      <td>0</td>\n",
       "      <td>1</td>\n",
       "      <td>0</td>\n",
       "      <td>0</td>\n",
       "      <td>0</td>\n",
       "      <td>0</td>\n",
       "    </tr>\n",
       "    <tr>\n",
       "      <th>2</th>\n",
       "      <td>0</td>\n",
       "      <td>1</td>\n",
       "      <td>400.0</td>\n",
       "      <td>21500.0</td>\n",
       "      <td>Academic City</td>\n",
       "      <td>Apartment</td>\n",
       "      <td>0</td>\n",
       "      <td>0</td>\n",
       "      <td>1</td>\n",
       "      <td>0</td>\n",
       "      <td>0</td>\n",
       "      <td>0</td>\n",
       "      <td>0</td>\n",
       "      <td>0</td>\n",
       "      <td>0</td>\n",
       "    </tr>\n",
       "    <tr>\n",
       "      <th>3</th>\n",
       "      <td>0</td>\n",
       "      <td>1</td>\n",
       "      <td>410.0</td>\n",
       "      <td>21500.0</td>\n",
       "      <td>Academic City</td>\n",
       "      <td>Apartment</td>\n",
       "      <td>1</td>\n",
       "      <td>1</td>\n",
       "      <td>1</td>\n",
       "      <td>1</td>\n",
       "      <td>1</td>\n",
       "      <td>0</td>\n",
       "      <td>1</td>\n",
       "      <td>0</td>\n",
       "      <td>0</td>\n",
       "    </tr>\n",
       "    <tr>\n",
       "      <th>4</th>\n",
       "      <td>0</td>\n",
       "      <td>1</td>\n",
       "      <td>390.0</td>\n",
       "      <td>20500.0</td>\n",
       "      <td>Academic City</td>\n",
       "      <td>Apartment</td>\n",
       "      <td>1</td>\n",
       "      <td>1</td>\n",
       "      <td>0</td>\n",
       "      <td>0</td>\n",
       "      <td>1</td>\n",
       "      <td>0</td>\n",
       "      <td>0</td>\n",
       "      <td>0</td>\n",
       "      <td>0</td>\n",
       "    </tr>\n",
       "    <tr>\n",
       "      <th>...</th>\n",
       "      <td>...</td>\n",
       "      <td>...</td>\n",
       "      <td>...</td>\n",
       "      <td>...</td>\n",
       "      <td>...</td>\n",
       "      <td>...</td>\n",
       "      <td>...</td>\n",
       "      <td>...</td>\n",
       "      <td>...</td>\n",
       "      <td>...</td>\n",
       "      <td>...</td>\n",
       "      <td>...</td>\n",
       "      <td>...</td>\n",
       "      <td>...</td>\n",
       "      <td>...</td>\n",
       "    </tr>\n",
       "    <tr>\n",
       "      <th>157375</th>\n",
       "      <td>3</td>\n",
       "      <td>3</td>\n",
       "      <td>1806.0</td>\n",
       "      <td>152000.0</td>\n",
       "      <td>World Trade Centre</td>\n",
       "      <td>Hotel Apartment</td>\n",
       "      <td>1</td>\n",
       "      <td>1</td>\n",
       "      <td>0</td>\n",
       "      <td>0</td>\n",
       "      <td>1</td>\n",
       "      <td>0</td>\n",
       "      <td>0</td>\n",
       "      <td>0</td>\n",
       "      <td>0</td>\n",
       "    </tr>\n",
       "    <tr>\n",
       "      <th>157376</th>\n",
       "      <td>3</td>\n",
       "      <td>4</td>\n",
       "      <td>1806.0</td>\n",
       "      <td>152000.0</td>\n",
       "      <td>World Trade Centre</td>\n",
       "      <td>Apartment</td>\n",
       "      <td>0</td>\n",
       "      <td>1</td>\n",
       "      <td>1</td>\n",
       "      <td>0</td>\n",
       "      <td>0</td>\n",
       "      <td>0</td>\n",
       "      <td>0</td>\n",
       "      <td>0</td>\n",
       "      <td>0</td>\n",
       "    </tr>\n",
       "    <tr>\n",
       "      <th>157377</th>\n",
       "      <td>3</td>\n",
       "      <td>4</td>\n",
       "      <td>1806.0</td>\n",
       "      <td>152000.0</td>\n",
       "      <td>World Trade Centre</td>\n",
       "      <td>Apartment</td>\n",
       "      <td>1</td>\n",
       "      <td>1</td>\n",
       "      <td>1</td>\n",
       "      <td>0</td>\n",
       "      <td>1</td>\n",
       "      <td>0</td>\n",
       "      <td>0</td>\n",
       "      <td>0</td>\n",
       "      <td>0</td>\n",
       "    </tr>\n",
       "    <tr>\n",
       "      <th>157378</th>\n",
       "      <td>3</td>\n",
       "      <td>3</td>\n",
       "      <td>1806.0</td>\n",
       "      <td>152000.0</td>\n",
       "      <td>World Trade Centre</td>\n",
       "      <td>Hotel Apartment</td>\n",
       "      <td>0</td>\n",
       "      <td>1</td>\n",
       "      <td>1</td>\n",
       "      <td>0</td>\n",
       "      <td>0</td>\n",
       "      <td>0</td>\n",
       "      <td>0</td>\n",
       "      <td>0</td>\n",
       "      <td>0</td>\n",
       "    </tr>\n",
       "    <tr>\n",
       "      <th>157379</th>\n",
       "      <td>3</td>\n",
       "      <td>4</td>\n",
       "      <td>2786.0</td>\n",
       "      <td>299900.0</td>\n",
       "      <td>World Trade Centre</td>\n",
       "      <td>Apartment</td>\n",
       "      <td>1</td>\n",
       "      <td>1</td>\n",
       "      <td>0</td>\n",
       "      <td>0</td>\n",
       "      <td>1</td>\n",
       "      <td>0</td>\n",
       "      <td>0</td>\n",
       "      <td>0</td>\n",
       "      <td>0</td>\n",
       "    </tr>\n",
       "  </tbody>\n",
       "</table>\n",
       "<p>157380 rows × 15 columns</p>\n",
       "</div>"
      ],
      "text/plain": [
       "        bedrooms  bathrooms    area    prices           locations  \\\n",
       "0              0          1   352.0   21500.0       Academic City   \n",
       "1              0          1   400.0   21500.0       Academic City   \n",
       "2              0          1   400.0   21500.0       Academic City   \n",
       "3              0          1   410.0   21500.0       Academic City   \n",
       "4              0          1   390.0   20500.0       Academic City   \n",
       "...          ...        ...     ...       ...                 ...   \n",
       "157375         3          3  1806.0  152000.0  World Trade Centre   \n",
       "157376         3          4  1806.0  152000.0  World Trade Centre   \n",
       "157377         3          4  1806.0  152000.0  World Trade Centre   \n",
       "157378         3          3  1806.0  152000.0  World Trade Centre   \n",
       "157379         3          4  2786.0  299900.0  World Trade Centre   \n",
       "\n",
       "         property_types  pool  balcony  furnished  maid  gym  brand_new  \\\n",
       "0             Apartment     1        0          0     0    1          0   \n",
       "1             Apartment     1        1          1     0    1          0   \n",
       "2             Apartment     0        0          1     0    0          0   \n",
       "3             Apartment     1        1          1     1    1          0   \n",
       "4             Apartment     1        1          0     0    1          0   \n",
       "...                 ...   ...      ...        ...   ...  ...        ...   \n",
       "157375  Hotel Apartment     1        1          0     0    1          0   \n",
       "157376        Apartment     0        1          1     0    0          0   \n",
       "157377        Apartment     1        1          1     0    1          0   \n",
       "157378  Hotel Apartment     0        1          1     0    0          0   \n",
       "157379        Apartment     1        1          0     0    1          0   \n",
       "\n",
       "        burj_view  sea_view  beach  \n",
       "0               0         0      0  \n",
       "1               0         0      0  \n",
       "2               0         0      0  \n",
       "3               1         0      0  \n",
       "4               0         0      0  \n",
       "...           ...       ...    ...  \n",
       "157375          0         0      0  \n",
       "157376          0         0      0  \n",
       "157377          0         0      0  \n",
       "157378          0         0      0  \n",
       "157379          0         0      0  \n",
       "\n",
       "[157380 rows x 15 columns]"
      ]
     },
     "execution_count": 94,
     "metadata": {},
     "output_type": "execute_result"
    }
   ],
   "source": [
    "df_final = df[['bedrooms', 'bathrooms', 'area', 'prices', 'locations',\n",
    "               'property_types','pool', 'balcony', 'furnished', 'maid', 'gym', 'brand_new', 'burj_view',\n",
    "               'sea_view', 'beach']]\n",
    "df_final"
   ]
  },
  {
   "cell_type": "code",
   "execution_count": 95,
   "id": "a5d62a6a",
   "metadata": {},
   "outputs": [],
   "source": [
    "df_final.to_csv('properties_cleaned_engineered.csv',index=False)"
   ]
  }
 ],
 "metadata": {
  "kernelspec": {
   "display_name": "ds",
   "language": "python",
   "name": "ds"
  },
  "language_info": {
   "codemirror_mode": {
    "name": "ipython",
    "version": 3
   },
   "file_extension": ".py",
   "mimetype": "text/x-python",
   "name": "python",
   "nbconvert_exporter": "python",
   "pygments_lexer": "ipython3",
   "version": "3.10.8"
  }
 },
 "nbformat": 4,
 "nbformat_minor": 5
}
