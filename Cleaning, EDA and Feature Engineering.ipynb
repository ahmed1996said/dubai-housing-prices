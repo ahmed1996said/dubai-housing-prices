{
 "cells": [
  {
   "cell_type": "code",
   "execution_count": 64,
   "id": "e625107a",
   "metadata": {},
   "outputs": [],
   "source": [
    "import pandas as pd\n",
    "import glob"
   ]
  },
  {
   "cell_type": "markdown",
   "id": "d653c020",
   "metadata": {},
   "source": [
    "### Read CSVs\n",
    "I'm combining multiple CSVs that scraped Bayut website at different times"
   ]
  },
  {
   "cell_type": "code",
   "execution_count": 65,
   "id": "1425eea9",
   "metadata": {},
   "outputs": [
    {
     "data": {
      "text/plain": [
       "['properties_dubai_furnished=all_2022-11-19 06:15:57.csv',\n",
       " 'properties_dubai_furnished=all_2022-11-19 07:19:22.csv',\n",
       " 'properties_dubai_furnished=all_2022-11-19 02:22:30.csv',\n",
       " 'properties_dubai_furnished=all_2022-11-19 05:36:05.csv',\n",
       " 'properties_dubai_furnished=all_2022-11-19 06:17:58.csv']"
      ]
     },
     "execution_count": 65,
     "metadata": {},
     "output_type": "execute_result"
    }
   ],
   "source": [
    "csvs= glob.glob(\"*.csv\")\n",
    "csvs.remove('properties_dubai_furnished=all_simple.csv')\n",
    "csvs"
   ]
  },
  {
   "cell_type": "code",
   "execution_count": 66,
   "id": "05208a09",
   "metadata": {},
   "outputs": [
    {
     "name": "stdout",
     "output_type": "stream",
     "text": [
      "Dataframe 1 has 38215 rows.\n",
      "\n",
      "Dataframe 2 has 38359 rows.\n",
      "\n",
      "Dataframe 3 has 38325 rows.\n",
      "\n",
      "Dataframe 4 has 38335 rows.\n",
      "\n",
      "Dataframe 5 has 38335 rows.\n",
      "\n"
     ]
    }
   ],
   "source": [
    "dfs = [pd.read_csv(i) for i in csvs]\n",
    "for i,df in enumerate(dfs):\n",
    "    print(f\"Dataframe {i+1} has {len(df)} rows.\\n\")"
   ]
  },
  {
   "cell_type": "markdown",
   "id": "36ea7edc",
   "metadata": {},
   "source": [
    "#### Combine all dataframes into one, and drop any duplicates"
   ]
  },
  {
   "cell_type": "code",
   "execution_count": 67,
   "id": "c87ce573",
   "metadata": {},
   "outputs": [
    {
     "data": {
      "text/html": [
       "<div>\n",
       "<style scoped>\n",
       "    .dataframe tbody tr th:only-of-type {\n",
       "        vertical-align: middle;\n",
       "    }\n",
       "\n",
       "    .dataframe tbody tr th {\n",
       "        vertical-align: top;\n",
       "    }\n",
       "\n",
       "    .dataframe thead th {\n",
       "        text-align: right;\n",
       "    }\n",
       "</style>\n",
       "<table border=\"1\" class=\"dataframe\">\n",
       "  <thead>\n",
       "    <tr style=\"text-align: right;\">\n",
       "      <th></th>\n",
       "      <th>bedrooms</th>\n",
       "      <th>bathrooms</th>\n",
       "      <th>area</th>\n",
       "      <th>prices</th>\n",
       "      <th>locations</th>\n",
       "      <th>property_types</th>\n",
       "      <th>property_keywords</th>\n",
       "      <th>description</th>\n",
       "      <th>amenities</th>\n",
       "    </tr>\n",
       "  </thead>\n",
       "  <tbody>\n",
       "    <tr>\n",
       "      <th>0</th>\n",
       "      <td>1</td>\n",
       "      <td>2</td>\n",
       "      <td>883 sqft</td>\n",
       "      <td>77,990</td>\n",
       "      <td>Loreto 3B, Loreto B, Loreto, DAMAC Hills, Dubai</td>\n",
       "      <td>Apartment</td>\n",
       "      <td>Brand New Furniture Vacant | 8,000AED / Month</td>\n",
       "      <td>Exclusive with fam Properties, this stunning w...</td>\n",
       "      <td>FurnishedBalcony or TerraceElevators in Building</td>\n",
       "    </tr>\n",
       "    <tr>\n",
       "      <th>1</th>\n",
       "      <td>2</td>\n",
       "      <td>3</td>\n",
       "      <td>8,425 sqft</td>\n",
       "      <td>200,000</td>\n",
       "      <td>Nakheel Villas, Jumeirah Village Circle (JVC),...</td>\n",
       "      <td>Villa</td>\n",
       "      <td>2BR+ Maid Room | Upgraded Interior with Turkis...</td>\n",
       "      <td>Exclusive with fam Properties, this stunning w...</td>\n",
       "      <td>FurnishedBalcony or TerraceElevators in Building</td>\n",
       "    </tr>\n",
       "    <tr>\n",
       "      <th>2</th>\n",
       "      <td>5</td>\n",
       "      <td>4</td>\n",
       "      <td>6,002 sqft</td>\n",
       "      <td>600,000</td>\n",
       "      <td>Flame Tree Ridge, Jumeirah Golf Estates, Dubai</td>\n",
       "      <td>Villa</td>\n",
       "      <td>Inverness | Earth View | Wrapped Kitchen</td>\n",
       "      <td>Exclusive with fam Properties, this stunning w...</td>\n",
       "      <td>FurnishedBalcony or TerraceElevators in Building</td>\n",
       "    </tr>\n",
       "    <tr>\n",
       "      <th>3</th>\n",
       "      <td>2</td>\n",
       "      <td>2</td>\n",
       "      <td>1,200 sqft</td>\n",
       "      <td>60,000</td>\n",
       "      <td>Rose 1 Building, Al Mankhool, Bur Dubai, Dubai</td>\n",
       "      <td>Apartment</td>\n",
       "      <td>Family Building Well Maintained 2BHK Apartment...</td>\n",
       "      <td>Exclusive with fam Properties, this stunning w...</td>\n",
       "      <td>FurnishedBalcony or TerraceElevators in Building</td>\n",
       "    </tr>\n",
       "    <tr>\n",
       "      <th>4</th>\n",
       "      <td>7</td>\n",
       "      <td>8</td>\n",
       "      <td>8,000 sqft</td>\n",
       "      <td>950,000</td>\n",
       "      <td>Hattan 2, Hattan, The Lakes, Dubai</td>\n",
       "      <td>Villa</td>\n",
       "      <td>7 Bedrooms | Opposite The Park | 3 Floors</td>\n",
       "      <td>Exclusive with fam Properties, this stunning w...</td>\n",
       "      <td>FurnishedBalcony or TerraceElevators in Building</td>\n",
       "    </tr>\n",
       "    <tr>\n",
       "      <th>...</th>\n",
       "      <td>...</td>\n",
       "      <td>...</td>\n",
       "      <td>...</td>\n",
       "      <td>...</td>\n",
       "      <td>...</td>\n",
       "      <td>...</td>\n",
       "      <td>...</td>\n",
       "      <td>...</td>\n",
       "      <td>...</td>\n",
       "    </tr>\n",
       "    <tr>\n",
       "      <th>38330</th>\n",
       "      <td>1</td>\n",
       "      <td>1</td>\n",
       "      <td>784 sqft</td>\n",
       "      <td>39,999</td>\n",
       "      <td>Muhaisnah 4, Muhaisnah, Dubai</td>\n",
       "      <td>Apartment</td>\n",
       "      <td>Ready To Move | Pay Monthly | 24x7 Call Centre</td>\n",
       "      <td>wasl ivoryDED# 619683</td>\n",
       "      <td>-1</td>\n",
       "    </tr>\n",
       "    <tr>\n",
       "      <th>38331</th>\n",
       "      <td>5</td>\n",
       "      <td>6</td>\n",
       "      <td>7,000 sqft</td>\n",
       "      <td>220,000</td>\n",
       "      <td>Jumeirah 3, Jumeirah, Dubai</td>\n",
       "      <td>Villa</td>\n",
       "      <td>Beautifully maintained: 5 b/r semi-independent...</td>\n",
       "      <td>wasl ivoryDED# 619683</td>\n",
       "      <td>-1</td>\n",
       "    </tr>\n",
       "    <tr>\n",
       "      <th>38332</th>\n",
       "      <td>5</td>\n",
       "      <td>6</td>\n",
       "      <td>15,000 sqft</td>\n",
       "      <td>220,000</td>\n",
       "      <td>Al Barsha 2, Al Barsha, Dubai</td>\n",
       "      <td>Villa</td>\n",
       "      <td>Private swimming pool and stunning landscaped ...</td>\n",
       "      <td>wasl ivoryDED# 619683</td>\n",
       "      <td>-1</td>\n",
       "    </tr>\n",
       "    <tr>\n",
       "      <th>38333</th>\n",
       "      <td>2</td>\n",
       "      <td>2</td>\n",
       "      <td>1,100 sqft</td>\n",
       "      <td>68,000</td>\n",
       "      <td>Sheikh Hamdan Colony, Al Karama, Dubai</td>\n",
       "      <td>Apartment</td>\n",
       "      <td>Spacious 2 BHK for family in Al Karama</td>\n",
       "      <td>wasl ivoryDED# 619683</td>\n",
       "      <td>-1</td>\n",
       "    </tr>\n",
       "    <tr>\n",
       "      <th>38334</th>\n",
       "      <td>Studio</td>\n",
       "      <td>1</td>\n",
       "      <td>250 sqft</td>\n",
       "      <td>18,000</td>\n",
       "      <td>Al Baraha, Deira, Dubai</td>\n",
       "      <td>Apartment</td>\n",
       "      <td>Quality Studio Behind Etisalat Office Baraha</td>\n",
       "      <td>wasl ivoryDED# 619683</td>\n",
       "      <td>-1</td>\n",
       "    </tr>\n",
       "  </tbody>\n",
       "</table>\n",
       "<p>191569 rows × 9 columns</p>\n",
       "</div>"
      ],
      "text/plain": [
       "      bedrooms bathrooms         area   prices  \\\n",
       "0            1         2     883 sqft   77,990   \n",
       "1            2         3   8,425 sqft  200,000   \n",
       "2            5         4   6,002 sqft  600,000   \n",
       "3            2         2   1,200 sqft   60,000   \n",
       "4            7         8   8,000 sqft  950,000   \n",
       "...        ...       ...          ...      ...   \n",
       "38330        1         1     784 sqft   39,999   \n",
       "38331        5         6   7,000 sqft  220,000   \n",
       "38332        5         6  15,000 sqft  220,000   \n",
       "38333        2         2   1,100 sqft   68,000   \n",
       "38334   Studio         1     250 sqft   18,000   \n",
       "\n",
       "                                               locations property_types  \\\n",
       "0        Loreto 3B, Loreto B, Loreto, DAMAC Hills, Dubai      Apartment   \n",
       "1      Nakheel Villas, Jumeirah Village Circle (JVC),...          Villa   \n",
       "2         Flame Tree Ridge, Jumeirah Golf Estates, Dubai          Villa   \n",
       "3         Rose 1 Building, Al Mankhool, Bur Dubai, Dubai      Apartment   \n",
       "4                     Hattan 2, Hattan, The Lakes, Dubai          Villa   \n",
       "...                                                  ...            ...   \n",
       "38330                      Muhaisnah 4, Muhaisnah, Dubai      Apartment   \n",
       "38331                        Jumeirah 3, Jumeirah, Dubai          Villa   \n",
       "38332                      Al Barsha 2, Al Barsha, Dubai          Villa   \n",
       "38333             Sheikh Hamdan Colony, Al Karama, Dubai      Apartment   \n",
       "38334                            Al Baraha, Deira, Dubai      Apartment   \n",
       "\n",
       "                                       property_keywords  \\\n",
       "0          Brand New Furniture Vacant | 8,000AED / Month   \n",
       "1      2BR+ Maid Room | Upgraded Interior with Turkis...   \n",
       "2               Inverness | Earth View | Wrapped Kitchen   \n",
       "3      Family Building Well Maintained 2BHK Apartment...   \n",
       "4              7 Bedrooms | Opposite The Park | 3 Floors   \n",
       "...                                                  ...   \n",
       "38330     Ready To Move | Pay Monthly | 24x7 Call Centre   \n",
       "38331  Beautifully maintained: 5 b/r semi-independent...   \n",
       "38332  Private swimming pool and stunning landscaped ...   \n",
       "38333             Spacious 2 BHK for family in Al Karama   \n",
       "38334       Quality Studio Behind Etisalat Office Baraha   \n",
       "\n",
       "                                             description  \\\n",
       "0      Exclusive with fam Properties, this stunning w...   \n",
       "1      Exclusive with fam Properties, this stunning w...   \n",
       "2      Exclusive with fam Properties, this stunning w...   \n",
       "3      Exclusive with fam Properties, this stunning w...   \n",
       "4      Exclusive with fam Properties, this stunning w...   \n",
       "...                                                  ...   \n",
       "38330                              wasl ivoryDED# 619683   \n",
       "38331                              wasl ivoryDED# 619683   \n",
       "38332                              wasl ivoryDED# 619683   \n",
       "38333                              wasl ivoryDED# 619683   \n",
       "38334                              wasl ivoryDED# 619683   \n",
       "\n",
       "                                              amenities  \n",
       "0      FurnishedBalcony or TerraceElevators in Building  \n",
       "1      FurnishedBalcony or TerraceElevators in Building  \n",
       "2      FurnishedBalcony or TerraceElevators in Building  \n",
       "3      FurnishedBalcony or TerraceElevators in Building  \n",
       "4      FurnishedBalcony or TerraceElevators in Building  \n",
       "...                                                 ...  \n",
       "38330                                                -1  \n",
       "38331                                                -1  \n",
       "38332                                                -1  \n",
       "38333                                                -1  \n",
       "38334                                                -1  \n",
       "\n",
       "[191569 rows x 9 columns]"
      ]
     },
     "execution_count": 67,
     "metadata": {},
     "output_type": "execute_result"
    }
   ],
   "source": [
    "df = pd.concat(dfs)\n",
    "df"
   ]
  },
  {
   "cell_type": "code",
   "execution_count": 68,
   "id": "a82709d3",
   "metadata": {},
   "outputs": [
    {
     "data": {
      "text/html": [
       "<div>\n",
       "<style scoped>\n",
       "    .dataframe tbody tr th:only-of-type {\n",
       "        vertical-align: middle;\n",
       "    }\n",
       "\n",
       "    .dataframe tbody tr th {\n",
       "        vertical-align: top;\n",
       "    }\n",
       "\n",
       "    .dataframe thead th {\n",
       "        text-align: right;\n",
       "    }\n",
       "</style>\n",
       "<table border=\"1\" class=\"dataframe\">\n",
       "  <thead>\n",
       "    <tr style=\"text-align: right;\">\n",
       "      <th></th>\n",
       "      <th>bedrooms</th>\n",
       "      <th>bathrooms</th>\n",
       "      <th>area</th>\n",
       "      <th>prices</th>\n",
       "      <th>locations</th>\n",
       "      <th>property_types</th>\n",
       "      <th>property_keywords</th>\n",
       "      <th>description</th>\n",
       "      <th>amenities</th>\n",
       "    </tr>\n",
       "  </thead>\n",
       "  <tbody>\n",
       "    <tr>\n",
       "      <th>0</th>\n",
       "      <td>1</td>\n",
       "      <td>2</td>\n",
       "      <td>883 sqft</td>\n",
       "      <td>77,990</td>\n",
       "      <td>Loreto 3B, Loreto B, Loreto, DAMAC Hills, Dubai</td>\n",
       "      <td>Apartment</td>\n",
       "      <td>Brand New Furniture Vacant | 8,000AED / Month</td>\n",
       "      <td>Exclusive with fam Properties, this stunning w...</td>\n",
       "      <td>FurnishedBalcony or TerraceElevators in Building</td>\n",
       "    </tr>\n",
       "    <tr>\n",
       "      <th>1</th>\n",
       "      <td>2</td>\n",
       "      <td>3</td>\n",
       "      <td>8,425 sqft</td>\n",
       "      <td>200,000</td>\n",
       "      <td>Nakheel Villas, Jumeirah Village Circle (JVC),...</td>\n",
       "      <td>Villa</td>\n",
       "      <td>2BR+ Maid Room | Upgraded Interior with Turkis...</td>\n",
       "      <td>Exclusive with fam Properties, this stunning w...</td>\n",
       "      <td>FurnishedBalcony or TerraceElevators in Building</td>\n",
       "    </tr>\n",
       "    <tr>\n",
       "      <th>2</th>\n",
       "      <td>5</td>\n",
       "      <td>4</td>\n",
       "      <td>6,002 sqft</td>\n",
       "      <td>600,000</td>\n",
       "      <td>Flame Tree Ridge, Jumeirah Golf Estates, Dubai</td>\n",
       "      <td>Villa</td>\n",
       "      <td>Inverness | Earth View | Wrapped Kitchen</td>\n",
       "      <td>Exclusive with fam Properties, this stunning w...</td>\n",
       "      <td>FurnishedBalcony or TerraceElevators in Building</td>\n",
       "    </tr>\n",
       "    <tr>\n",
       "      <th>3</th>\n",
       "      <td>2</td>\n",
       "      <td>2</td>\n",
       "      <td>1,200 sqft</td>\n",
       "      <td>60,000</td>\n",
       "      <td>Rose 1 Building, Al Mankhool, Bur Dubai, Dubai</td>\n",
       "      <td>Apartment</td>\n",
       "      <td>Family Building Well Maintained 2BHK Apartment...</td>\n",
       "      <td>Exclusive with fam Properties, this stunning w...</td>\n",
       "      <td>FurnishedBalcony or TerraceElevators in Building</td>\n",
       "    </tr>\n",
       "    <tr>\n",
       "      <th>4</th>\n",
       "      <td>7</td>\n",
       "      <td>8</td>\n",
       "      <td>8,000 sqft</td>\n",
       "      <td>950,000</td>\n",
       "      <td>Hattan 2, Hattan, The Lakes, Dubai</td>\n",
       "      <td>Villa</td>\n",
       "      <td>7 Bedrooms | Opposite The Park | 3 Floors</td>\n",
       "      <td>Exclusive with fam Properties, this stunning w...</td>\n",
       "      <td>FurnishedBalcony or TerraceElevators in Building</td>\n",
       "    </tr>\n",
       "    <tr>\n",
       "      <th>...</th>\n",
       "      <td>...</td>\n",
       "      <td>...</td>\n",
       "      <td>...</td>\n",
       "      <td>...</td>\n",
       "      <td>...</td>\n",
       "      <td>...</td>\n",
       "      <td>...</td>\n",
       "      <td>...</td>\n",
       "      <td>...</td>\n",
       "    </tr>\n",
       "    <tr>\n",
       "      <th>38203</th>\n",
       "      <td>4</td>\n",
       "      <td>4</td>\n",
       "      <td>2,387 sqft</td>\n",
       "      <td>265,000</td>\n",
       "      <td>Maple At Dubai Hills Estate 2, Maple at Dubai ...</td>\n",
       "      <td>Villa</td>\n",
       "      <td>3M | CLOSE TO POOL | GREEN BELT | COMING UP SOON</td>\n",
       "      <td>ALSO AVAILABLE FOR SHORT TERM RENT. White and ...</td>\n",
       "      <td>-1</td>\n",
       "    </tr>\n",
       "    <tr>\n",
       "      <th>38204</th>\n",
       "      <td>1</td>\n",
       "      <td>1</td>\n",
       "      <td>800 sqft</td>\n",
       "      <td>33,000</td>\n",
       "      <td>Al Warqaa, Dubai</td>\n",
       "      <td>Apartment</td>\n",
       "      <td>SPACIOUS 1BHK ONE MONTH FREE GYM POOL PARKING ...</td>\n",
       "      <td>ALSO AVAILABLE FOR SHORT TERM RENT. White and ...</td>\n",
       "      <td>-1</td>\n",
       "    </tr>\n",
       "    <tr>\n",
       "      <th>38205</th>\n",
       "      <td>4</td>\n",
       "      <td>5</td>\n",
       "      <td>7,437 sqft</td>\n",
       "      <td>700,000</td>\n",
       "      <td>Golf Place I, Golf Place, Dubai Hills Estate, ...</td>\n",
       "      <td>Villa</td>\n",
       "      <td>Brand New 4 Bedroom Villa for Rent</td>\n",
       "      <td>ALSO AVAILABLE FOR SHORT TERM RENT. White and ...</td>\n",
       "      <td>-1</td>\n",
       "    </tr>\n",
       "    <tr>\n",
       "      <th>38206</th>\n",
       "      <td>1</td>\n",
       "      <td>1</td>\n",
       "      <td>450 sqft</td>\n",
       "      <td>28,000</td>\n",
       "      <td>Hor Al Anz, Deira, Dubai</td>\n",
       "      <td>Apartment</td>\n",
       "      <td>1BEDROOM HALL FLAT W/AC FAMILY ONLY AVAILABLE ...</td>\n",
       "      <td>ALSO AVAILABLE FOR SHORT TERM RENT. White and ...</td>\n",
       "      <td>-1</td>\n",
       "    </tr>\n",
       "    <tr>\n",
       "      <th>38207</th>\n",
       "      <td>2</td>\n",
       "      <td>2</td>\n",
       "      <td>1,422 sqft</td>\n",
       "      <td>170,000</td>\n",
       "      <td>Sadaf, Jumeirah Beach Residence (JBR), Dubai</td>\n",
       "      <td>Apartment</td>\n",
       "      <td>Fully upgraded l Fully furnished l Vacant</td>\n",
       "      <td>ALSO AVAILABLE FOR SHORT TERM RENT. White and ...</td>\n",
       "      <td>-1</td>\n",
       "    </tr>\n",
       "  </tbody>\n",
       "</table>\n",
       "<p>172172 rows × 9 columns</p>\n",
       "</div>"
      ],
      "text/plain": [
       "      bedrooms bathrooms        area   prices  \\\n",
       "0            1         2    883 sqft   77,990   \n",
       "1            2         3  8,425 sqft  200,000   \n",
       "2            5         4  6,002 sqft  600,000   \n",
       "3            2         2  1,200 sqft   60,000   \n",
       "4            7         8  8,000 sqft  950,000   \n",
       "...        ...       ...         ...      ...   \n",
       "38203        4         4  2,387 sqft  265,000   \n",
       "38204        1         1    800 sqft   33,000   \n",
       "38205        4         5  7,437 sqft  700,000   \n",
       "38206        1         1    450 sqft   28,000   \n",
       "38207        2         2  1,422 sqft  170,000   \n",
       "\n",
       "                                               locations property_types  \\\n",
       "0        Loreto 3B, Loreto B, Loreto, DAMAC Hills, Dubai      Apartment   \n",
       "1      Nakheel Villas, Jumeirah Village Circle (JVC),...          Villa   \n",
       "2         Flame Tree Ridge, Jumeirah Golf Estates, Dubai          Villa   \n",
       "3         Rose 1 Building, Al Mankhool, Bur Dubai, Dubai      Apartment   \n",
       "4                     Hattan 2, Hattan, The Lakes, Dubai          Villa   \n",
       "...                                                  ...            ...   \n",
       "38203  Maple At Dubai Hills Estate 2, Maple at Dubai ...          Villa   \n",
       "38204                                   Al Warqaa, Dubai      Apartment   \n",
       "38205  Golf Place I, Golf Place, Dubai Hills Estate, ...          Villa   \n",
       "38206                           Hor Al Anz, Deira, Dubai      Apartment   \n",
       "38207       Sadaf, Jumeirah Beach Residence (JBR), Dubai      Apartment   \n",
       "\n",
       "                                       property_keywords  \\\n",
       "0          Brand New Furniture Vacant | 8,000AED / Month   \n",
       "1      2BR+ Maid Room | Upgraded Interior with Turkis...   \n",
       "2               Inverness | Earth View | Wrapped Kitchen   \n",
       "3      Family Building Well Maintained 2BHK Apartment...   \n",
       "4              7 Bedrooms | Opposite The Park | 3 Floors   \n",
       "...                                                  ...   \n",
       "38203   3M | CLOSE TO POOL | GREEN BELT | COMING UP SOON   \n",
       "38204  SPACIOUS 1BHK ONE MONTH FREE GYM POOL PARKING ...   \n",
       "38205                 Brand New 4 Bedroom Villa for Rent   \n",
       "38206  1BEDROOM HALL FLAT W/AC FAMILY ONLY AVAILABLE ...   \n",
       "38207          Fully upgraded l Fully furnished l Vacant   \n",
       "\n",
       "                                             description  \\\n",
       "0      Exclusive with fam Properties, this stunning w...   \n",
       "1      Exclusive with fam Properties, this stunning w...   \n",
       "2      Exclusive with fam Properties, this stunning w...   \n",
       "3      Exclusive with fam Properties, this stunning w...   \n",
       "4      Exclusive with fam Properties, this stunning w...   \n",
       "...                                                  ...   \n",
       "38203  ALSO AVAILABLE FOR SHORT TERM RENT. White and ...   \n",
       "38204  ALSO AVAILABLE FOR SHORT TERM RENT. White and ...   \n",
       "38205  ALSO AVAILABLE FOR SHORT TERM RENT. White and ...   \n",
       "38206  ALSO AVAILABLE FOR SHORT TERM RENT. White and ...   \n",
       "38207  ALSO AVAILABLE FOR SHORT TERM RENT. White and ...   \n",
       "\n",
       "                                              amenities  \n",
       "0      FurnishedBalcony or TerraceElevators in Building  \n",
       "1      FurnishedBalcony or TerraceElevators in Building  \n",
       "2      FurnishedBalcony or TerraceElevators in Building  \n",
       "3      FurnishedBalcony or TerraceElevators in Building  \n",
       "4      FurnishedBalcony or TerraceElevators in Building  \n",
       "...                                                 ...  \n",
       "38203                                                -1  \n",
       "38204                                                -1  \n",
       "38205                                                -1  \n",
       "38206                                                -1  \n",
       "38207                                                -1  \n",
       "\n",
       "[172172 rows x 9 columns]"
      ]
     },
     "execution_count": 68,
     "metadata": {},
     "output_type": "execute_result"
    }
   ],
   "source": [
    "df = df.drop_duplicates()\n",
    "df"
   ]
  },
  {
   "cell_type": "markdown",
   "id": "d8bf526f",
   "metadata": {},
   "source": [
    "#### Let's remove the rows without area"
   ]
  },
  {
   "cell_type": "code",
   "execution_count": 69,
   "id": "db0d21da",
   "metadata": {},
   "outputs": [
    {
     "name": "stdout",
     "output_type": "stream",
     "text": [
      "165326\n"
     ]
    }
   ],
   "source": [
    "df = df.drop(index=df[df.area == '-1'].index)\n",
    "print(len(df))"
   ]
  },
  {
   "cell_type": "code",
   "execution_count": 79,
   "id": "7f53f4db",
   "metadata": {},
   "outputs": [
    {
     "data": {
      "text/plain": [
       "1     50511\n",
       "2     48425\n",
       "3     23834\n",
       "0     19773\n",
       "4      9898\n",
       "5      9130\n",
       "6      2248\n",
       "7       733\n",
       "8       388\n",
       "10      118\n",
       "9       114\n",
       "12       58\n",
       "21       24\n",
       "11       23\n",
       "16       11\n",
       "14       10\n",
       "18        8\n",
       "17        6\n",
       "13        6\n",
       "15        4\n",
       "20        4\n",
       "Name: bedrooms, dtype: int64"
      ]
     },
     "execution_count": 79,
     "metadata": {},
     "output_type": "execute_result"
    }
   ],
   "source": [
    "df['bedrooms'].value_counts()"
   ]
  },
  {
   "cell_type": "code",
   "execution_count": 71,
   "id": "b4e81200",
   "metadata": {},
   "outputs": [],
   "source": [
    "df.locations = df.locations.apply(lambda x: x.split(',')[-2].strip())\n",
    "df.bedrooms = df.bedrooms.apply(lambda x: '0' if x=='Studio' else x)\n",
    "df.prices = df.prices.apply(lambda x: x.replace(',',''))\n",
    "df.area = df.area.apply(lambda x: x.replace('sqft','').replace(',',''))"
   ]
  },
  {
   "cell_type": "code",
   "execution_count": 72,
   "id": "43e92558",
   "metadata": {},
   "outputs": [],
   "source": [
    "df.bedrooms = df.bedrooms.astype(int)\n",
    "df.bathrooms = df.bathrooms.astype(int)\n",
    "df.prices = df.prices.astype(float)\n",
    "df.area = df.area.astype(float)"
   ]
  },
  {
   "cell_type": "code",
   "execution_count": 73,
   "id": "dda9b190",
   "metadata": {},
   "outputs": [
    {
     "data": {
      "text/html": [
       "<div>\n",
       "<style scoped>\n",
       "    .dataframe tbody tr th:only-of-type {\n",
       "        vertical-align: middle;\n",
       "    }\n",
       "\n",
       "    .dataframe tbody tr th {\n",
       "        vertical-align: top;\n",
       "    }\n",
       "\n",
       "    .dataframe thead th {\n",
       "        text-align: right;\n",
       "    }\n",
       "</style>\n",
       "<table border=\"1\" class=\"dataframe\">\n",
       "  <thead>\n",
       "    <tr style=\"text-align: right;\">\n",
       "      <th></th>\n",
       "      <th>bedrooms</th>\n",
       "      <th>bathrooms</th>\n",
       "      <th>area</th>\n",
       "      <th>prices</th>\n",
       "      <th>locations</th>\n",
       "      <th>property_types</th>\n",
       "      <th>property_keywords</th>\n",
       "      <th>description</th>\n",
       "      <th>amenities</th>\n",
       "    </tr>\n",
       "  </thead>\n",
       "  <tbody>\n",
       "    <tr>\n",
       "      <th>0</th>\n",
       "      <td>1</td>\n",
       "      <td>2</td>\n",
       "      <td>883.0</td>\n",
       "      <td>77990.0</td>\n",
       "      <td>DAMAC Hills</td>\n",
       "      <td>Apartment</td>\n",
       "      <td>Brand New Furniture Vacant | 8,000AED / Month</td>\n",
       "      <td>Exclusive with fam Properties, this stunning w...</td>\n",
       "      <td>FurnishedBalcony or TerraceElevators in Building</td>\n",
       "    </tr>\n",
       "    <tr>\n",
       "      <th>1</th>\n",
       "      <td>2</td>\n",
       "      <td>3</td>\n",
       "      <td>8425.0</td>\n",
       "      <td>200000.0</td>\n",
       "      <td>Jumeirah Village Circle (JVC)</td>\n",
       "      <td>Villa</td>\n",
       "      <td>2BR+ Maid Room | Upgraded Interior with Turkis...</td>\n",
       "      <td>Exclusive with fam Properties, this stunning w...</td>\n",
       "      <td>FurnishedBalcony or TerraceElevators in Building</td>\n",
       "    </tr>\n",
       "    <tr>\n",
       "      <th>2</th>\n",
       "      <td>5</td>\n",
       "      <td>4</td>\n",
       "      <td>6002.0</td>\n",
       "      <td>600000.0</td>\n",
       "      <td>Jumeirah Golf Estates</td>\n",
       "      <td>Villa</td>\n",
       "      <td>Inverness | Earth View | Wrapped Kitchen</td>\n",
       "      <td>Exclusive with fam Properties, this stunning w...</td>\n",
       "      <td>FurnishedBalcony or TerraceElevators in Building</td>\n",
       "    </tr>\n",
       "    <tr>\n",
       "      <th>3</th>\n",
       "      <td>2</td>\n",
       "      <td>2</td>\n",
       "      <td>1200.0</td>\n",
       "      <td>60000.0</td>\n",
       "      <td>Bur Dubai</td>\n",
       "      <td>Apartment</td>\n",
       "      <td>Family Building Well Maintained 2BHK Apartment...</td>\n",
       "      <td>Exclusive with fam Properties, this stunning w...</td>\n",
       "      <td>FurnishedBalcony or TerraceElevators in Building</td>\n",
       "    </tr>\n",
       "    <tr>\n",
       "      <th>4</th>\n",
       "      <td>7</td>\n",
       "      <td>8</td>\n",
       "      <td>8000.0</td>\n",
       "      <td>950000.0</td>\n",
       "      <td>The Lakes</td>\n",
       "      <td>Villa</td>\n",
       "      <td>7 Bedrooms | Opposite The Park | 3 Floors</td>\n",
       "      <td>Exclusive with fam Properties, this stunning w...</td>\n",
       "      <td>FurnishedBalcony or TerraceElevators in Building</td>\n",
       "    </tr>\n",
       "    <tr>\n",
       "      <th>...</th>\n",
       "      <td>...</td>\n",
       "      <td>...</td>\n",
       "      <td>...</td>\n",
       "      <td>...</td>\n",
       "      <td>...</td>\n",
       "      <td>...</td>\n",
       "      <td>...</td>\n",
       "      <td>...</td>\n",
       "      <td>...</td>\n",
       "    </tr>\n",
       "    <tr>\n",
       "      <th>38203</th>\n",
       "      <td>4</td>\n",
       "      <td>4</td>\n",
       "      <td>2387.0</td>\n",
       "      <td>265000.0</td>\n",
       "      <td>Dubai Hills Estate</td>\n",
       "      <td>Villa</td>\n",
       "      <td>3M | CLOSE TO POOL | GREEN BELT | COMING UP SOON</td>\n",
       "      <td>ALSO AVAILABLE FOR SHORT TERM RENT. White and ...</td>\n",
       "      <td>-1</td>\n",
       "    </tr>\n",
       "    <tr>\n",
       "      <th>38204</th>\n",
       "      <td>1</td>\n",
       "      <td>1</td>\n",
       "      <td>800.0</td>\n",
       "      <td>33000.0</td>\n",
       "      <td>Al Warqaa</td>\n",
       "      <td>Apartment</td>\n",
       "      <td>SPACIOUS 1BHK ONE MONTH FREE GYM POOL PARKING ...</td>\n",
       "      <td>ALSO AVAILABLE FOR SHORT TERM RENT. White and ...</td>\n",
       "      <td>-1</td>\n",
       "    </tr>\n",
       "    <tr>\n",
       "      <th>38205</th>\n",
       "      <td>4</td>\n",
       "      <td>5</td>\n",
       "      <td>7437.0</td>\n",
       "      <td>700000.0</td>\n",
       "      <td>Dubai Hills Estate</td>\n",
       "      <td>Villa</td>\n",
       "      <td>Brand New 4 Bedroom Villa for Rent</td>\n",
       "      <td>ALSO AVAILABLE FOR SHORT TERM RENT. White and ...</td>\n",
       "      <td>-1</td>\n",
       "    </tr>\n",
       "    <tr>\n",
       "      <th>38206</th>\n",
       "      <td>1</td>\n",
       "      <td>1</td>\n",
       "      <td>450.0</td>\n",
       "      <td>28000.0</td>\n",
       "      <td>Deira</td>\n",
       "      <td>Apartment</td>\n",
       "      <td>1BEDROOM HALL FLAT W/AC FAMILY ONLY AVAILABLE ...</td>\n",
       "      <td>ALSO AVAILABLE FOR SHORT TERM RENT. White and ...</td>\n",
       "      <td>-1</td>\n",
       "    </tr>\n",
       "    <tr>\n",
       "      <th>38207</th>\n",
       "      <td>2</td>\n",
       "      <td>2</td>\n",
       "      <td>1422.0</td>\n",
       "      <td>170000.0</td>\n",
       "      <td>Jumeirah Beach Residence (JBR)</td>\n",
       "      <td>Apartment</td>\n",
       "      <td>Fully upgraded l Fully furnished l Vacant</td>\n",
       "      <td>ALSO AVAILABLE FOR SHORT TERM RENT. White and ...</td>\n",
       "      <td>-1</td>\n",
       "    </tr>\n",
       "  </tbody>\n",
       "</table>\n",
       "<p>165326 rows × 9 columns</p>\n",
       "</div>"
      ],
      "text/plain": [
       "       bedrooms  bathrooms    area    prices                       locations  \\\n",
       "0             1          2   883.0   77990.0                     DAMAC Hills   \n",
       "1             2          3  8425.0  200000.0   Jumeirah Village Circle (JVC)   \n",
       "2             5          4  6002.0  600000.0           Jumeirah Golf Estates   \n",
       "3             2          2  1200.0   60000.0                       Bur Dubai   \n",
       "4             7          8  8000.0  950000.0                       The Lakes   \n",
       "...         ...        ...     ...       ...                             ...   \n",
       "38203         4          4  2387.0  265000.0              Dubai Hills Estate   \n",
       "38204         1          1   800.0   33000.0                       Al Warqaa   \n",
       "38205         4          5  7437.0  700000.0              Dubai Hills Estate   \n",
       "38206         1          1   450.0   28000.0                           Deira   \n",
       "38207         2          2  1422.0  170000.0  Jumeirah Beach Residence (JBR)   \n",
       "\n",
       "      property_types                                  property_keywords  \\\n",
       "0          Apartment      Brand New Furniture Vacant | 8,000AED / Month   \n",
       "1              Villa  2BR+ Maid Room | Upgraded Interior with Turkis...   \n",
       "2              Villa           Inverness | Earth View | Wrapped Kitchen   \n",
       "3          Apartment  Family Building Well Maintained 2BHK Apartment...   \n",
       "4              Villa          7 Bedrooms | Opposite The Park | 3 Floors   \n",
       "...              ...                                                ...   \n",
       "38203          Villa   3M | CLOSE TO POOL | GREEN BELT | COMING UP SOON   \n",
       "38204      Apartment  SPACIOUS 1BHK ONE MONTH FREE GYM POOL PARKING ...   \n",
       "38205          Villa                 Brand New 4 Bedroom Villa for Rent   \n",
       "38206      Apartment  1BEDROOM HALL FLAT W/AC FAMILY ONLY AVAILABLE ...   \n",
       "38207      Apartment          Fully upgraded l Fully furnished l Vacant   \n",
       "\n",
       "                                             description  \\\n",
       "0      Exclusive with fam Properties, this stunning w...   \n",
       "1      Exclusive with fam Properties, this stunning w...   \n",
       "2      Exclusive with fam Properties, this stunning w...   \n",
       "3      Exclusive with fam Properties, this stunning w...   \n",
       "4      Exclusive with fam Properties, this stunning w...   \n",
       "...                                                  ...   \n",
       "38203  ALSO AVAILABLE FOR SHORT TERM RENT. White and ...   \n",
       "38204  ALSO AVAILABLE FOR SHORT TERM RENT. White and ...   \n",
       "38205  ALSO AVAILABLE FOR SHORT TERM RENT. White and ...   \n",
       "38206  ALSO AVAILABLE FOR SHORT TERM RENT. White and ...   \n",
       "38207  ALSO AVAILABLE FOR SHORT TERM RENT. White and ...   \n",
       "\n",
       "                                              amenities  \n",
       "0      FurnishedBalcony or TerraceElevators in Building  \n",
       "1      FurnishedBalcony or TerraceElevators in Building  \n",
       "2      FurnishedBalcony or TerraceElevators in Building  \n",
       "3      FurnishedBalcony or TerraceElevators in Building  \n",
       "4      FurnishedBalcony or TerraceElevators in Building  \n",
       "...                                                 ...  \n",
       "38203                                                -1  \n",
       "38204                                                -1  \n",
       "38205                                                -1  \n",
       "38206                                                -1  \n",
       "38207                                                -1  \n",
       "\n",
       "[165326 rows x 9 columns]"
      ]
     },
     "execution_count": 73,
     "metadata": {},
     "output_type": "execute_result"
    }
   ],
   "source": [
    "df"
   ]
  },
  {
   "cell_type": "code",
   "execution_count": 74,
   "id": "6f795fd6",
   "metadata": {
    "scrolled": true
   },
   "outputs": [
    {
     "data": {
      "text/plain": [
       "['Jumeirah Village Circle (JVC)',\n",
       " 'Downtown Dubai',\n",
       " 'Bur Dubai',\n",
       " 'Dubai Marina',\n",
       " 'Business Bay',\n",
       " 'Al Nahda (Dubai)',\n",
       " 'Al Barsha',\n",
       " 'International City',\n",
       " 'Al Jaddaf',\n",
       " 'Deira',\n",
       " 'Arjan',\n",
       " 'Dubai Silicon Oasis',\n",
       " 'Palm Jumeirah',\n",
       " 'Al Karama',\n",
       " 'The Lagoons',\n",
       " 'Al Warqaa',\n",
       " 'Dubailand',\n",
       " 'Jumeirah Beach Residence (JBR)',\n",
       " 'Dubai Hills Estate',\n",
       " 'Dubai South',\n",
       " 'Jumeirah Lake Towers (JLT)',\n",
       " 'DAMAC Hills 2 (Akoya by DAMAC)',\n",
       " 'Dubai Sports City',\n",
       " 'Mirdif',\n",
       " 'DAMAC Hills',\n",
       " 'Sheikh Zayed Road',\n",
       " 'Al Qusais',\n",
       " 'Barsha Heights (Tecom)',\n",
       " 'Al Furjan',\n",
       " 'Discovery Gardens',\n",
       " 'Al Warsan',\n",
       " 'Umm Suqeim',\n",
       " 'Jumeirah',\n",
       " 'Ras Al Khor',\n",
       " 'Mohammed Bin Rashid City',\n",
       " 'Al Quoz',\n",
       " 'Arabian Ranches 2',\n",
       " 'Dubai Harbour',\n",
       " 'Town Square',\n",
       " 'Dubai Investment Park (DIP)',\n",
       " 'Nad Al Sheba',\n",
       " 'Dubai Residence Complex',\n",
       " 'Dubai Production City (IMPZ)',\n",
       " 'Al Satwa',\n",
       " 'Meydan City',\n",
       " 'Muhaisnah',\n",
       " 'Jumeirah Park',\n",
       " 'Remraam',\n",
       " 'Al Khawaneej',\n",
       " 'Jumeirah Village Triangle (JVT)',\n",
       " 'The Gardens',\n",
       " 'Wasl Gate',\n",
       " 'The Springs',\n",
       " 'Arabian Ranches',\n",
       " 'Motor City',\n",
       " 'Al Awir',\n",
       " 'Al Garhoud',\n",
       " 'Liwan',\n",
       " 'Jumeirah Golf Estates',\n",
       " 'Nad Al Hamar',\n",
       " 'Al Mamzar',\n",
       " 'Reem',\n",
       " 'Al Mina',\n",
       " 'The Greens',\n",
       " 'The Meadows',\n",
       " 'Al Barari',\n",
       " 'Culture Village',\n",
       " 'Al Hudaiba',\n",
       " 'DIFC',\n",
       " 'Bluewaters Island',\n",
       " 'Al Sufouh',\n",
       " 'Emirates Hills',\n",
       " 'Mudon',\n",
       " 'Al Wasl',\n",
       " 'The Villa',\n",
       " 'Dubai Waterfront',\n",
       " 'The Views',\n",
       " 'Jumeirah Islands',\n",
       " 'Dubai Festival City',\n",
       " 'Dubai Media City',\n",
       " 'Al Mizhar',\n",
       " 'Al Safa',\n",
       " 'Academic City',\n",
       " 'Jebel Ali',\n",
       " 'Al Badaa',\n",
       " 'Dubai Science Park',\n",
       " 'The Hills',\n",
       " 'Dubai Industrial Park',\n",
       " 'Serena',\n",
       " 'Green Community',\n",
       " 'Downtown Jebel Ali',\n",
       " 'Al Manara',\n",
       " 'World Trade Centre',\n",
       " 'Oud Al Muteena',\n",
       " 'Al Jafiliya',\n",
       " 'Al Rashidiya',\n",
       " 'Dubai Studio City',\n",
       " 'The Lakes',\n",
       " 'Liwan 2',\n",
       " 'Umm Ramool',\n",
       " 'Arabian Ranches 3',\n",
       " 'Dubai World Central',\n",
       " 'Wadi Al Shabak',\n",
       " 'Dubai Maritime City',\n",
       " 'Wadi Al Safa 2',\n",
       " 'Pearl Jumeirah',\n",
       " 'Umm Al Sheif',\n",
       " 'Al Twar',\n",
       " 'Al Lisaili',\n",
       " 'City of Arabia',\n",
       " 'The Sustainable City',\n",
       " 'Dubai Internet City',\n",
       " 'Jumeirah Heights',\n",
       " 'Bukadra',\n",
       " 'Damac Lagoons',\n",
       " 'Nad Shamma',\n",
       " 'Deira Island',\n",
       " 'The World Islands',\n",
       " 'Palm Jebel Ali']"
      ]
     },
     "execution_count": 74,
     "metadata": {},
     "output_type": "execute_result"
    }
   ],
   "source": [
    "list(df.locations.value_counts().keys())"
   ]
  },
  {
   "cell_type": "code",
   "execution_count": 75,
   "id": "04d0d908",
   "metadata": {},
   "outputs": [
    {
     "data": {
      "text/plain": [
       "<AxesSubplot: >"
      ]
     },
     "execution_count": 75,
     "metadata": {},
     "output_type": "execute_result"
    },
    {
     "data": {
      "image/png": "[encoded data removed]",
      "text/plain": [
       "<Figure size 432x288 with 1 Axes>"
      ]
     },
     "metadata": {
      "needs_background": "light"
     },
     "output_type": "display_data"
    }
   ],
   "source": [
    "df.bathrooms.hist()"
   ]
  },
  {
   "cell_type": "code",
   "execution_count": 76,
   "id": "6517e7a0",
   "metadata": {},
   "outputs": [
    {
     "data": {
      "text/plain": [
       "<AxesSubplot: >"
      ]
     },
     "execution_count": 76,
     "metadata": {},
     "output_type": "execute_result"
    },
    {
     "data": {
      "image/png": "[encoded data removed]",
      "text/plain": [
       "<Figure size 432x288 with 1 Axes>"
      ]
     },
     "metadata": {
      "needs_background": "light"
     },
     "output_type": "display_data"
    }
   ],
   "source": [
    "df.bedrooms.hist()"
   ]
  },
  {
   "cell_type": "code",
   "execution_count": 77,
   "id": "a163b4e0",
   "metadata": {},
   "outputs": [
    {
     "data": {
      "text/plain": [
       "Jumeirah Village Circle (JVC)    14231\n",
       "Downtown Dubai                    9324\n",
       "Bur Dubai                         9103\n",
       "Dubai Marina                      8498\n",
       "Business Bay                      7390\n",
       "                                 ...  \n",
       "Damac Lagoons                        5\n",
       "Nad Shamma                           5\n",
       "Deira Island                         3\n",
       "The World Islands                    3\n",
       "Palm Jebel Ali                       2\n",
       "Name: locations, Length: 119, dtype: int64"
      ]
     },
     "execution_count": 77,
     "metadata": {},
     "output_type": "execute_result"
    }
   ],
   "source": [
    "df.locations.value_counts()"
   ]
  },
  {
   "cell_type": "code",
   "execution_count": 78,
   "id": "cee2378d",
   "metadata": {},
   "outputs": [
    {
     "data": {
      "text/plain": [
       "Apartment               132097\n",
       "Villa                    25882\n",
       "Townhouse                 5158\n",
       "Hotel Apartment           1459\n",
       "Penthouse                  630\n",
       "Residential Floor           43\n",
       "Villa Compound              37\n",
       "Residential Building        20\n",
       "Name: property_types, dtype: int64"
      ]
     },
     "execution_count": 78,
     "metadata": {},
     "output_type": "execute_result"
    }
   ],
   "source": [
    "df.property_types.value_counts()"
   ]
  },
  {
   "cell_type": "markdown",
   "id": "d627c41d",
   "metadata": {},
   "source": [
    "# Feature Engineering"
   ]
  },
  {
   "cell_type": "markdown",
   "id": "e91810ae",
   "metadata": {},
   "source": [
    "### Pool"
   ]
  },
  {
   "cell_type": "code",
   "execution_count": 87,
   "id": "aed3882f",
   "metadata": {},
   "outputs": [],
   "source": [
    "df['pool'] = df.apply(lambda x: 1 if 'pool' in x.description.lower() or 'pool' in x.amenities.lower() or 'pool' in x.property_keywords.lower() else 0  ,axis=1)"
   ]
  },
  {
   "cell_type": "code",
   "execution_count": 85,
   "id": "c88f3eb1",
   "metadata": {},
   "outputs": [
    {
     "data": {
      "text/plain": [
       "1    126542\n",
       "0     38784\n",
       "dtype: int64"
      ]
     },
     "execution_count": 85,
     "metadata": {},
     "output_type": "execute_result"
    }
   ],
   "source": [
    "df.pool.value_counts()"
   ]
  },
  {
   "cell_type": "markdown",
   "id": "9c6279c3",
   "metadata": {},
   "source": [
    "### Balcony"
   ]
  },
  {
   "cell_type": "code",
   "execution_count": 94,
   "id": "8d2679ca",
   "metadata": {},
   "outputs": [
    {
     "data": {
      "text/plain": [
       "1    127216\n",
       "0     38110\n",
       "Name: balcony, dtype: int64"
      ]
     },
     "execution_count": 94,
     "metadata": {},
     "output_type": "execute_result"
    }
   ],
   "source": [
    "df['balcony'] = df.apply(lambda x: 1 \n",
    "                         if 'balcony' in x.description.lower() or 'terrace' in x.description.lower()\n",
    "                         or 'balcony' in x.amenities.lower()  or 'terrace' in x.amenities.lower()\n",
    "                         or 'balcony' in x.property_keywords.lower() or 'terrace' in x.property_keywords.lower() \n",
    "                         else 0  ,axis=1)\n",
    "df.balcony.value_counts()\n"
   ]
  },
  {
   "cell_type": "markdown",
   "id": "f4db3b2d",
   "metadata": {},
   "source": [
    "### Furnished"
   ]
  },
  {
   "cell_type": "code",
   "execution_count": 96,
   "id": "53fc7648",
   "metadata": {},
   "outputs": [
    {
     "data": {
      "text/plain": [
       "0    91757\n",
       "1    73569\n",
       "Name: furnished, dtype: int64"
      ]
     },
     "execution_count": 96,
     "metadata": {},
     "output_type": "execute_result"
    }
   ],
   "source": [
    "df['furnished'] = df.apply(lambda x: 1 \n",
    "                         if 'furnished' in x.description.lower() \n",
    "                         or 'furnished' in x.amenities.lower() \n",
    "                         or 'furnished' in x.property_keywords.lower() \n",
    "                         else 0  ,axis=1)\n",
    "df.furnished.value_counts()\n"
   ]
  },
  {
   "cell_type": "markdown",
   "id": "05571292",
   "metadata": {},
   "source": [
    "### Maid's room"
   ]
  },
  {
   "cell_type": "code",
   "execution_count": 97,
   "id": "6003d04a",
   "metadata": {},
   "outputs": [
    {
     "data": {
      "text/plain": [
       "0    91757\n",
       "1    73569\n",
       "Name: furnished, dtype: int64"
      ]
     },
     "execution_count": 97,
     "metadata": {},
     "output_type": "execute_result"
    }
   ],
   "source": [
    "df['maid'] = df.apply(lambda x: 1 \n",
    "                         if 'maid' in x.description.lower() \n",
    "                         or 'maid' in x.amenities.lower() \n",
    "                         or 'maid' in x.property_keywords.lower() \n",
    "                         else 0  ,axis=1)\n",
    "df.furnished.value_counts()\n"
   ]
  },
  {
   "cell_type": "markdown",
   "id": "b385adc3",
   "metadata": {},
   "source": [
    "### Gym"
   ]
  },
  {
   "cell_type": "code",
   "execution_count": 111,
   "id": "2253ee0f",
   "metadata": {},
   "outputs": [
    {
     "data": {
      "text/plain": [
       "1    124475\n",
       "0     40851\n",
       "Name: gym, dtype: int64"
      ]
     },
     "execution_count": 111,
     "metadata": {},
     "output_type": "execute_result"
    }
   ],
   "source": [
    "df['gym'] = df.apply(lambda x: 1 \n",
    "                         if 'gym' in x.description.lower() or 'fitness' in x.description.lower() or 'gymnasium' in x.description.lower() \n",
    "                         or 'gym' in x.amenities.lower() or 'fitness' in x.amenities.lower() or 'gymnasium' in x.amenities.lower() \n",
    "                         or 'gym' in x.property_keywords.lower() or 'fitness' in x.property_keywords.lower() or 'gymnasium' in x.property_keywords.lower() \n",
    "                         else 0  ,axis=1)\n",
    "df.gym.value_counts()"
   ]
  },
  {
   "cell_type": "markdown",
   "id": "1c159a59",
   "metadata": {},
   "source": [
    "### Brand New"
   ]
  },
  {
   "cell_type": "code",
   "execution_count": 106,
   "id": "19d27ed2",
   "metadata": {},
   "outputs": [
    {
     "data": {
      "text/plain": [
       "0    123319\n",
       "1     42007\n",
       "Name: brand_new, dtype: int64"
      ]
     },
     "execution_count": 106,
     "metadata": {},
     "output_type": "execute_result"
    }
   ],
   "source": [
    "df['brand_new'] = df.apply(lambda x: 1 \n",
    "                         if 'brand new' in x.description.lower()\n",
    "                         or 'brand new' in x.amenities.lower() \n",
    "                         or 'brand new' in x.property_keywords.lower()\n",
    "                         else 0  ,axis=1)\n",
    "df.brand_new.value_counts()"
   ]
  },
  {
   "cell_type": "markdown",
   "id": "06849e9c",
   "metadata": {},
   "source": [
    "### Burj Khalifa View"
   ]
  },
  {
   "cell_type": "code",
   "execution_count": 144,
   "id": "64310ae6",
   "metadata": {},
   "outputs": [
    {
     "data": {
      "text/plain": [
       "0    150322\n",
       "1     15004\n",
       "Name: burj_view, dtype: int64"
      ]
     },
     "execution_count": 144,
     "metadata": {},
     "output_type": "execute_result"
    }
   ],
   "source": [
    "df['burj_view'] = df.apply(lambda x: 1 \n",
    "                         if ('burj khalifa' in x.description.lower() and 'view' in x.description.lower())\n",
    "                         or ('burj khalifa' in x.amenities.lower()  and 'view' in x.amenities.lower())\n",
    "                         or ('burj khalifa' in x.property_keywords.lower() and 'view' in x.property_keywords.lower())\n",
    "                         else 0  ,axis=1)\n",
    "df.burj_view.value_counts()"
   ]
  },
  {
   "cell_type": "markdown",
   "id": "1df1603e",
   "metadata": {},
   "source": [
    "### Sea View"
   ]
  },
  {
   "cell_type": "code",
   "execution_count": 146,
   "id": "afaa70bd",
   "metadata": {},
   "outputs": [
    {
     "data": {
      "text/plain": [
       "0    154140\n",
       "1     11186\n",
       "Name: sea_view, dtype: int64"
      ]
     },
     "execution_count": 146,
     "metadata": {},
     "output_type": "execute_result"
    }
   ],
   "source": [
    "df['sea_view'] = df.apply(lambda x: 1 \n",
    "                         if 'sea view' in x.description.lower() \n",
    "                         or 'sea view' in x.amenities.lower()\n",
    "                         or 'sea view' in x.property_keywords.lower()\n",
    "                         else 0  ,axis=1)\n",
    "df.sea_view.value_counts()"
   ]
  },
  {
   "cell_type": "markdown",
   "id": "3e18d1af",
   "metadata": {},
   "source": [
    "### At beach or proximity to beach"
   ]
  },
  {
   "cell_type": "code",
   "execution_count": 149,
   "id": "9e291563",
   "metadata": {},
   "outputs": [
    {
     "data": {
      "text/plain": [
       "0    148917\n",
       "1     16409\n",
       "Name: beach, dtype: int64"
      ]
     },
     "execution_count": 149,
     "metadata": {},
     "output_type": "execute_result"
    }
   ],
   "source": [
    "df['beach'] = df.apply(lambda x: 1 \n",
    "                         if 'beach'in x.description.lower()\n",
    "                         or 'beach'  in x.amenities.lower() \n",
    "                         or 'beach'  in x.property_keywords.lower()\n",
    "                         else 0  ,axis=1)\n",
    "df.beach.value_counts()"
   ]
  },
  {
   "cell_type": "code",
   "execution_count": 155,
   "id": "07b605c9",
   "metadata": {},
   "outputs": [
    {
     "data": {
      "text/plain": [
       "Index(['bedrooms', 'bathrooms', 'area', 'prices', 'locations',\n",
       "       'property_types', 'property_keywords', 'description', 'amenities',\n",
       "       'pool', 'balcony', 'furnished', 'maid', 'gym', 'brand_new', 'burj_view',\n",
       "       'sea_view', 'beach'],\n",
       "      dtype='object')"
      ]
     },
     "execution_count": 155,
     "metadata": {},
     "output_type": "execute_result"
    }
   ],
   "source": [
    "df.columns"
   ]
  },
  {
   "cell_type": "code",
   "execution_count": 161,
   "id": "9664cf50",
   "metadata": {},
   "outputs": [
    {
     "data": {
      "text/html": [
       "<div>\n",
       "<style scoped>\n",
       "    .dataframe tbody tr th:only-of-type {\n",
       "        vertical-align: middle;\n",
       "    }\n",
       "\n",
       "    .dataframe tbody tr th {\n",
       "        vertical-align: top;\n",
       "    }\n",
       "\n",
       "    .dataframe thead th {\n",
       "        text-align: right;\n",
       "    }\n",
       "</style>\n",
       "<table border=\"1\" class=\"dataframe\">\n",
       "  <thead>\n",
       "    <tr style=\"text-align: right;\">\n",
       "      <th></th>\n",
       "      <th>bedrooms</th>\n",
       "      <th>bathrooms</th>\n",
       "      <th>area</th>\n",
       "      <th>prices</th>\n",
       "      <th>locations</th>\n",
       "      <th>property_types</th>\n",
       "      <th>pool</th>\n",
       "      <th>balcony</th>\n",
       "      <th>furnished</th>\n",
       "      <th>maid</th>\n",
       "      <th>gym</th>\n",
       "      <th>brand_new</th>\n",
       "      <th>burj_view</th>\n",
       "      <th>sea_view</th>\n",
       "      <th>beach</th>\n",
       "    </tr>\n",
       "  </thead>\n",
       "  <tbody>\n",
       "    <tr>\n",
       "      <th>0</th>\n",
       "      <td>1</td>\n",
       "      <td>2</td>\n",
       "      <td>883.0</td>\n",
       "      <td>77990.0</td>\n",
       "      <td>DAMAC Hills</td>\n",
       "      <td>Apartment</td>\n",
       "      <td>0</td>\n",
       "      <td>1</td>\n",
       "      <td>1</td>\n",
       "      <td>0</td>\n",
       "      <td>1</td>\n",
       "      <td>1</td>\n",
       "      <td>0</td>\n",
       "      <td>0</td>\n",
       "      <td>0</td>\n",
       "    </tr>\n",
       "    <tr>\n",
       "      <th>1</th>\n",
       "      <td>2</td>\n",
       "      <td>3</td>\n",
       "      <td>8425.0</td>\n",
       "      <td>200000.0</td>\n",
       "      <td>Jumeirah Village Circle (JVC)</td>\n",
       "      <td>Villa</td>\n",
       "      <td>0</td>\n",
       "      <td>1</td>\n",
       "      <td>1</td>\n",
       "      <td>1</td>\n",
       "      <td>1</td>\n",
       "      <td>1</td>\n",
       "      <td>0</td>\n",
       "      <td>0</td>\n",
       "      <td>0</td>\n",
       "    </tr>\n",
       "    <tr>\n",
       "      <th>2</th>\n",
       "      <td>5</td>\n",
       "      <td>4</td>\n",
       "      <td>6002.0</td>\n",
       "      <td>600000.0</td>\n",
       "      <td>Jumeirah Golf Estates</td>\n",
       "      <td>Villa</td>\n",
       "      <td>0</td>\n",
       "      <td>1</td>\n",
       "      <td>1</td>\n",
       "      <td>0</td>\n",
       "      <td>1</td>\n",
       "      <td>1</td>\n",
       "      <td>0</td>\n",
       "      <td>0</td>\n",
       "      <td>0</td>\n",
       "    </tr>\n",
       "    <tr>\n",
       "      <th>3</th>\n",
       "      <td>2</td>\n",
       "      <td>2</td>\n",
       "      <td>1200.0</td>\n",
       "      <td>60000.0</td>\n",
       "      <td>Bur Dubai</td>\n",
       "      <td>Apartment</td>\n",
       "      <td>0</td>\n",
       "      <td>1</td>\n",
       "      <td>1</td>\n",
       "      <td>0</td>\n",
       "      <td>1</td>\n",
       "      <td>1</td>\n",
       "      <td>0</td>\n",
       "      <td>0</td>\n",
       "      <td>0</td>\n",
       "    </tr>\n",
       "    <tr>\n",
       "      <th>4</th>\n",
       "      <td>7</td>\n",
       "      <td>8</td>\n",
       "      <td>8000.0</td>\n",
       "      <td>950000.0</td>\n",
       "      <td>The Lakes</td>\n",
       "      <td>Villa</td>\n",
       "      <td>0</td>\n",
       "      <td>1</td>\n",
       "      <td>1</td>\n",
       "      <td>0</td>\n",
       "      <td>1</td>\n",
       "      <td>1</td>\n",
       "      <td>0</td>\n",
       "      <td>0</td>\n",
       "      <td>0</td>\n",
       "    </tr>\n",
       "    <tr>\n",
       "      <th>...</th>\n",
       "      <td>...</td>\n",
       "      <td>...</td>\n",
       "      <td>...</td>\n",
       "      <td>...</td>\n",
       "      <td>...</td>\n",
       "      <td>...</td>\n",
       "      <td>...</td>\n",
       "      <td>...</td>\n",
       "      <td>...</td>\n",
       "      <td>...</td>\n",
       "      <td>...</td>\n",
       "      <td>...</td>\n",
       "      <td>...</td>\n",
       "      <td>...</td>\n",
       "      <td>...</td>\n",
       "    </tr>\n",
       "    <tr>\n",
       "      <th>38203</th>\n",
       "      <td>4</td>\n",
       "      <td>4</td>\n",
       "      <td>2387.0</td>\n",
       "      <td>265000.0</td>\n",
       "      <td>Dubai Hills Estate</td>\n",
       "      <td>Villa</td>\n",
       "      <td>1</td>\n",
       "      <td>1</td>\n",
       "      <td>1</td>\n",
       "      <td>0</td>\n",
       "      <td>1</td>\n",
       "      <td>0</td>\n",
       "      <td>1</td>\n",
       "      <td>0</td>\n",
       "      <td>0</td>\n",
       "    </tr>\n",
       "    <tr>\n",
       "      <th>38204</th>\n",
       "      <td>1</td>\n",
       "      <td>1</td>\n",
       "      <td>800.0</td>\n",
       "      <td>33000.0</td>\n",
       "      <td>Al Warqaa</td>\n",
       "      <td>Apartment</td>\n",
       "      <td>1</td>\n",
       "      <td>1</td>\n",
       "      <td>1</td>\n",
       "      <td>0</td>\n",
       "      <td>1</td>\n",
       "      <td>0</td>\n",
       "      <td>1</td>\n",
       "      <td>0</td>\n",
       "      <td>0</td>\n",
       "    </tr>\n",
       "    <tr>\n",
       "      <th>38205</th>\n",
       "      <td>4</td>\n",
       "      <td>5</td>\n",
       "      <td>7437.0</td>\n",
       "      <td>700000.0</td>\n",
       "      <td>Dubai Hills Estate</td>\n",
       "      <td>Villa</td>\n",
       "      <td>1</td>\n",
       "      <td>1</td>\n",
       "      <td>1</td>\n",
       "      <td>0</td>\n",
       "      <td>1</td>\n",
       "      <td>1</td>\n",
       "      <td>1</td>\n",
       "      <td>0</td>\n",
       "      <td>0</td>\n",
       "    </tr>\n",
       "    <tr>\n",
       "      <th>38206</th>\n",
       "      <td>1</td>\n",
       "      <td>1</td>\n",
       "      <td>450.0</td>\n",
       "      <td>28000.0</td>\n",
       "      <td>Deira</td>\n",
       "      <td>Apartment</td>\n",
       "      <td>1</td>\n",
       "      <td>1</td>\n",
       "      <td>1</td>\n",
       "      <td>0</td>\n",
       "      <td>1</td>\n",
       "      <td>0</td>\n",
       "      <td>1</td>\n",
       "      <td>0</td>\n",
       "      <td>0</td>\n",
       "    </tr>\n",
       "    <tr>\n",
       "      <th>38207</th>\n",
       "      <td>2</td>\n",
       "      <td>2</td>\n",
       "      <td>1422.0</td>\n",
       "      <td>170000.0</td>\n",
       "      <td>Jumeirah Beach Residence (JBR)</td>\n",
       "      <td>Apartment</td>\n",
       "      <td>1</td>\n",
       "      <td>1</td>\n",
       "      <td>1</td>\n",
       "      <td>0</td>\n",
       "      <td>1</td>\n",
       "      <td>0</td>\n",
       "      <td>1</td>\n",
       "      <td>0</td>\n",
       "      <td>0</td>\n",
       "    </tr>\n",
       "  </tbody>\n",
       "</table>\n",
       "<p>165326 rows × 15 columns</p>\n",
       "</div>"
      ],
      "text/plain": [
       "       bedrooms  bathrooms    area    prices                       locations  \\\n",
       "0             1          2   883.0   77990.0                     DAMAC Hills   \n",
       "1             2          3  8425.0  200000.0   Jumeirah Village Circle (JVC)   \n",
       "2             5          4  6002.0  600000.0           Jumeirah Golf Estates   \n",
       "3             2          2  1200.0   60000.0                       Bur Dubai   \n",
       "4             7          8  8000.0  950000.0                       The Lakes   \n",
       "...         ...        ...     ...       ...                             ...   \n",
       "38203         4          4  2387.0  265000.0              Dubai Hills Estate   \n",
       "38204         1          1   800.0   33000.0                       Al Warqaa   \n",
       "38205         4          5  7437.0  700000.0              Dubai Hills Estate   \n",
       "38206         1          1   450.0   28000.0                           Deira   \n",
       "38207         2          2  1422.0  170000.0  Jumeirah Beach Residence (JBR)   \n",
       "\n",
       "      property_types  pool  balcony  furnished  maid  gym  brand_new  \\\n",
       "0          Apartment     0        1          1     0    1          1   \n",
       "1              Villa     0        1          1     1    1          1   \n",
       "2              Villa     0        1          1     0    1          1   \n",
       "3          Apartment     0        1          1     0    1          1   \n",
       "4              Villa     0        1          1     0    1          1   \n",
       "...              ...   ...      ...        ...   ...  ...        ...   \n",
       "38203          Villa     1        1          1     0    1          0   \n",
       "38204      Apartment     1        1          1     0    1          0   \n",
       "38205          Villa     1        1          1     0    1          1   \n",
       "38206      Apartment     1        1          1     0    1          0   \n",
       "38207      Apartment     1        1          1     0    1          0   \n",
       "\n",
       "       burj_view  sea_view  beach  \n",
       "0              0         0      0  \n",
       "1              0         0      0  \n",
       "2              0         0      0  \n",
       "3              0         0      0  \n",
       "4              0         0      0  \n",
       "...          ...       ...    ...  \n",
       "38203          1         0      0  \n",
       "38204          1         0      0  \n",
       "38205          1         0      0  \n",
       "38206          1         0      0  \n",
       "38207          1         0      0  \n",
       "\n",
       "[165326 rows x 15 columns]"
      ]
     },
     "execution_count": 161,
     "metadata": {},
     "output_type": "execute_result"
    }
   ],
   "source": [
    "df_final = df[['bedrooms', 'bathrooms', 'area', 'prices', 'locations',\n",
    "               'property_types','pool', 'balcony', 'furnished', 'maid', 'gym', 'brand_new', 'burj_view',\n",
    "               'sea_view', 'beach']]\n",
    "df_final"
   ]
  },
  {
   "cell_type": "code",
   "execution_count": 162,
   "id": "a5d62a6a",
   "metadata": {},
   "outputs": [],
   "source": [
    "df_final.to_csv('properties_cleaned_engineered.csv',index=False)"
   ]
  }
 ],
 "metadata": {
  "kernelspec": {
   "display_name": "ds",
   "language": "python",
   "name": "ds"
  },
  "language_info": {
   "codemirror_mode": {
    "name": "ipython",
    "version": 3
   },
   "file_extension": ".py",
   "mimetype": "text/x-python",
   "name": "python",
   "nbconvert_exporter": "python",
   "pygments_lexer": "ipython3",
   "version": "3.10.8"
  }
 },
 "nbformat": 4,
 "nbformat_minor": 5
}
