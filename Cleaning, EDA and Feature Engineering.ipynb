{
 "cells": [
  {
   "cell_type": "code",
   "execution_count": 106,
   "id": "e625107a",
   "metadata": {},
   "outputs": [],
   "source": [
    "import pandas as pd\n",
    "import glob\n",
    "import seaborn as sns\n",
    "import matplotlib.pyplot as plt\n",
    "import numpy as np"
   ]
  },
  {
   "cell_type": "markdown",
   "id": "d653c020",
   "metadata": {},
   "source": [
    "### Read CSVs\n",
    "I'm combining multiple CSVs that scraped Bayut website at different times"
   ]
  },
  {
   "cell_type": "code",
   "execution_count": 107,
   "id": "1425eea9",
   "metadata": {},
   "outputs": [
    {
     "data": {
      "text/plain": [
       "['properties_dubai_furnished=all_2022-11-19 06:15:57.csv',\n",
       " 'properties_dubai_furnished=all_2022-11-19 07:19:22.csv',\n",
       " 'properties_dubai_furnished=all_2022-11-19 02:22:30.csv',\n",
       " 'properties_dubai_furnished=all_2022-11-19 05:36:05.csv',\n",
       " 'properties_dubai_furnished=all_2022-11-19 06:17:58.csv']"
      ]
     },
     "execution_count": 107,
     "metadata": {},
     "output_type": "execute_result"
    }
   ],
   "source": [
    "csvs= glob.glob(\"*.csv\")\n",
    "csvs.remove('properties_dubai_furnished=all_simple.csv')\n",
    "csvs.remove('properties_cleaned_engineered.csv')\n",
    "csvs"
   ]
  },
  {
   "cell_type": "code",
   "execution_count": 108,
   "id": "05208a09",
   "metadata": {},
   "outputs": [
    {
     "name": "stdout",
     "output_type": "stream",
     "text": [
      "Dataframe 1 has 38215 rows.\n",
      "\n",
      "Dataframe 2 has 38359 rows.\n",
      "\n",
      "Dataframe 3 has 38325 rows.\n",
      "\n",
      "Dataframe 4 has 38335 rows.\n",
      "\n",
      "Dataframe 5 has 38335 rows.\n",
      "\n"
     ]
    }
   ],
   "source": [
    "dfs = [pd.read_csv(i) for i in csvs]\n",
    "for i,df in enumerate(dfs):\n",
    "    print(f\"Dataframe {i+1} has {len(df)} rows.\\n\")"
   ]
  },
  {
   "cell_type": "markdown",
   "id": "36ea7edc",
   "metadata": {},
   "source": [
    "#### Combine all dataframes into one, and drop any duplicates"
   ]
  },
  {
   "cell_type": "code",
   "execution_count": 109,
   "id": "c87ce573",
   "metadata": {},
   "outputs": [
    {
     "data": {
      "text/html": [
       "<div>\n",
       "<style scoped>\n",
       "    .dataframe tbody tr th:only-of-type {\n",
       "        vertical-align: middle;\n",
       "    }\n",
       "\n",
       "    .dataframe tbody tr th {\n",
       "        vertical-align: top;\n",
       "    }\n",
       "\n",
       "    .dataframe thead th {\n",
       "        text-align: right;\n",
       "    }\n",
       "</style>\n",
       "<table border=\"1\" class=\"dataframe\">\n",
       "  <thead>\n",
       "    <tr style=\"text-align: right;\">\n",
       "      <th></th>\n",
       "      <th>bedrooms</th>\n",
       "      <th>bathrooms</th>\n",
       "      <th>area</th>\n",
       "      <th>prices</th>\n",
       "      <th>locations</th>\n",
       "      <th>property_types</th>\n",
       "      <th>property_keywords</th>\n",
       "      <th>description</th>\n",
       "      <th>amenities</th>\n",
       "    </tr>\n",
       "  </thead>\n",
       "  <tbody>\n",
       "    <tr>\n",
       "      <th>0</th>\n",
       "      <td>1</td>\n",
       "      <td>2</td>\n",
       "      <td>883 sqft</td>\n",
       "      <td>77,990</td>\n",
       "      <td>Loreto 3B, Loreto B, Loreto, DAMAC Hills, Dubai</td>\n",
       "      <td>Apartment</td>\n",
       "      <td>Brand New Furniture Vacant | 8,000AED / Month</td>\n",
       "      <td>Exclusive with fam Properties, this stunning w...</td>\n",
       "      <td>FurnishedBalcony or TerraceElevators in Building</td>\n",
       "    </tr>\n",
       "    <tr>\n",
       "      <th>1</th>\n",
       "      <td>2</td>\n",
       "      <td>3</td>\n",
       "      <td>8,425 sqft</td>\n",
       "      <td>200,000</td>\n",
       "      <td>Nakheel Villas, Jumeirah Village Circle (JVC),...</td>\n",
       "      <td>Villa</td>\n",
       "      <td>2BR+ Maid Room | Upgraded Interior with Turkis...</td>\n",
       "      <td>Exclusive with fam Properties, this stunning w...</td>\n",
       "      <td>FurnishedBalcony or TerraceElevators in Building</td>\n",
       "    </tr>\n",
       "    <tr>\n",
       "      <th>2</th>\n",
       "      <td>5</td>\n",
       "      <td>4</td>\n",
       "      <td>6,002 sqft</td>\n",
       "      <td>600,000</td>\n",
       "      <td>Flame Tree Ridge, Jumeirah Golf Estates, Dubai</td>\n",
       "      <td>Villa</td>\n",
       "      <td>Inverness | Earth View | Wrapped Kitchen</td>\n",
       "      <td>Exclusive with fam Properties, this stunning w...</td>\n",
       "      <td>FurnishedBalcony or TerraceElevators in Building</td>\n",
       "    </tr>\n",
       "    <tr>\n",
       "      <th>3</th>\n",
       "      <td>2</td>\n",
       "      <td>2</td>\n",
       "      <td>1,200 sqft</td>\n",
       "      <td>60,000</td>\n",
       "      <td>Rose 1 Building, Al Mankhool, Bur Dubai, Dubai</td>\n",
       "      <td>Apartment</td>\n",
       "      <td>Family Building Well Maintained 2BHK Apartment...</td>\n",
       "      <td>Exclusive with fam Properties, this stunning w...</td>\n",
       "      <td>FurnishedBalcony or TerraceElevators in Building</td>\n",
       "    </tr>\n",
       "    <tr>\n",
       "      <th>4</th>\n",
       "      <td>7</td>\n",
       "      <td>8</td>\n",
       "      <td>8,000 sqft</td>\n",
       "      <td>950,000</td>\n",
       "      <td>Hattan 2, Hattan, The Lakes, Dubai</td>\n",
       "      <td>Villa</td>\n",
       "      <td>7 Bedrooms | Opposite The Park | 3 Floors</td>\n",
       "      <td>Exclusive with fam Properties, this stunning w...</td>\n",
       "      <td>FurnishedBalcony or TerraceElevators in Building</td>\n",
       "    </tr>\n",
       "    <tr>\n",
       "      <th>...</th>\n",
       "      <td>...</td>\n",
       "      <td>...</td>\n",
       "      <td>...</td>\n",
       "      <td>...</td>\n",
       "      <td>...</td>\n",
       "      <td>...</td>\n",
       "      <td>...</td>\n",
       "      <td>...</td>\n",
       "      <td>...</td>\n",
       "    </tr>\n",
       "    <tr>\n",
       "      <th>38330</th>\n",
       "      <td>1</td>\n",
       "      <td>1</td>\n",
       "      <td>784 sqft</td>\n",
       "      <td>39,999</td>\n",
       "      <td>Muhaisnah 4, Muhaisnah, Dubai</td>\n",
       "      <td>Apartment</td>\n",
       "      <td>Ready To Move | Pay Monthly | 24x7 Call Centre</td>\n",
       "      <td>wasl ivoryDED# 619683</td>\n",
       "      <td>-1</td>\n",
       "    </tr>\n",
       "    <tr>\n",
       "      <th>38331</th>\n",
       "      <td>5</td>\n",
       "      <td>6</td>\n",
       "      <td>7,000 sqft</td>\n",
       "      <td>220,000</td>\n",
       "      <td>Jumeirah 3, Jumeirah, Dubai</td>\n",
       "      <td>Villa</td>\n",
       "      <td>Beautifully maintained: 5 b/r semi-independent...</td>\n",
       "      <td>wasl ivoryDED# 619683</td>\n",
       "      <td>-1</td>\n",
       "    </tr>\n",
       "    <tr>\n",
       "      <th>38332</th>\n",
       "      <td>5</td>\n",
       "      <td>6</td>\n",
       "      <td>15,000 sqft</td>\n",
       "      <td>220,000</td>\n",
       "      <td>Al Barsha 2, Al Barsha, Dubai</td>\n",
       "      <td>Villa</td>\n",
       "      <td>Private swimming pool and stunning landscaped ...</td>\n",
       "      <td>wasl ivoryDED# 619683</td>\n",
       "      <td>-1</td>\n",
       "    </tr>\n",
       "    <tr>\n",
       "      <th>38333</th>\n",
       "      <td>2</td>\n",
       "      <td>2</td>\n",
       "      <td>1,100 sqft</td>\n",
       "      <td>68,000</td>\n",
       "      <td>Sheikh Hamdan Colony, Al Karama, Dubai</td>\n",
       "      <td>Apartment</td>\n",
       "      <td>Spacious 2 BHK for family in Al Karama</td>\n",
       "      <td>wasl ivoryDED# 619683</td>\n",
       "      <td>-1</td>\n",
       "    </tr>\n",
       "    <tr>\n",
       "      <th>38334</th>\n",
       "      <td>Studio</td>\n",
       "      <td>1</td>\n",
       "      <td>250 sqft</td>\n",
       "      <td>18,000</td>\n",
       "      <td>Al Baraha, Deira, Dubai</td>\n",
       "      <td>Apartment</td>\n",
       "      <td>Quality Studio Behind Etisalat Office Baraha</td>\n",
       "      <td>wasl ivoryDED# 619683</td>\n",
       "      <td>-1</td>\n",
       "    </tr>\n",
       "  </tbody>\n",
       "</table>\n",
       "<p>191569 rows × 9 columns</p>\n",
       "</div>"
      ],
      "text/plain": [
       "      bedrooms bathrooms         area   prices  \\\n",
       "0            1         2     883 sqft   77,990   \n",
       "1            2         3   8,425 sqft  200,000   \n",
       "2            5         4   6,002 sqft  600,000   \n",
       "3            2         2   1,200 sqft   60,000   \n",
       "4            7         8   8,000 sqft  950,000   \n",
       "...        ...       ...          ...      ...   \n",
       "38330        1         1     784 sqft   39,999   \n",
       "38331        5         6   7,000 sqft  220,000   \n",
       "38332        5         6  15,000 sqft  220,000   \n",
       "38333        2         2   1,100 sqft   68,000   \n",
       "38334   Studio         1     250 sqft   18,000   \n",
       "\n",
       "                                               locations property_types  \\\n",
       "0        Loreto 3B, Loreto B, Loreto, DAMAC Hills, Dubai      Apartment   \n",
       "1      Nakheel Villas, Jumeirah Village Circle (JVC),...          Villa   \n",
       "2         Flame Tree Ridge, Jumeirah Golf Estates, Dubai          Villa   \n",
       "3         Rose 1 Building, Al Mankhool, Bur Dubai, Dubai      Apartment   \n",
       "4                     Hattan 2, Hattan, The Lakes, Dubai          Villa   \n",
       "...                                                  ...            ...   \n",
       "38330                      Muhaisnah 4, Muhaisnah, Dubai      Apartment   \n",
       "38331                        Jumeirah 3, Jumeirah, Dubai          Villa   \n",
       "38332                      Al Barsha 2, Al Barsha, Dubai          Villa   \n",
       "38333             Sheikh Hamdan Colony, Al Karama, Dubai      Apartment   \n",
       "38334                            Al Baraha, Deira, Dubai      Apartment   \n",
       "\n",
       "                                       property_keywords  \\\n",
       "0          Brand New Furniture Vacant | 8,000AED / Month   \n",
       "1      2BR+ Maid Room | Upgraded Interior with Turkis...   \n",
       "2               Inverness | Earth View | Wrapped Kitchen   \n",
       "3      Family Building Well Maintained 2BHK Apartment...   \n",
       "4              7 Bedrooms | Opposite The Park | 3 Floors   \n",
       "...                                                  ...   \n",
       "38330     Ready To Move | Pay Monthly | 24x7 Call Centre   \n",
       "38331  Beautifully maintained: 5 b/r semi-independent...   \n",
       "38332  Private swimming pool and stunning landscaped ...   \n",
       "38333             Spacious 2 BHK for family in Al Karama   \n",
       "38334       Quality Studio Behind Etisalat Office Baraha   \n",
       "\n",
       "                                             description  \\\n",
       "0      Exclusive with fam Properties, this stunning w...   \n",
       "1      Exclusive with fam Properties, this stunning w...   \n",
       "2      Exclusive with fam Properties, this stunning w...   \n",
       "3      Exclusive with fam Properties, this stunning w...   \n",
       "4      Exclusive with fam Properties, this stunning w...   \n",
       "...                                                  ...   \n",
       "38330                              wasl ivoryDED# 619683   \n",
       "38331                              wasl ivoryDED# 619683   \n",
       "38332                              wasl ivoryDED# 619683   \n",
       "38333                              wasl ivoryDED# 619683   \n",
       "38334                              wasl ivoryDED# 619683   \n",
       "\n",
       "                                              amenities  \n",
       "0      FurnishedBalcony or TerraceElevators in Building  \n",
       "1      FurnishedBalcony or TerraceElevators in Building  \n",
       "2      FurnishedBalcony or TerraceElevators in Building  \n",
       "3      FurnishedBalcony or TerraceElevators in Building  \n",
       "4      FurnishedBalcony or TerraceElevators in Building  \n",
       "...                                                 ...  \n",
       "38330                                                -1  \n",
       "38331                                                -1  \n",
       "38332                                                -1  \n",
       "38333                                                -1  \n",
       "38334                                                -1  \n",
       "\n",
       "[191569 rows x 9 columns]"
      ]
     },
     "execution_count": 109,
     "metadata": {},
     "output_type": "execute_result"
    }
   ],
   "source": [
    "df = pd.concat(dfs)\n",
    "df"
   ]
  },
  {
   "cell_type": "code",
   "execution_count": 110,
   "id": "a82709d3",
   "metadata": {},
   "outputs": [
    {
     "data": {
      "text/html": [
       "<div>\n",
       "<style scoped>\n",
       "    .dataframe tbody tr th:only-of-type {\n",
       "        vertical-align: middle;\n",
       "    }\n",
       "\n",
       "    .dataframe tbody tr th {\n",
       "        vertical-align: top;\n",
       "    }\n",
       "\n",
       "    .dataframe thead th {\n",
       "        text-align: right;\n",
       "    }\n",
       "</style>\n",
       "<table border=\"1\" class=\"dataframe\">\n",
       "  <thead>\n",
       "    <tr style=\"text-align: right;\">\n",
       "      <th></th>\n",
       "      <th>bedrooms</th>\n",
       "      <th>bathrooms</th>\n",
       "      <th>area</th>\n",
       "      <th>prices</th>\n",
       "      <th>locations</th>\n",
       "      <th>property_types</th>\n",
       "      <th>property_keywords</th>\n",
       "      <th>description</th>\n",
       "      <th>amenities</th>\n",
       "    </tr>\n",
       "  </thead>\n",
       "  <tbody>\n",
       "    <tr>\n",
       "      <th>0</th>\n",
       "      <td>1</td>\n",
       "      <td>2</td>\n",
       "      <td>883 sqft</td>\n",
       "      <td>77,990</td>\n",
       "      <td>Loreto 3B, Loreto B, Loreto, DAMAC Hills, Dubai</td>\n",
       "      <td>Apartment</td>\n",
       "      <td>Brand New Furniture Vacant | 8,000AED / Month</td>\n",
       "      <td>Exclusive with fam Properties, this stunning w...</td>\n",
       "      <td>FurnishedBalcony or TerraceElevators in Building</td>\n",
       "    </tr>\n",
       "    <tr>\n",
       "      <th>1</th>\n",
       "      <td>2</td>\n",
       "      <td>3</td>\n",
       "      <td>8,425 sqft</td>\n",
       "      <td>200,000</td>\n",
       "      <td>Nakheel Villas, Jumeirah Village Circle (JVC),...</td>\n",
       "      <td>Villa</td>\n",
       "      <td>2BR+ Maid Room | Upgraded Interior with Turkis...</td>\n",
       "      <td>Exclusive with fam Properties, this stunning w...</td>\n",
       "      <td>FurnishedBalcony or TerraceElevators in Building</td>\n",
       "    </tr>\n",
       "    <tr>\n",
       "      <th>2</th>\n",
       "      <td>5</td>\n",
       "      <td>4</td>\n",
       "      <td>6,002 sqft</td>\n",
       "      <td>600,000</td>\n",
       "      <td>Flame Tree Ridge, Jumeirah Golf Estates, Dubai</td>\n",
       "      <td>Villa</td>\n",
       "      <td>Inverness | Earth View | Wrapped Kitchen</td>\n",
       "      <td>Exclusive with fam Properties, this stunning w...</td>\n",
       "      <td>FurnishedBalcony or TerraceElevators in Building</td>\n",
       "    </tr>\n",
       "    <tr>\n",
       "      <th>3</th>\n",
       "      <td>2</td>\n",
       "      <td>2</td>\n",
       "      <td>1,200 sqft</td>\n",
       "      <td>60,000</td>\n",
       "      <td>Rose 1 Building, Al Mankhool, Bur Dubai, Dubai</td>\n",
       "      <td>Apartment</td>\n",
       "      <td>Family Building Well Maintained 2BHK Apartment...</td>\n",
       "      <td>Exclusive with fam Properties, this stunning w...</td>\n",
       "      <td>FurnishedBalcony or TerraceElevators in Building</td>\n",
       "    </tr>\n",
       "    <tr>\n",
       "      <th>4</th>\n",
       "      <td>7</td>\n",
       "      <td>8</td>\n",
       "      <td>8,000 sqft</td>\n",
       "      <td>950,000</td>\n",
       "      <td>Hattan 2, Hattan, The Lakes, Dubai</td>\n",
       "      <td>Villa</td>\n",
       "      <td>7 Bedrooms | Opposite The Park | 3 Floors</td>\n",
       "      <td>Exclusive with fam Properties, this stunning w...</td>\n",
       "      <td>FurnishedBalcony or TerraceElevators in Building</td>\n",
       "    </tr>\n",
       "    <tr>\n",
       "      <th>...</th>\n",
       "      <td>...</td>\n",
       "      <td>...</td>\n",
       "      <td>...</td>\n",
       "      <td>...</td>\n",
       "      <td>...</td>\n",
       "      <td>...</td>\n",
       "      <td>...</td>\n",
       "      <td>...</td>\n",
       "      <td>...</td>\n",
       "    </tr>\n",
       "    <tr>\n",
       "      <th>38203</th>\n",
       "      <td>4</td>\n",
       "      <td>4</td>\n",
       "      <td>2,387 sqft</td>\n",
       "      <td>265,000</td>\n",
       "      <td>Maple At Dubai Hills Estate 2, Maple at Dubai ...</td>\n",
       "      <td>Villa</td>\n",
       "      <td>3M | CLOSE TO POOL | GREEN BELT | COMING UP SOON</td>\n",
       "      <td>ALSO AVAILABLE FOR SHORT TERM RENT. White and ...</td>\n",
       "      <td>-1</td>\n",
       "    </tr>\n",
       "    <tr>\n",
       "      <th>38204</th>\n",
       "      <td>1</td>\n",
       "      <td>1</td>\n",
       "      <td>800 sqft</td>\n",
       "      <td>33,000</td>\n",
       "      <td>Al Warqaa, Dubai</td>\n",
       "      <td>Apartment</td>\n",
       "      <td>SPACIOUS 1BHK ONE MONTH FREE GYM POOL PARKING ...</td>\n",
       "      <td>ALSO AVAILABLE FOR SHORT TERM RENT. White and ...</td>\n",
       "      <td>-1</td>\n",
       "    </tr>\n",
       "    <tr>\n",
       "      <th>38205</th>\n",
       "      <td>4</td>\n",
       "      <td>5</td>\n",
       "      <td>7,437 sqft</td>\n",
       "      <td>700,000</td>\n",
       "      <td>Golf Place I, Golf Place, Dubai Hills Estate, ...</td>\n",
       "      <td>Villa</td>\n",
       "      <td>Brand New 4 Bedroom Villa for Rent</td>\n",
       "      <td>ALSO AVAILABLE FOR SHORT TERM RENT. White and ...</td>\n",
       "      <td>-1</td>\n",
       "    </tr>\n",
       "    <tr>\n",
       "      <th>38206</th>\n",
       "      <td>1</td>\n",
       "      <td>1</td>\n",
       "      <td>450 sqft</td>\n",
       "      <td>28,000</td>\n",
       "      <td>Hor Al Anz, Deira, Dubai</td>\n",
       "      <td>Apartment</td>\n",
       "      <td>1BEDROOM HALL FLAT W/AC FAMILY ONLY AVAILABLE ...</td>\n",
       "      <td>ALSO AVAILABLE FOR SHORT TERM RENT. White and ...</td>\n",
       "      <td>-1</td>\n",
       "    </tr>\n",
       "    <tr>\n",
       "      <th>38207</th>\n",
       "      <td>2</td>\n",
       "      <td>2</td>\n",
       "      <td>1,422 sqft</td>\n",
       "      <td>170,000</td>\n",
       "      <td>Sadaf, Jumeirah Beach Residence (JBR), Dubai</td>\n",
       "      <td>Apartment</td>\n",
       "      <td>Fully upgraded l Fully furnished l Vacant</td>\n",
       "      <td>ALSO AVAILABLE FOR SHORT TERM RENT. White and ...</td>\n",
       "      <td>-1</td>\n",
       "    </tr>\n",
       "  </tbody>\n",
       "</table>\n",
       "<p>172172 rows × 9 columns</p>\n",
       "</div>"
      ],
      "text/plain": [
       "      bedrooms bathrooms        area   prices  \\\n",
       "0            1         2    883 sqft   77,990   \n",
       "1            2         3  8,425 sqft  200,000   \n",
       "2            5         4  6,002 sqft  600,000   \n",
       "3            2         2  1,200 sqft   60,000   \n",
       "4            7         8  8,000 sqft  950,000   \n",
       "...        ...       ...         ...      ...   \n",
       "38203        4         4  2,387 sqft  265,000   \n",
       "38204        1         1    800 sqft   33,000   \n",
       "38205        4         5  7,437 sqft  700,000   \n",
       "38206        1         1    450 sqft   28,000   \n",
       "38207        2         2  1,422 sqft  170,000   \n",
       "\n",
       "                                               locations property_types  \\\n",
       "0        Loreto 3B, Loreto B, Loreto, DAMAC Hills, Dubai      Apartment   \n",
       "1      Nakheel Villas, Jumeirah Village Circle (JVC),...          Villa   \n",
       "2         Flame Tree Ridge, Jumeirah Golf Estates, Dubai          Villa   \n",
       "3         Rose 1 Building, Al Mankhool, Bur Dubai, Dubai      Apartment   \n",
       "4                     Hattan 2, Hattan, The Lakes, Dubai          Villa   \n",
       "...                                                  ...            ...   \n",
       "38203  Maple At Dubai Hills Estate 2, Maple at Dubai ...          Villa   \n",
       "38204                                   Al Warqaa, Dubai      Apartment   \n",
       "38205  Golf Place I, Golf Place, Dubai Hills Estate, ...          Villa   \n",
       "38206                           Hor Al Anz, Deira, Dubai      Apartment   \n",
       "38207       Sadaf, Jumeirah Beach Residence (JBR), Dubai      Apartment   \n",
       "\n",
       "                                       property_keywords  \\\n",
       "0          Brand New Furniture Vacant | 8,000AED / Month   \n",
       "1      2BR+ Maid Room | Upgraded Interior with Turkis...   \n",
       "2               Inverness | Earth View | Wrapped Kitchen   \n",
       "3      Family Building Well Maintained 2BHK Apartment...   \n",
       "4              7 Bedrooms | Opposite The Park | 3 Floors   \n",
       "...                                                  ...   \n",
       "38203   3M | CLOSE TO POOL | GREEN BELT | COMING UP SOON   \n",
       "38204  SPACIOUS 1BHK ONE MONTH FREE GYM POOL PARKING ...   \n",
       "38205                 Brand New 4 Bedroom Villa for Rent   \n",
       "38206  1BEDROOM HALL FLAT W/AC FAMILY ONLY AVAILABLE ...   \n",
       "38207          Fully upgraded l Fully furnished l Vacant   \n",
       "\n",
       "                                             description  \\\n",
       "0      Exclusive with fam Properties, this stunning w...   \n",
       "1      Exclusive with fam Properties, this stunning w...   \n",
       "2      Exclusive with fam Properties, this stunning w...   \n",
       "3      Exclusive with fam Properties, this stunning w...   \n",
       "4      Exclusive with fam Properties, this stunning w...   \n",
       "...                                                  ...   \n",
       "38203  ALSO AVAILABLE FOR SHORT TERM RENT. White and ...   \n",
       "38204  ALSO AVAILABLE FOR SHORT TERM RENT. White and ...   \n",
       "38205  ALSO AVAILABLE FOR SHORT TERM RENT. White and ...   \n",
       "38206  ALSO AVAILABLE FOR SHORT TERM RENT. White and ...   \n",
       "38207  ALSO AVAILABLE FOR SHORT TERM RENT. White and ...   \n",
       "\n",
       "                                              amenities  \n",
       "0      FurnishedBalcony or TerraceElevators in Building  \n",
       "1      FurnishedBalcony or TerraceElevators in Building  \n",
       "2      FurnishedBalcony or TerraceElevators in Building  \n",
       "3      FurnishedBalcony or TerraceElevators in Building  \n",
       "4      FurnishedBalcony or TerraceElevators in Building  \n",
       "...                                                 ...  \n",
       "38203                                                -1  \n",
       "38204                                                -1  \n",
       "38205                                                -1  \n",
       "38206                                                -1  \n",
       "38207                                                -1  \n",
       "\n",
       "[172172 rows x 9 columns]"
      ]
     },
     "execution_count": 110,
     "metadata": {},
     "output_type": "execute_result"
    }
   ],
   "source": [
    "df = df.drop_duplicates()\n",
    "df"
   ]
  },
  {
   "cell_type": "markdown",
   "id": "d8bf526f",
   "metadata": {},
   "source": [
    "#### Let's remove the rows without area and price"
   ]
  },
  {
   "cell_type": "code",
   "execution_count": 111,
   "id": "db0d21da",
   "metadata": {},
   "outputs": [
    {
     "name": "stdout",
     "output_type": "stream",
     "text": [
      "165289\n"
     ]
    }
   ],
   "source": [
    "df = df.drop(index=df[df.area == '-1'].index)\n",
    "df = df.drop(index=df[df.prices == '-1'].index)\n",
    "print(len(df))"
   ]
  },
  {
   "cell_type": "code",
   "execution_count": 112,
   "id": "5c789354",
   "metadata": {},
   "outputs": [
    {
     "name": "stdout",
     "output_type": "stream",
     "text": [
      "165289\n"
     ]
    }
   ],
   "source": [
    "df = df.drop(index=df[df.prices == '-1'].index)\n",
    "print(len(df))"
   ]
  },
  {
   "cell_type": "code",
   "execution_count": 113,
   "id": "7f53f4db",
   "metadata": {},
   "outputs": [
    {
     "data": {
      "text/plain": [
       "1         50502\n",
       "2         48417\n",
       "3         23832\n",
       "Studio    19768\n",
       "4          9895\n",
       "5          9126\n",
       "6          2242\n",
       "7           733\n",
       "8           388\n",
       "10          118\n",
       "9           114\n",
       "12           58\n",
       "21           24\n",
       "11           23\n",
       "16           11\n",
       "14           10\n",
       "18            8\n",
       "17            6\n",
       "13            6\n",
       "15            4\n",
       "20            4\n",
       "Name: bedrooms, dtype: int64"
      ]
     },
     "execution_count": 113,
     "metadata": {},
     "output_type": "execute_result"
    }
   ],
   "source": [
    "df['bedrooms'].value_counts()"
   ]
  },
  {
   "cell_type": "code",
   "execution_count": 114,
   "id": "b4e81200",
   "metadata": {},
   "outputs": [],
   "source": [
    "df.locations = df.locations.apply(lambda x: x.split(',')[-2].strip())\n",
    "df.bedrooms = df.bedrooms.apply(lambda x: '0' if x=='Studio' else x)\n",
    "df.prices = df.prices.apply(lambda x: x.replace(',',''))\n",
    "df.area = df.area.apply(lambda x: x.replace('sqft','').replace(',',''))"
   ]
  },
  {
   "cell_type": "code",
   "execution_count": 115,
   "id": "43e92558",
   "metadata": {},
   "outputs": [],
   "source": [
    "df.bedrooms = df.bedrooms.astype(int)\n",
    "df.bathrooms = df.bathrooms.astype(int)\n",
    "df.prices = df.prices.astype(float)\n",
    "df.area = df.area.astype(float)"
   ]
  },
  {
   "cell_type": "code",
   "execution_count": 116,
   "id": "dda9b190",
   "metadata": {},
   "outputs": [
    {
     "data": {
      "text/html": [
       "<div>\n",
       "<style scoped>\n",
       "    .dataframe tbody tr th:only-of-type {\n",
       "        vertical-align: middle;\n",
       "    }\n",
       "\n",
       "    .dataframe tbody tr th {\n",
       "        vertical-align: top;\n",
       "    }\n",
       "\n",
       "    .dataframe thead th {\n",
       "        text-align: right;\n",
       "    }\n",
       "</style>\n",
       "<table border=\"1\" class=\"dataframe\">\n",
       "  <thead>\n",
       "    <tr style=\"text-align: right;\">\n",
       "      <th></th>\n",
       "      <th>bedrooms</th>\n",
       "      <th>bathrooms</th>\n",
       "      <th>area</th>\n",
       "      <th>prices</th>\n",
       "      <th>locations</th>\n",
       "      <th>property_types</th>\n",
       "      <th>property_keywords</th>\n",
       "      <th>description</th>\n",
       "      <th>amenities</th>\n",
       "    </tr>\n",
       "  </thead>\n",
       "  <tbody>\n",
       "    <tr>\n",
       "      <th>0</th>\n",
       "      <td>1</td>\n",
       "      <td>2</td>\n",
       "      <td>883.0</td>\n",
       "      <td>77990.0</td>\n",
       "      <td>DAMAC Hills</td>\n",
       "      <td>Apartment</td>\n",
       "      <td>Brand New Furniture Vacant | 8,000AED / Month</td>\n",
       "      <td>Exclusive with fam Properties, this stunning w...</td>\n",
       "      <td>FurnishedBalcony or TerraceElevators in Building</td>\n",
       "    </tr>\n",
       "    <tr>\n",
       "      <th>1</th>\n",
       "      <td>2</td>\n",
       "      <td>3</td>\n",
       "      <td>8425.0</td>\n",
       "      <td>200000.0</td>\n",
       "      <td>Jumeirah Village Circle (JVC)</td>\n",
       "      <td>Villa</td>\n",
       "      <td>2BR+ Maid Room | Upgraded Interior with Turkis...</td>\n",
       "      <td>Exclusive with fam Properties, this stunning w...</td>\n",
       "      <td>FurnishedBalcony or TerraceElevators in Building</td>\n",
       "    </tr>\n",
       "    <tr>\n",
       "      <th>2</th>\n",
       "      <td>5</td>\n",
       "      <td>4</td>\n",
       "      <td>6002.0</td>\n",
       "      <td>600000.0</td>\n",
       "      <td>Jumeirah Golf Estates</td>\n",
       "      <td>Villa</td>\n",
       "      <td>Inverness | Earth View | Wrapped Kitchen</td>\n",
       "      <td>Exclusive with fam Properties, this stunning w...</td>\n",
       "      <td>FurnishedBalcony or TerraceElevators in Building</td>\n",
       "    </tr>\n",
       "    <tr>\n",
       "      <th>3</th>\n",
       "      <td>2</td>\n",
       "      <td>2</td>\n",
       "      <td>1200.0</td>\n",
       "      <td>60000.0</td>\n",
       "      <td>Bur Dubai</td>\n",
       "      <td>Apartment</td>\n",
       "      <td>Family Building Well Maintained 2BHK Apartment...</td>\n",
       "      <td>Exclusive with fam Properties, this stunning w...</td>\n",
       "      <td>FurnishedBalcony or TerraceElevators in Building</td>\n",
       "    </tr>\n",
       "    <tr>\n",
       "      <th>4</th>\n",
       "      <td>7</td>\n",
       "      <td>8</td>\n",
       "      <td>8000.0</td>\n",
       "      <td>950000.0</td>\n",
       "      <td>The Lakes</td>\n",
       "      <td>Villa</td>\n",
       "      <td>7 Bedrooms | Opposite The Park | 3 Floors</td>\n",
       "      <td>Exclusive with fam Properties, this stunning w...</td>\n",
       "      <td>FurnishedBalcony or TerraceElevators in Building</td>\n",
       "    </tr>\n",
       "    <tr>\n",
       "      <th>...</th>\n",
       "      <td>...</td>\n",
       "      <td>...</td>\n",
       "      <td>...</td>\n",
       "      <td>...</td>\n",
       "      <td>...</td>\n",
       "      <td>...</td>\n",
       "      <td>...</td>\n",
       "      <td>...</td>\n",
       "      <td>...</td>\n",
       "    </tr>\n",
       "    <tr>\n",
       "      <th>38203</th>\n",
       "      <td>4</td>\n",
       "      <td>4</td>\n",
       "      <td>2387.0</td>\n",
       "      <td>265000.0</td>\n",
       "      <td>Dubai Hills Estate</td>\n",
       "      <td>Villa</td>\n",
       "      <td>3M | CLOSE TO POOL | GREEN BELT | COMING UP SOON</td>\n",
       "      <td>ALSO AVAILABLE FOR SHORT TERM RENT. White and ...</td>\n",
       "      <td>-1</td>\n",
       "    </tr>\n",
       "    <tr>\n",
       "      <th>38204</th>\n",
       "      <td>1</td>\n",
       "      <td>1</td>\n",
       "      <td>800.0</td>\n",
       "      <td>33000.0</td>\n",
       "      <td>Al Warqaa</td>\n",
       "      <td>Apartment</td>\n",
       "      <td>SPACIOUS 1BHK ONE MONTH FREE GYM POOL PARKING ...</td>\n",
       "      <td>ALSO AVAILABLE FOR SHORT TERM RENT. White and ...</td>\n",
       "      <td>-1</td>\n",
       "    </tr>\n",
       "    <tr>\n",
       "      <th>38205</th>\n",
       "      <td>4</td>\n",
       "      <td>5</td>\n",
       "      <td>7437.0</td>\n",
       "      <td>700000.0</td>\n",
       "      <td>Dubai Hills Estate</td>\n",
       "      <td>Villa</td>\n",
       "      <td>Brand New 4 Bedroom Villa for Rent</td>\n",
       "      <td>ALSO AVAILABLE FOR SHORT TERM RENT. White and ...</td>\n",
       "      <td>-1</td>\n",
       "    </tr>\n",
       "    <tr>\n",
       "      <th>38206</th>\n",
       "      <td>1</td>\n",
       "      <td>1</td>\n",
       "      <td>450.0</td>\n",
       "      <td>28000.0</td>\n",
       "      <td>Deira</td>\n",
       "      <td>Apartment</td>\n",
       "      <td>1BEDROOM HALL FLAT W/AC FAMILY ONLY AVAILABLE ...</td>\n",
       "      <td>ALSO AVAILABLE FOR SHORT TERM RENT. White and ...</td>\n",
       "      <td>-1</td>\n",
       "    </tr>\n",
       "    <tr>\n",
       "      <th>38207</th>\n",
       "      <td>2</td>\n",
       "      <td>2</td>\n",
       "      <td>1422.0</td>\n",
       "      <td>170000.0</td>\n",
       "      <td>Jumeirah Beach Residence (JBR)</td>\n",
       "      <td>Apartment</td>\n",
       "      <td>Fully upgraded l Fully furnished l Vacant</td>\n",
       "      <td>ALSO AVAILABLE FOR SHORT TERM RENT. White and ...</td>\n",
       "      <td>-1</td>\n",
       "    </tr>\n",
       "  </tbody>\n",
       "</table>\n",
       "<p>165289 rows × 9 columns</p>\n",
       "</div>"
      ],
      "text/plain": [
       "       bedrooms  bathrooms    area    prices                       locations  \\\n",
       "0             1          2   883.0   77990.0                     DAMAC Hills   \n",
       "1             2          3  8425.0  200000.0   Jumeirah Village Circle (JVC)   \n",
       "2             5          4  6002.0  600000.0           Jumeirah Golf Estates   \n",
       "3             2          2  1200.0   60000.0                       Bur Dubai   \n",
       "4             7          8  8000.0  950000.0                       The Lakes   \n",
       "...         ...        ...     ...       ...                             ...   \n",
       "38203         4          4  2387.0  265000.0              Dubai Hills Estate   \n",
       "38204         1          1   800.0   33000.0                       Al Warqaa   \n",
       "38205         4          5  7437.0  700000.0              Dubai Hills Estate   \n",
       "38206         1          1   450.0   28000.0                           Deira   \n",
       "38207         2          2  1422.0  170000.0  Jumeirah Beach Residence (JBR)   \n",
       "\n",
       "      property_types                                  property_keywords  \\\n",
       "0          Apartment      Brand New Furniture Vacant | 8,000AED / Month   \n",
       "1              Villa  2BR+ Maid Room | Upgraded Interior with Turkis...   \n",
       "2              Villa           Inverness | Earth View | Wrapped Kitchen   \n",
       "3          Apartment  Family Building Well Maintained 2BHK Apartment...   \n",
       "4              Villa          7 Bedrooms | Opposite The Park | 3 Floors   \n",
       "...              ...                                                ...   \n",
       "38203          Villa   3M | CLOSE TO POOL | GREEN BELT | COMING UP SOON   \n",
       "38204      Apartment  SPACIOUS 1BHK ONE MONTH FREE GYM POOL PARKING ...   \n",
       "38205          Villa                 Brand New 4 Bedroom Villa for Rent   \n",
       "38206      Apartment  1BEDROOM HALL FLAT W/AC FAMILY ONLY AVAILABLE ...   \n",
       "38207      Apartment          Fully upgraded l Fully furnished l Vacant   \n",
       "\n",
       "                                             description  \\\n",
       "0      Exclusive with fam Properties, this stunning w...   \n",
       "1      Exclusive with fam Properties, this stunning w...   \n",
       "2      Exclusive with fam Properties, this stunning w...   \n",
       "3      Exclusive with fam Properties, this stunning w...   \n",
       "4      Exclusive with fam Properties, this stunning w...   \n",
       "...                                                  ...   \n",
       "38203  ALSO AVAILABLE FOR SHORT TERM RENT. White and ...   \n",
       "38204  ALSO AVAILABLE FOR SHORT TERM RENT. White and ...   \n",
       "38205  ALSO AVAILABLE FOR SHORT TERM RENT. White and ...   \n",
       "38206  ALSO AVAILABLE FOR SHORT TERM RENT. White and ...   \n",
       "38207  ALSO AVAILABLE FOR SHORT TERM RENT. White and ...   \n",
       "\n",
       "                                              amenities  \n",
       "0      FurnishedBalcony or TerraceElevators in Building  \n",
       "1      FurnishedBalcony or TerraceElevators in Building  \n",
       "2      FurnishedBalcony or TerraceElevators in Building  \n",
       "3      FurnishedBalcony or TerraceElevators in Building  \n",
       "4      FurnishedBalcony or TerraceElevators in Building  \n",
       "...                                                 ...  \n",
       "38203                                                -1  \n",
       "38204                                                -1  \n",
       "38205                                                -1  \n",
       "38206                                                -1  \n",
       "38207                                                -1  \n",
       "\n",
       "[165289 rows x 9 columns]"
      ]
     },
     "execution_count": 116,
     "metadata": {},
     "output_type": "execute_result"
    }
   ],
   "source": [
    "df"
   ]
  },
  {
   "cell_type": "code",
   "execution_count": 117,
   "id": "6f795fd6",
   "metadata": {
    "scrolled": true
   },
   "outputs": [
    {
     "data": {
      "text/plain": [
       "['Jumeirah Village Circle (JVC)',\n",
       " 'Downtown Dubai',\n",
       " 'Bur Dubai',\n",
       " 'Dubai Marina',\n",
       " 'Business Bay',\n",
       " 'Al Nahda (Dubai)',\n",
       " 'Al Barsha',\n",
       " 'International City',\n",
       " 'Al Jaddaf',\n",
       " 'Deira',\n",
       " 'Arjan',\n",
       " 'Dubai Silicon Oasis',\n",
       " 'Palm Jumeirah',\n",
       " 'Al Karama',\n",
       " 'The Lagoons',\n",
       " 'Al Warqaa',\n",
       " 'Dubailand',\n",
       " 'Jumeirah Beach Residence (JBR)',\n",
       " 'Dubai Hills Estate',\n",
       " 'Dubai South',\n",
       " 'Jumeirah Lake Towers (JLT)',\n",
       " 'DAMAC Hills 2 (Akoya by DAMAC)',\n",
       " 'Dubai Sports City',\n",
       " 'Mirdif',\n",
       " 'DAMAC Hills',\n",
       " 'Sheikh Zayed Road',\n",
       " 'Al Qusais',\n",
       " 'Barsha Heights (Tecom)',\n",
       " 'Al Furjan',\n",
       " 'Discovery Gardens',\n",
       " 'Al Warsan',\n",
       " 'Umm Suqeim',\n",
       " 'Jumeirah',\n",
       " 'Ras Al Khor',\n",
       " 'Mohammed Bin Rashid City',\n",
       " 'Al Quoz',\n",
       " 'Arabian Ranches 2',\n",
       " 'Dubai Harbour',\n",
       " 'Town Square',\n",
       " 'Dubai Investment Park (DIP)',\n",
       " 'Nad Al Sheba',\n",
       " 'Dubai Residence Complex',\n",
       " 'Dubai Production City (IMPZ)',\n",
       " 'Al Satwa',\n",
       " 'Meydan City',\n",
       " 'Muhaisnah',\n",
       " 'Jumeirah Park',\n",
       " 'Remraam',\n",
       " 'Al Khawaneej',\n",
       " 'Jumeirah Village Triangle (JVT)',\n",
       " 'The Gardens',\n",
       " 'Wasl Gate',\n",
       " 'The Springs',\n",
       " 'Arabian Ranches',\n",
       " 'Motor City',\n",
       " 'Al Awir',\n",
       " 'Al Garhoud',\n",
       " 'Jumeirah Golf Estates',\n",
       " 'Liwan',\n",
       " 'Nad Al Hamar',\n",
       " 'Al Mamzar',\n",
       " 'Reem',\n",
       " 'Al Mina',\n",
       " 'The Greens',\n",
       " 'The Meadows',\n",
       " 'Al Barari',\n",
       " 'Culture Village',\n",
       " 'Al Hudaiba',\n",
       " 'DIFC',\n",
       " 'Bluewaters Island',\n",
       " 'Al Sufouh',\n",
       " 'Emirates Hills',\n",
       " 'Mudon',\n",
       " 'Al Wasl',\n",
       " 'The Villa',\n",
       " 'Dubai Waterfront',\n",
       " 'The Views',\n",
       " 'Jumeirah Islands',\n",
       " 'Dubai Festival City',\n",
       " 'Dubai Media City',\n",
       " 'Al Mizhar',\n",
       " 'Al Safa',\n",
       " 'Academic City',\n",
       " 'Jebel Ali',\n",
       " 'Al Badaa',\n",
       " 'Dubai Science Park',\n",
       " 'The Hills',\n",
       " 'Dubai Industrial Park',\n",
       " 'Serena',\n",
       " 'Green Community',\n",
       " 'Downtown Jebel Ali',\n",
       " 'Al Manara',\n",
       " 'World Trade Centre',\n",
       " 'Oud Al Muteena',\n",
       " 'Al Jafiliya',\n",
       " 'Al Rashidiya',\n",
       " 'Dubai Studio City',\n",
       " 'The Lakes',\n",
       " 'Liwan 2',\n",
       " 'Umm Ramool',\n",
       " 'Arabian Ranches 3',\n",
       " 'Dubai World Central',\n",
       " 'Wadi Al Shabak',\n",
       " 'Dubai Maritime City',\n",
       " 'Wadi Al Safa 2',\n",
       " 'Pearl Jumeirah',\n",
       " 'Umm Al Sheif',\n",
       " 'Al Twar',\n",
       " 'Al Lisaili',\n",
       " 'City of Arabia',\n",
       " 'The Sustainable City',\n",
       " 'Dubai Internet City',\n",
       " 'Jumeirah Heights',\n",
       " 'Bukadra',\n",
       " 'Damac Lagoons',\n",
       " 'Nad Shamma',\n",
       " 'Deira Island',\n",
       " 'The World Islands',\n",
       " 'Palm Jebel Ali']"
      ]
     },
     "execution_count": 117,
     "metadata": {},
     "output_type": "execute_result"
    }
   ],
   "source": [
    "list(df.locations.value_counts().keys())"
   ]
  },
  {
   "cell_type": "code",
   "execution_count": 118,
   "id": "04d0d908",
   "metadata": {},
   "outputs": [
    {
     "data": {
      "text/plain": [
       "<AxesSubplot: >"
      ]
     },
     "execution_count": 118,
     "metadata": {},
     "output_type": "execute_result"
    },
    {
     "data": {
      "image/png": "[encoded data removed]",
      "text/plain": [
       "<Figure size 1080x576 with 1 Axes>"
      ]
     },
     "metadata": {},
     "output_type": "display_data"
    }
   ],
   "source": [
    "df.bathrooms.hist()"
   ]
  },
  {
   "cell_type": "code",
   "execution_count": 119,
   "id": "6517e7a0",
   "metadata": {},
   "outputs": [
    {
     "data": {
      "text/plain": [
       "<AxesSubplot: >"
      ]
     },
     "execution_count": 119,
     "metadata": {},
     "output_type": "execute_result"
    },
    {
     "data": {
      "image/png": "[encoded data removed]",
      "text/plain": [
       "<Figure size 1080x576 with 1 Axes>"
      ]
     },
     "metadata": {},
     "output_type": "display_data"
    }
   ],
   "source": [
    "df.bedrooms.hist()"
   ]
  },
  {
   "cell_type": "code",
   "execution_count": 120,
   "id": "a163b4e0",
   "metadata": {},
   "outputs": [
    {
     "data": {
      "text/plain": [
       "Jumeirah Village Circle (JVC)    14229\n",
       "Downtown Dubai                    9321\n",
       "Bur Dubai                         9102\n",
       "Dubai Marina                      8496\n",
       "Business Bay                      7388\n",
       "                                 ...  \n",
       "Damac Lagoons                        5\n",
       "Nad Shamma                           5\n",
       "Deira Island                         3\n",
       "The World Islands                    3\n",
       "Palm Jebel Ali                       2\n",
       "Name: locations, Length: 119, dtype: int64"
      ]
     },
     "execution_count": 120,
     "metadata": {},
     "output_type": "execute_result"
    }
   ],
   "source": [
    "df.locations.value_counts()"
   ]
  },
  {
   "cell_type": "code",
   "execution_count": 121,
   "id": "cee2378d",
   "metadata": {},
   "outputs": [
    {
     "data": {
      "text/plain": [
       "Apartment               132073\n",
       "Villa                    25871\n",
       "Townhouse                 5157\n",
       "Hotel Apartment           1459\n",
       "Penthouse                  629\n",
       "Residential Floor           43\n",
       "Villa Compound              37\n",
       "Residential Building        20\n",
       "Name: property_types, dtype: int64"
      ]
     },
     "execution_count": 121,
     "metadata": {},
     "output_type": "execute_result"
    }
   ],
   "source": [
    "df.property_types.value_counts()"
   ]
  },
  {
   "cell_type": "code",
   "execution_count": 122,
   "id": "d1f012f1",
   "metadata": {},
   "outputs": [
    {
     "data": {
      "text/plain": [
       "Index(['bedrooms', 'bathrooms', 'area', 'prices', 'locations',\n",
       "       'property_types', 'property_keywords', 'description', 'amenities'],\n",
       "      dtype='object')"
      ]
     },
     "execution_count": 122,
     "metadata": {},
     "output_type": "execute_result"
    }
   ],
   "source": [
    "df.columns"
   ]
  },
  {
   "cell_type": "code",
   "execution_count": 123,
   "id": "af9ace32",
   "metadata": {},
   "outputs": [
    {
     "data": {
      "text/html": [
       "<div>\n",
       "<style scoped>\n",
       "    .dataframe tbody tr th:only-of-type {\n",
       "        vertical-align: middle;\n",
       "    }\n",
       "\n",
       "    .dataframe tbody tr th {\n",
       "        vertical-align: top;\n",
       "    }\n",
       "\n",
       "    .dataframe thead th {\n",
       "        text-align: right;\n",
       "    }\n",
       "</style>\n",
       "<table border=\"1\" class=\"dataframe\">\n",
       "  <thead>\n",
       "    <tr style=\"text-align: right;\">\n",
       "      <th></th>\n",
       "      <th>bedrooms</th>\n",
       "      <th>bathrooms</th>\n",
       "      <th>area</th>\n",
       "      <th>prices</th>\n",
       "    </tr>\n",
       "  </thead>\n",
       "  <tbody>\n",
       "    <tr>\n",
       "      <th>bedrooms</th>\n",
       "      <td>1.000000</td>\n",
       "      <td>0.928059</td>\n",
       "      <td>0.641848</td>\n",
       "      <td>0.242600</td>\n",
       "    </tr>\n",
       "    <tr>\n",
       "      <th>bathrooms</th>\n",
       "      <td>0.928059</td>\n",
       "      <td>1.000000</td>\n",
       "      <td>0.650500</td>\n",
       "      <td>0.247644</td>\n",
       "    </tr>\n",
       "    <tr>\n",
       "      <th>area</th>\n",
       "      <td>0.641848</td>\n",
       "      <td>0.650500</td>\n",
       "      <td>1.000000</td>\n",
       "      <td>0.221184</td>\n",
       "    </tr>\n",
       "    <tr>\n",
       "      <th>prices</th>\n",
       "      <td>0.242600</td>\n",
       "      <td>0.247644</td>\n",
       "      <td>0.221184</td>\n",
       "      <td>1.000000</td>\n",
       "    </tr>\n",
       "  </tbody>\n",
       "</table>\n",
       "</div>"
      ],
      "text/plain": [
       "           bedrooms  bathrooms      area    prices\n",
       "bedrooms   1.000000   0.928059  0.641848  0.242600\n",
       "bathrooms  0.928059   1.000000  0.650500  0.247644\n",
       "area       0.641848   0.650500  1.000000  0.221184\n",
       "prices     0.242600   0.247644  0.221184  1.000000"
      ]
     },
     "execution_count": 123,
     "metadata": {},
     "output_type": "execute_result"
    }
   ],
   "source": [
    "corr_matrix = df[['bedrooms','bathrooms','area','prices']].corr()\n",
    "corr_matrix"
   ]
  },
  {
   "cell_type": "code",
   "execution_count": 124,
   "id": "8b0c9c25",
   "metadata": {},
   "outputs": [
    {
     "data": {
      "text/plain": [
       "<AxesSubplot: >"
      ]
     },
     "execution_count": 124,
     "metadata": {},
     "output_type": "execute_result"
    },
    {
     "data": {
      "image/png": "[encoded data removed]",
      "text/plain": [
       "<Figure size 1080x576 with 2 Axes>"
      ]
     },
     "metadata": {},
     "output_type": "display_data"
    }
   ],
   "source": [
    "sns.heatmap(corr_matrix,vmin=-1, vmax=1, annot=True,cmap='BrBG')"
   ]
  },
  {
   "cell_type": "code",
   "execution_count": 125,
   "id": "2fb24cfd",
   "metadata": {},
   "outputs": [
    {
     "data": {
      "image/png": "[encoded data removed]",
      "text/plain": [
       "<Figure size 1080x576 with 1 Axes>"
      ]
     },
     "metadata": {},
     "output_type": "display_data"
    },
    {
     "data": {
      "image/png": "[encoded data removed]",
      "text/plain": [
       "<Figure size 1080x576 with 1 Axes>"
      ]
     },
     "metadata": {},
     "output_type": "display_data"
    }
   ],
   "source": [
    "sns.set(rc = {'figure.figsize':(15,8)})\n",
    "df_cat = df[['locations','property_types']]\n",
    "for i in df_cat.columns:\n",
    "    cat_num = df_cat[i].value_counts()\n",
    "    chart = sns.barplot(x=cat_num.index,y=cat_num)\n",
    "    chart.set_xticklabels(chart.get_xticklabels(),rotation=90)\n",
    "    chart.set_yscale('log')\n",
    "    chart.set(title=f\"{i}, total= {len(cat_num)}\")\n",
    "    plt.show()"
   ]
  },
  {
   "cell_type": "markdown",
   "id": "d627c41d",
   "metadata": {},
   "source": [
    "# Feature Engineering"
   ]
  },
  {
   "cell_type": "markdown",
   "id": "e91810ae",
   "metadata": {},
   "source": [
    "### Pool"
   ]
  },
  {
   "cell_type": "code",
   "execution_count": 126,
   "id": "aed3882f",
   "metadata": {},
   "outputs": [],
   "source": [
    "df['pool'] = df.apply(lambda x: 1 if 'pool' in x.description.lower() or 'pool' in x.amenities.lower() or 'pool' in x.property_keywords.lower() else 0  ,axis=1)"
   ]
  },
  {
   "cell_type": "code",
   "execution_count": 127,
   "id": "c88f3eb1",
   "metadata": {},
   "outputs": [
    {
     "data": {
      "text/plain": [
       "1    126516\n",
       "0     38773\n",
       "Name: pool, dtype: int64"
      ]
     },
     "execution_count": 127,
     "metadata": {},
     "output_type": "execute_result"
    }
   ],
   "source": [
    "df.pool.value_counts()"
   ]
  },
  {
   "cell_type": "markdown",
   "id": "9c6279c3",
   "metadata": {},
   "source": [
    "### Balcony"
   ]
  },
  {
   "cell_type": "code",
   "execution_count": 128,
   "id": "8d2679ca",
   "metadata": {},
   "outputs": [
    {
     "data": {
      "text/plain": [
       "1    127188\n",
       "0     38101\n",
       "Name: balcony, dtype: int64"
      ]
     },
     "execution_count": 128,
     "metadata": {},
     "output_type": "execute_result"
    }
   ],
   "source": [
    "df['balcony'] = df.apply(lambda x: 1 \n",
    "                         if 'balcony' in x.description.lower() or 'terrace' in x.description.lower()\n",
    "                         or 'balcony' in x.amenities.lower()  or 'terrace' in x.amenities.lower()\n",
    "                         or 'balcony' in x.property_keywords.lower() or 'terrace' in x.property_keywords.lower() \n",
    "                         else 0  ,axis=1)\n",
    "df.balcony.value_counts()\n"
   ]
  },
  {
   "cell_type": "markdown",
   "id": "f4db3b2d",
   "metadata": {},
   "source": [
    "### Furnished"
   ]
  },
  {
   "cell_type": "code",
   "execution_count": 129,
   "id": "53fc7648",
   "metadata": {},
   "outputs": [
    {
     "data": {
      "text/plain": [
       "0    91741\n",
       "1    73548\n",
       "Name: furnished, dtype: int64"
      ]
     },
     "execution_count": 129,
     "metadata": {},
     "output_type": "execute_result"
    }
   ],
   "source": [
    "df['furnished'] = df.apply(lambda x: 1 \n",
    "                         if 'furnished' in x.description.lower() \n",
    "                         or 'furnished' in x.amenities.lower() \n",
    "                         or 'furnished' in x.property_keywords.lower() \n",
    "                         else 0  ,axis=1)\n",
    "df.furnished.value_counts()\n"
   ]
  },
  {
   "cell_type": "markdown",
   "id": "05571292",
   "metadata": {},
   "source": [
    "### Maid's room"
   ]
  },
  {
   "cell_type": "code",
   "execution_count": 130,
   "id": "6003d04a",
   "metadata": {},
   "outputs": [
    {
     "data": {
      "text/plain": [
       "0    91741\n",
       "1    73548\n",
       "Name: furnished, dtype: int64"
      ]
     },
     "execution_count": 130,
     "metadata": {},
     "output_type": "execute_result"
    }
   ],
   "source": [
    "df['maid'] = df.apply(lambda x: 1 \n",
    "                         if 'maid' in x.description.lower() \n",
    "                         or 'maid' in x.amenities.lower() \n",
    "                         or 'maid' in x.property_keywords.lower() \n",
    "                         else 0  ,axis=1)\n",
    "df.furnished.value_counts()\n"
   ]
  },
  {
   "cell_type": "markdown",
   "id": "b385adc3",
   "metadata": {},
   "source": [
    "### Gym"
   ]
  },
  {
   "cell_type": "code",
   "execution_count": 131,
   "id": "2253ee0f",
   "metadata": {},
   "outputs": [
    {
     "data": {
      "text/plain": [
       "1    124452\n",
       "0     40837\n",
       "Name: gym, dtype: int64"
      ]
     },
     "execution_count": 131,
     "metadata": {},
     "output_type": "execute_result"
    }
   ],
   "source": [
    "df['gym'] = df.apply(lambda x: 1 \n",
    "                         if 'gym' in x.description.lower() or 'fitness' in x.description.lower() or 'gymnasium' in x.description.lower() \n",
    "                         or 'gym' in x.amenities.lower() or 'fitness' in x.amenities.lower() or 'gymnasium' in x.amenities.lower() \n",
    "                         or 'gym' in x.property_keywords.lower() or 'fitness' in x.property_keywords.lower() or 'gymnasium' in x.property_keywords.lower() \n",
    "                         else 0  ,axis=1)\n",
    "df.gym.value_counts()"
   ]
  },
  {
   "cell_type": "markdown",
   "id": "1c159a59",
   "metadata": {},
   "source": [
    "### Brand New"
   ]
  },
  {
   "cell_type": "code",
   "execution_count": 132,
   "id": "19d27ed2",
   "metadata": {},
   "outputs": [
    {
     "data": {
      "text/plain": [
       "0    123284\n",
       "1     42005\n",
       "Name: brand_new, dtype: int64"
      ]
     },
     "execution_count": 132,
     "metadata": {},
     "output_type": "execute_result"
    }
   ],
   "source": [
    "df['brand_new'] = df.apply(lambda x: 1 \n",
    "                         if 'brand new' in x.description.lower()\n",
    "                         or 'brand new' in x.amenities.lower() \n",
    "                         or 'brand new' in x.property_keywords.lower()\n",
    "                         else 0  ,axis=1)\n",
    "df.brand_new.value_counts()"
   ]
  },
  {
   "cell_type": "markdown",
   "id": "06849e9c",
   "metadata": {},
   "source": [
    "### Burj Khalifa View"
   ]
  },
  {
   "cell_type": "code",
   "execution_count": 133,
   "id": "64310ae6",
   "metadata": {},
   "outputs": [
    {
     "data": {
      "text/plain": [
       "0    150287\n",
       "1     15002\n",
       "Name: burj_view, dtype: int64"
      ]
     },
     "execution_count": 133,
     "metadata": {},
     "output_type": "execute_result"
    }
   ],
   "source": [
    "df['burj_view'] = df.apply(lambda x: 1 \n",
    "                         if ('burj khalifa' in x.description.lower() and 'view' in x.description.lower())\n",
    "                         or ('burj khalifa' in x.amenities.lower()  and 'view' in x.amenities.lower())\n",
    "                         or ('burj khalifa' in x.property_keywords.lower() and 'view' in x.property_keywords.lower())\n",
    "                         else 0  ,axis=1)\n",
    "df.burj_view.value_counts()"
   ]
  },
  {
   "cell_type": "markdown",
   "id": "1df1603e",
   "metadata": {},
   "source": [
    "### Sea View"
   ]
  },
  {
   "cell_type": "code",
   "execution_count": 134,
   "id": "afaa70bd",
   "metadata": {},
   "outputs": [
    {
     "data": {
      "text/plain": [
       "0    154105\n",
       "1     11184\n",
       "Name: sea_view, dtype: int64"
      ]
     },
     "execution_count": 134,
     "metadata": {},
     "output_type": "execute_result"
    }
   ],
   "source": [
    "df['sea_view'] = df.apply(lambda x: 1 \n",
    "                         if 'sea view' in x.description.lower() \n",
    "                         or 'sea view' in x.amenities.lower()\n",
    "                         or 'sea view' in x.property_keywords.lower()\n",
    "                         else 0  ,axis=1)\n",
    "df.sea_view.value_counts()"
   ]
  },
  {
   "cell_type": "markdown",
   "id": "3e18d1af",
   "metadata": {},
   "source": [
    "### At beach or proximity to beach"
   ]
  },
  {
   "cell_type": "code",
   "execution_count": 135,
   "id": "9e291563",
   "metadata": {},
   "outputs": [
    {
     "data": {
      "text/plain": [
       "0    148888\n",
       "1     16401\n",
       "Name: beach, dtype: int64"
      ]
     },
     "execution_count": 135,
     "metadata": {},
     "output_type": "execute_result"
    }
   ],
   "source": [
    "df['beach'] = df.apply(lambda x: 1 \n",
    "                         if 'beach'in x.description.lower()\n",
    "                         or 'beach'  in x.amenities.lower() \n",
    "                         or 'beach'  in x.property_keywords.lower()\n",
    "                         else 0  ,axis=1)\n",
    "df.beach.value_counts()"
   ]
  },
  {
   "cell_type": "markdown",
   "id": "81bafa46",
   "metadata": {},
   "source": [
    "### Removing some outliers"
   ]
  },
  {
   "cell_type": "code",
   "execution_count": 136,
   "id": "2c776a84",
   "metadata": {},
   "outputs": [
    {
     "name": "stdout",
     "output_type": "stream",
     "text": [
      "So far, we have 165289 observations.\n"
     ]
    }
   ],
   "source": [
    "print(f\"So far, we have {len(df)} observations.\")"
   ]
  },
  {
   "cell_type": "code",
   "execution_count": 91,
   "id": "e98a6e30",
   "metadata": {},
   "outputs": [],
   "source": [
    "df['price_per_sqft'] = df['prices']/df['area']"
   ]
  },
  {
   "cell_type": "code",
   "execution_count": 92,
   "id": "ff7741fe",
   "metadata": {
    "scrolled": false
   },
   "outputs": [
    {
     "data": {
      "text/plain": [
       "count    165289.000000\n",
       "mean         88.241793\n",
       "std         444.868499\n",
       "min           0.001125\n",
       "25%          47.896710\n",
       "50%          65.116279\n",
       "75%         100.250627\n",
       "max       59426.229508\n",
       "Name: price_per_sqft, dtype: float64"
      ]
     },
     "execution_count": 92,
     "metadata": {},
     "output_type": "execute_result"
    }
   ],
   "source": [
    "df.price_per_sqft.describe()"
   ]
  },
  {
   "cell_type": "code",
   "execution_count": 101,
   "id": "29d77d4f",
   "metadata": {},
   "outputs": [
    {
     "data": {
      "image/png": "[encoded data removed]",
      "text/plain": [
       "<Figure size 1080x576 with 1 Axes>"
      ]
     },
     "metadata": {},
     "output_type": "display_data"
    }
   ],
   "source": [
    "fig, ax = plt.subplots()\n",
    "sns.histplot(df.price_per_sqft)\n",
    "ax.set_xlim(0,500)\n",
    "plt.show()"
   ]
  },
  {
   "cell_type": "code",
   "execution_count": 94,
   "id": "04bf0b78",
   "metadata": {},
   "outputs": [],
   "source": [
    "# Source: https://www.youtube.com/watch?v=cbqZa_1vzcg&list=PLeo1K3hjS3uu7clOTtwsp94PcHbzqpAdg&index=4&ab_channel=codebasics\n",
    "def remove_price_persqft_outliers(df):\n",
    "    df_out = pd.DataFrame()\n",
    "    for key, subdf in df.groupby('locations'):\n",
    "        m = np.mean(subdf.price_per_sqft)\n",
    "        st = np.std(subdf.price_per_sqft)\n",
    "        reduced_df = subdf[(subdf.price_per_sqft>(m-st)) & (subdf.price_per_sqft<=(m+st))]\n",
    "        df_out = pd.concat([df_out,reduced_df],ignore_index=True)\n",
    "    return df_out\n",
    "        "
   ]
  },
  {
   "cell_type": "code",
   "execution_count": 95,
   "id": "55e9fc74",
   "metadata": {
    "scrolled": true
   },
   "outputs": [
    {
     "name": "stdout",
     "output_type": "stream",
     "text": [
      "Now we have 135987 observations.\n"
     ]
    }
   ],
   "source": [
    "df = remove_price_persqft_outliers(df)\n",
    "print(f\"Now we have {len(df)} observations.\")"
   ]
  },
  {
   "cell_type": "code",
   "execution_count": 99,
   "id": "9664cf50",
   "metadata": {},
   "outputs": [
    {
     "data": {
      "text/html": [
       "<div>\n",
       "<style scoped>\n",
       "    .dataframe tbody tr th:only-of-type {\n",
       "        vertical-align: middle;\n",
       "    }\n",
       "\n",
       "    .dataframe tbody tr th {\n",
       "        vertical-align: top;\n",
       "    }\n",
       "\n",
       "    .dataframe thead th {\n",
       "        text-align: right;\n",
       "    }\n",
       "</style>\n",
       "<table border=\"1\" class=\"dataframe\">\n",
       "  <thead>\n",
       "    <tr style=\"text-align: right;\">\n",
       "      <th></th>\n",
       "      <th>bedrooms</th>\n",
       "      <th>bathrooms</th>\n",
       "      <th>area</th>\n",
       "      <th>prices</th>\n",
       "      <th>locations</th>\n",
       "      <th>property_types</th>\n",
       "      <th>pool</th>\n",
       "      <th>balcony</th>\n",
       "      <th>furnished</th>\n",
       "      <th>maid</th>\n",
       "      <th>gym</th>\n",
       "      <th>brand_new</th>\n",
       "      <th>burj_view</th>\n",
       "      <th>sea_view</th>\n",
       "      <th>beach</th>\n",
       "    </tr>\n",
       "  </thead>\n",
       "  <tbody>\n",
       "    <tr>\n",
       "      <th>0</th>\n",
       "      <td>0</td>\n",
       "      <td>1</td>\n",
       "      <td>410.0</td>\n",
       "      <td>21500.0</td>\n",
       "      <td>Academic City</td>\n",
       "      <td>Apartment</td>\n",
       "      <td>0</td>\n",
       "      <td>0</td>\n",
       "      <td>1</td>\n",
       "      <td>0</td>\n",
       "      <td>0</td>\n",
       "      <td>0</td>\n",
       "      <td>0</td>\n",
       "      <td>0</td>\n",
       "      <td>0</td>\n",
       "    </tr>\n",
       "    <tr>\n",
       "      <th>1</th>\n",
       "      <td>0</td>\n",
       "      <td>1</td>\n",
       "      <td>385.0</td>\n",
       "      <td>21500.0</td>\n",
       "      <td>Academic City</td>\n",
       "      <td>Apartment</td>\n",
       "      <td>0</td>\n",
       "      <td>0</td>\n",
       "      <td>0</td>\n",
       "      <td>0</td>\n",
       "      <td>0</td>\n",
       "      <td>0</td>\n",
       "      <td>0</td>\n",
       "      <td>0</td>\n",
       "      <td>0</td>\n",
       "    </tr>\n",
       "    <tr>\n",
       "      <th>2</th>\n",
       "      <td>0</td>\n",
       "      <td>1</td>\n",
       "      <td>410.0</td>\n",
       "      <td>21500.0</td>\n",
       "      <td>Academic City</td>\n",
       "      <td>Apartment</td>\n",
       "      <td>0</td>\n",
       "      <td>1</td>\n",
       "      <td>0</td>\n",
       "      <td>0</td>\n",
       "      <td>1</td>\n",
       "      <td>0</td>\n",
       "      <td>0</td>\n",
       "      <td>0</td>\n",
       "      <td>0</td>\n",
       "    </tr>\n",
       "    <tr>\n",
       "      <th>3</th>\n",
       "      <td>0</td>\n",
       "      <td>1</td>\n",
       "      <td>350.0</td>\n",
       "      <td>21500.0</td>\n",
       "      <td>Academic City</td>\n",
       "      <td>Apartment</td>\n",
       "      <td>1</td>\n",
       "      <td>1</td>\n",
       "      <td>0</td>\n",
       "      <td>1</td>\n",
       "      <td>1</td>\n",
       "      <td>0</td>\n",
       "      <td>0</td>\n",
       "      <td>0</td>\n",
       "      <td>0</td>\n",
       "    </tr>\n",
       "    <tr>\n",
       "      <th>4</th>\n",
       "      <td>0</td>\n",
       "      <td>1</td>\n",
       "      <td>385.0</td>\n",
       "      <td>21500.0</td>\n",
       "      <td>Academic City</td>\n",
       "      <td>Apartment</td>\n",
       "      <td>1</td>\n",
       "      <td>1</td>\n",
       "      <td>1</td>\n",
       "      <td>0</td>\n",
       "      <td>0</td>\n",
       "      <td>0</td>\n",
       "      <td>0</td>\n",
       "      <td>0</td>\n",
       "      <td>0</td>\n",
       "    </tr>\n",
       "    <tr>\n",
       "      <th>...</th>\n",
       "      <td>...</td>\n",
       "      <td>...</td>\n",
       "      <td>...</td>\n",
       "      <td>...</td>\n",
       "      <td>...</td>\n",
       "      <td>...</td>\n",
       "      <td>...</td>\n",
       "      <td>...</td>\n",
       "      <td>...</td>\n",
       "      <td>...</td>\n",
       "      <td>...</td>\n",
       "      <td>...</td>\n",
       "      <td>...</td>\n",
       "      <td>...</td>\n",
       "      <td>...</td>\n",
       "    </tr>\n",
       "    <tr>\n",
       "      <th>135982</th>\n",
       "      <td>3</td>\n",
       "      <td>4</td>\n",
       "      <td>1806.0</td>\n",
       "      <td>152000.0</td>\n",
       "      <td>World Trade Centre</td>\n",
       "      <td>Apartment</td>\n",
       "      <td>0</td>\n",
       "      <td>1</td>\n",
       "      <td>1</td>\n",
       "      <td>0</td>\n",
       "      <td>0</td>\n",
       "      <td>0</td>\n",
       "      <td>0</td>\n",
       "      <td>0</td>\n",
       "      <td>0</td>\n",
       "    </tr>\n",
       "    <tr>\n",
       "      <th>135983</th>\n",
       "      <td>3</td>\n",
       "      <td>4</td>\n",
       "      <td>1806.0</td>\n",
       "      <td>152000.0</td>\n",
       "      <td>World Trade Centre</td>\n",
       "      <td>Apartment</td>\n",
       "      <td>1</td>\n",
       "      <td>1</td>\n",
       "      <td>1</td>\n",
       "      <td>0</td>\n",
       "      <td>1</td>\n",
       "      <td>0</td>\n",
       "      <td>0</td>\n",
       "      <td>0</td>\n",
       "      <td>0</td>\n",
       "    </tr>\n",
       "    <tr>\n",
       "      <th>135984</th>\n",
       "      <td>2</td>\n",
       "      <td>3</td>\n",
       "      <td>1829.0</td>\n",
       "      <td>175000.0</td>\n",
       "      <td>World Trade Centre</td>\n",
       "      <td>Apartment</td>\n",
       "      <td>0</td>\n",
       "      <td>1</td>\n",
       "      <td>1</td>\n",
       "      <td>1</td>\n",
       "      <td>0</td>\n",
       "      <td>0</td>\n",
       "      <td>0</td>\n",
       "      <td>0</td>\n",
       "      <td>0</td>\n",
       "    </tr>\n",
       "    <tr>\n",
       "      <th>135985</th>\n",
       "      <td>3</td>\n",
       "      <td>3</td>\n",
       "      <td>1806.0</td>\n",
       "      <td>152000.0</td>\n",
       "      <td>World Trade Centre</td>\n",
       "      <td>Hotel Apartment</td>\n",
       "      <td>0</td>\n",
       "      <td>1</td>\n",
       "      <td>1</td>\n",
       "      <td>0</td>\n",
       "      <td>0</td>\n",
       "      <td>0</td>\n",
       "      <td>0</td>\n",
       "      <td>0</td>\n",
       "      <td>0</td>\n",
       "    </tr>\n",
       "    <tr>\n",
       "      <th>135986</th>\n",
       "      <td>3</td>\n",
       "      <td>4</td>\n",
       "      <td>2786.0</td>\n",
       "      <td>299900.0</td>\n",
       "      <td>World Trade Centre</td>\n",
       "      <td>Apartment</td>\n",
       "      <td>1</td>\n",
       "      <td>1</td>\n",
       "      <td>0</td>\n",
       "      <td>0</td>\n",
       "      <td>1</td>\n",
       "      <td>0</td>\n",
       "      <td>0</td>\n",
       "      <td>0</td>\n",
       "      <td>0</td>\n",
       "    </tr>\n",
       "  </tbody>\n",
       "</table>\n",
       "<p>135987 rows × 15 columns</p>\n",
       "</div>"
      ],
      "text/plain": [
       "        bedrooms  bathrooms    area    prices           locations  \\\n",
       "0              0          1   410.0   21500.0       Academic City   \n",
       "1              0          1   385.0   21500.0       Academic City   \n",
       "2              0          1   410.0   21500.0       Academic City   \n",
       "3              0          1   350.0   21500.0       Academic City   \n",
       "4              0          1   385.0   21500.0       Academic City   \n",
       "...          ...        ...     ...       ...                 ...   \n",
       "135982         3          4  1806.0  152000.0  World Trade Centre   \n",
       "135983         3          4  1806.0  152000.0  World Trade Centre   \n",
       "135984         2          3  1829.0  175000.0  World Trade Centre   \n",
       "135985         3          3  1806.0  152000.0  World Trade Centre   \n",
       "135986         3          4  2786.0  299900.0  World Trade Centre   \n",
       "\n",
       "         property_types  pool  balcony  furnished  maid  gym  brand_new  \\\n",
       "0             Apartment     0        0          1     0    0          0   \n",
       "1             Apartment     0        0          0     0    0          0   \n",
       "2             Apartment     0        1          0     0    1          0   \n",
       "3             Apartment     1        1          0     1    1          0   \n",
       "4             Apartment     1        1          1     0    0          0   \n",
       "...                 ...   ...      ...        ...   ...  ...        ...   \n",
       "135982        Apartment     0        1          1     0    0          0   \n",
       "135983        Apartment     1        1          1     0    1          0   \n",
       "135984        Apartment     0        1          1     1    0          0   \n",
       "135985  Hotel Apartment     0        1          1     0    0          0   \n",
       "135986        Apartment     1        1          0     0    1          0   \n",
       "\n",
       "        burj_view  sea_view  beach  \n",
       "0               0         0      0  \n",
       "1               0         0      0  \n",
       "2               0         0      0  \n",
       "3               0         0      0  \n",
       "4               0         0      0  \n",
       "...           ...       ...    ...  \n",
       "135982          0         0      0  \n",
       "135983          0         0      0  \n",
       "135984          0         0      0  \n",
       "135985          0         0      0  \n",
       "135986          0         0      0  \n",
       "\n",
       "[135987 rows x 15 columns]"
      ]
     },
     "execution_count": 99,
     "metadata": {},
     "output_type": "execute_result"
    }
   ],
   "source": [
    "df_final = df[['bedrooms', 'bathrooms', 'area', 'prices', 'locations',\n",
    "               'property_types','pool', 'balcony', 'furnished', 'maid', 'gym', 'brand_new', 'burj_view',\n",
    "               'sea_view', 'beach']]\n",
    "df_final"
   ]
  },
  {
   "cell_type": "code",
   "execution_count": 100,
   "id": "a5d62a6a",
   "metadata": {},
   "outputs": [],
   "source": [
    "df_final.to_csv('properties_cleaned_engineered.csv',index=False)"
   ]
  }
 ],
 "metadata": {
  "kernelspec": {
   "display_name": "ds",
   "language": "python",
   "name": "ds"
  },
  "language_info": {
   "codemirror_mode": {
    "name": "ipython",
    "version": 3
   },
   "file_extension": ".py",
   "mimetype": "text/x-python",
   "name": "python",
   "nbconvert_exporter": "python",
   "pygments_lexer": "ipython3",
   "version": "3.10.8"
  }
 },
 "nbformat": 4,
 "nbformat_minor": 5
}
